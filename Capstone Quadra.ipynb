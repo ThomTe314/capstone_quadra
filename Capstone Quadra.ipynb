{
 "cells": [
  {
   "cell_type": "code",
   "execution_count": 1,
   "metadata": {
    "ExecuteTime": {
     "end_time": "2020-07-28T09:56:56.063481Z",
     "start_time": "2020-07-28T09:56:54.457521Z"
    }
   },
   "outputs": [],
   "source": [
    "import pickle\n",
    "import pandas as pd\n",
    "import numpy as np\n",
    "import matplotlib.pyplot as plt\n",
    "import seaborn as sns\n",
    "import datetime as dt\n",
    "#import missingno"
   ]
  },
  {
   "cell_type": "markdown",
   "metadata": {},
   "source": [
    "# Data Exploration"
   ]
  },
  {
   "cell_type": "markdown",
   "metadata": {},
   "source": [
    "## Look and Load"
   ]
  },
  {
   "cell_type": "code",
   "execution_count": 2,
   "metadata": {
    "ExecuteTime": {
     "end_time": "2020-07-28T09:56:56.068486Z",
     "start_time": "2020-07-28T09:56:56.064492Z"
    }
   },
   "outputs": [],
   "source": [
    "def load_pickle(file):\n",
    "    objects = []\n",
    "    with open(file, \"rb\") as openfile:\n",
    "        u = pickle._Unpickler(openfile)\n",
    "        u.encoding = 'latin1'\n",
    "        df = u.load()\n",
    "    return df"
   ]
  },
  {
   "cell_type": "code",
   "execution_count": 3,
   "metadata": {
    "ExecuteTime": {
     "end_time": "2020-07-28T09:56:56.151562Z",
     "start_time": "2020-07-28T09:56:56.070489Z"
    }
   },
   "outputs": [],
   "source": [
    "wthr_df = load_pickle(\"griddata_gfs_us_20180101_20190826_03_final.p\")"
   ]
  },
  {
   "cell_type": "code",
   "execution_count": 4,
   "metadata": {
    "ExecuteTime": {
     "end_time": "2020-07-28T09:56:56.184592Z",
     "start_time": "2020-07-28T09:56:56.153566Z"
    }
   },
   "outputs": [
    {
     "data": {
      "text/html": [
       "<div>\n",
       "<style scoped>\n",
       "    .dataframe tbody tr th:only-of-type {\n",
       "        vertical-align: middle;\n",
       "    }\n",
       "\n",
       "    .dataframe tbody tr th {\n",
       "        vertical-align: top;\n",
       "    }\n",
       "\n",
       "    .dataframe thead th {\n",
       "        text-align: right;\n",
       "    }\n",
       "</style>\n",
       "<table border=\"1\" class=\"dataframe\">\n",
       "  <thead>\n",
       "    <tr style=\"text-align: right;\">\n",
       "      <th></th>\n",
       "      <th>dswrf_sfc_wm2</th>\n",
       "      <th>gust_sfc_ms</th>\n",
       "      <th>hpbl_sfc_m</th>\n",
       "      <th>msl_ms_pa</th>\n",
       "      <th>pottemp_80mto0m_K</th>\n",
       "      <th>q_2m_1</th>\n",
       "      <th>q_pfg30_1</th>\n",
       "      <th>r_pl925_%</th>\n",
       "      <th>r_pl950_%</th>\n",
       "      <th>shtfl_sfc_wm2</th>\n",
       "      <th>...</th>\n",
       "      <th>wdir_10m_dn</th>\n",
       "      <th>wdir_pfg30_dn</th>\n",
       "      <th>wdir_pl925_dn</th>\n",
       "      <th>wsp_100m_ms</th>\n",
       "      <th>wsp_10m_ms</th>\n",
       "      <th>wsp_pfg30_ms</th>\n",
       "      <th>wsp_pl925_ms</th>\n",
       "      <th>created_on</th>\n",
       "      <th>azimuth</th>\n",
       "      <th>elevation</th>\n",
       "    </tr>\n",
       "    <tr>\n",
       "      <th>index</th>\n",
       "      <th></th>\n",
       "      <th></th>\n",
       "      <th></th>\n",
       "      <th></th>\n",
       "      <th></th>\n",
       "      <th></th>\n",
       "      <th></th>\n",
       "      <th></th>\n",
       "      <th></th>\n",
       "      <th></th>\n",
       "      <th></th>\n",
       "      <th></th>\n",
       "      <th></th>\n",
       "      <th></th>\n",
       "      <th></th>\n",
       "      <th></th>\n",
       "      <th></th>\n",
       "      <th></th>\n",
       "      <th></th>\n",
       "      <th></th>\n",
       "      <th></th>\n",
       "    </tr>\n",
       "  </thead>\n",
       "  <tbody>\n",
       "    <tr>\n",
       "      <th>2018-01-01 06:00:00+00:00</th>\n",
       "      <td>0.0</td>\n",
       "      <td>16.777032</td>\n",
       "      <td>1349.927656</td>\n",
       "      <td>99212.0625</td>\n",
       "      <td>0.559356</td>\n",
       "      <td>0.005105</td>\n",
       "      <td>0.004852</td>\n",
       "      <td>89.975</td>\n",
       "      <td>83.075</td>\n",
       "      <td>-58.444885</td>\n",
       "      <td>...</td>\n",
       "      <td>51.936818</td>\n",
       "      <td>54.855777</td>\n",
       "      <td>58.963042</td>\n",
       "      <td>16.548291</td>\n",
       "      <td>9.772748</td>\n",
       "      <td>16.622077</td>\n",
       "      <td>21.963719</td>\n",
       "      <td>2018-01-01 00:00:00+00:00</td>\n",
       "      <td>111.880959</td>\n",
       "      <td>-12.132894</td>\n",
       "    </tr>\n",
       "    <tr>\n",
       "      <th>2018-01-01 07:00:00+00:00</th>\n",
       "      <td>0.0</td>\n",
       "      <td>16.606744</td>\n",
       "      <td>1352.623506</td>\n",
       "      <td>99259.8125</td>\n",
       "      <td>0.528755</td>\n",
       "      <td>0.005005</td>\n",
       "      <td>0.004739</td>\n",
       "      <td>89.250</td>\n",
       "      <td>82.250</td>\n",
       "      <td>-59.127808</td>\n",
       "      <td>...</td>\n",
       "      <td>59.839207</td>\n",
       "      <td>62.809819</td>\n",
       "      <td>66.607932</td>\n",
       "      <td>16.795002</td>\n",
       "      <td>9.966123</td>\n",
       "      <td>16.832585</td>\n",
       "      <td>21.917341</td>\n",
       "      <td>2018-01-01 00:00:00+00:00</td>\n",
       "      <td>122.901711</td>\n",
       "      <td>-3.799353</td>\n",
       "    </tr>\n",
       "    <tr>\n",
       "      <th>2018-01-01 08:00:00+00:00</th>\n",
       "      <td>0.0</td>\n",
       "      <td>16.750567</td>\n",
       "      <td>1385.881213</td>\n",
       "      <td>99340.0125</td>\n",
       "      <td>0.519516</td>\n",
       "      <td>0.004875</td>\n",
       "      <td>0.004601</td>\n",
       "      <td>88.350</td>\n",
       "      <td>81.475</td>\n",
       "      <td>-60.174194</td>\n",
       "      <td>...</td>\n",
       "      <td>66.846392</td>\n",
       "      <td>69.702886</td>\n",
       "      <td>73.395684</td>\n",
       "      <td>17.187174</td>\n",
       "      <td>10.191553</td>\n",
       "      <td>17.103298</td>\n",
       "      <td>22.151705</td>\n",
       "      <td>2018-01-01 00:00:00+00:00</td>\n",
       "      <td>134.513901</td>\n",
       "      <td>3.528108</td>\n",
       "    </tr>\n",
       "    <tr>\n",
       "      <th>2018-01-01 09:00:00+00:00</th>\n",
       "      <td>30.0</td>\n",
       "      <td>16.653720</td>\n",
       "      <td>1406.317913</td>\n",
       "      <td>99435.6875</td>\n",
       "      <td>0.462775</td>\n",
       "      <td>0.004693</td>\n",
       "      <td>0.004395</td>\n",
       "      <td>85.400</td>\n",
       "      <td>78.575</td>\n",
       "      <td>-61.376221</td>\n",
       "      <td>...</td>\n",
       "      <td>69.538877</td>\n",
       "      <td>72.116654</td>\n",
       "      <td>75.992542</td>\n",
       "      <td>16.804585</td>\n",
       "      <td>10.074198</td>\n",
       "      <td>16.507619</td>\n",
       "      <td>21.857454</td>\n",
       "      <td>2018-01-01 00:00:00+00:00</td>\n",
       "      <td>146.969666</td>\n",
       "      <td>9.473817</td>\n",
       "    </tr>\n",
       "    <tr>\n",
       "      <th>2018-01-01 10:00:00+00:00</th>\n",
       "      <td>70.0</td>\n",
       "      <td>16.143047</td>\n",
       "      <td>1413.328074</td>\n",
       "      <td>99523.6750</td>\n",
       "      <td>0.395166</td>\n",
       "      <td>0.004618</td>\n",
       "      <td>0.004322</td>\n",
       "      <td>85.275</td>\n",
       "      <td>78.300</td>\n",
       "      <td>-50.711792</td>\n",
       "      <td>...</td>\n",
       "      <td>67.391618</td>\n",
       "      <td>69.753380</td>\n",
       "      <td>73.848494</td>\n",
       "      <td>15.970588</td>\n",
       "      <td>9.719457</td>\n",
       "      <td>15.561127</td>\n",
       "      <td>21.082533</td>\n",
       "      <td>2018-01-01 00:00:00+00:00</td>\n",
       "      <td>160.319397</td>\n",
       "      <td>13.648098</td>\n",
       "    </tr>\n",
       "  </tbody>\n",
       "</table>\n",
       "<p>5 rows × 26 columns</p>\n",
       "</div>"
      ],
      "text/plain": [
       "                           dswrf_sfc_wm2  gust_sfc_ms   hpbl_sfc_m  \\\n",
       "index                                                                \n",
       "2018-01-01 06:00:00+00:00            0.0    16.777032  1349.927656   \n",
       "2018-01-01 07:00:00+00:00            0.0    16.606744  1352.623506   \n",
       "2018-01-01 08:00:00+00:00            0.0    16.750567  1385.881213   \n",
       "2018-01-01 09:00:00+00:00           30.0    16.653720  1406.317913   \n",
       "2018-01-01 10:00:00+00:00           70.0    16.143047  1413.328074   \n",
       "\n",
       "                            msl_ms_pa  pottemp_80mto0m_K    q_2m_1  q_pfg30_1  \\\n",
       "index                                                                           \n",
       "2018-01-01 06:00:00+00:00  99212.0625           0.559356  0.005105   0.004852   \n",
       "2018-01-01 07:00:00+00:00  99259.8125           0.528755  0.005005   0.004739   \n",
       "2018-01-01 08:00:00+00:00  99340.0125           0.519516  0.004875   0.004601   \n",
       "2018-01-01 09:00:00+00:00  99435.6875           0.462775  0.004693   0.004395   \n",
       "2018-01-01 10:00:00+00:00  99523.6750           0.395166  0.004618   0.004322   \n",
       "\n",
       "                           r_pl925_%  r_pl950_%  shtfl_sfc_wm2  ...  \\\n",
       "index                                                           ...   \n",
       "2018-01-01 06:00:00+00:00     89.975     83.075     -58.444885  ...   \n",
       "2018-01-01 07:00:00+00:00     89.250     82.250     -59.127808  ...   \n",
       "2018-01-01 08:00:00+00:00     88.350     81.475     -60.174194  ...   \n",
       "2018-01-01 09:00:00+00:00     85.400     78.575     -61.376221  ...   \n",
       "2018-01-01 10:00:00+00:00     85.275     78.300     -50.711792  ...   \n",
       "\n",
       "                           wdir_10m_dn  wdir_pfg30_dn  wdir_pl925_dn  \\\n",
       "index                                                                  \n",
       "2018-01-01 06:00:00+00:00    51.936818      54.855777      58.963042   \n",
       "2018-01-01 07:00:00+00:00    59.839207      62.809819      66.607932   \n",
       "2018-01-01 08:00:00+00:00    66.846392      69.702886      73.395684   \n",
       "2018-01-01 09:00:00+00:00    69.538877      72.116654      75.992542   \n",
       "2018-01-01 10:00:00+00:00    67.391618      69.753380      73.848494   \n",
       "\n",
       "                           wsp_100m_ms  wsp_10m_ms  wsp_pfg30_ms  \\\n",
       "index                                                              \n",
       "2018-01-01 06:00:00+00:00    16.548291    9.772748     16.622077   \n",
       "2018-01-01 07:00:00+00:00    16.795002    9.966123     16.832585   \n",
       "2018-01-01 08:00:00+00:00    17.187174   10.191553     17.103298   \n",
       "2018-01-01 09:00:00+00:00    16.804585   10.074198     16.507619   \n",
       "2018-01-01 10:00:00+00:00    15.970588    9.719457     15.561127   \n",
       "\n",
       "                           wsp_pl925_ms                 created_on  \\\n",
       "index                                                                \n",
       "2018-01-01 06:00:00+00:00     21.963719  2018-01-01 00:00:00+00:00   \n",
       "2018-01-01 07:00:00+00:00     21.917341  2018-01-01 00:00:00+00:00   \n",
       "2018-01-01 08:00:00+00:00     22.151705  2018-01-01 00:00:00+00:00   \n",
       "2018-01-01 09:00:00+00:00     21.857454  2018-01-01 00:00:00+00:00   \n",
       "2018-01-01 10:00:00+00:00     21.082533  2018-01-01 00:00:00+00:00   \n",
       "\n",
       "                              azimuth  elevation  \n",
       "index                                             \n",
       "2018-01-01 06:00:00+00:00  111.880959 -12.132894  \n",
       "2018-01-01 07:00:00+00:00  122.901711  -3.799353  \n",
       "2018-01-01 08:00:00+00:00  134.513901   3.528108  \n",
       "2018-01-01 09:00:00+00:00  146.969666   9.473817  \n",
       "2018-01-01 10:00:00+00:00  160.319397  13.648098  \n",
       "\n",
       "[5 rows x 26 columns]"
      ]
     },
     "execution_count": 4,
     "metadata": {},
     "output_type": "execute_result"
    }
   ],
   "source": [
    "wthr_df.head()"
   ]
  },
  {
   "cell_type": "code",
   "execution_count": 5,
   "metadata": {
    "ExecuteTime": {
     "end_time": "2020-07-28T09:56:56.200607Z",
     "start_time": "2020-07-28T09:56:56.186594Z"
    }
   },
   "outputs": [
    {
     "data": {
      "text/plain": [
       "Timestamp('2019-08-26 18:00:00+0000', tz='UTC')"
      ]
     },
     "execution_count": 5,
     "metadata": {},
     "output_type": "execute_result"
    }
   ],
   "source": [
    "max(wthr_df.index)"
   ]
  },
  {
   "cell_type": "code",
   "execution_count": 6,
   "metadata": {
    "ExecuteTime": {
     "end_time": "2020-07-28T09:56:56.206613Z",
     "start_time": "2020-07-28T09:56:56.202609Z"
    }
   },
   "outputs": [
    {
     "data": {
      "text/plain": [
       "(14378, 26)"
      ]
     },
     "execution_count": 6,
     "metadata": {},
     "output_type": "execute_result"
    }
   ],
   "source": [
    "wthr_df.shape"
   ]
  },
  {
   "cell_type": "code",
   "execution_count": 7,
   "metadata": {
    "ExecuteTime": {
     "end_time": "2020-07-28T09:56:56.289697Z",
     "start_time": "2020-07-28T09:56:56.207613Z"
    }
   },
   "outputs": [
    {
     "data": {
      "text/html": [
       "<div>\n",
       "<style scoped>\n",
       "    .dataframe tbody tr th:only-of-type {\n",
       "        vertical-align: middle;\n",
       "    }\n",
       "\n",
       "    .dataframe tbody tr th {\n",
       "        vertical-align: top;\n",
       "    }\n",
       "\n",
       "    .dataframe thead th {\n",
       "        text-align: right;\n",
       "    }\n",
       "</style>\n",
       "<table border=\"1\" class=\"dataframe\">\n",
       "  <thead>\n",
       "    <tr style=\"text-align: right;\">\n",
       "      <th></th>\n",
       "      <th>dswrf_sfc_wm2</th>\n",
       "      <th>gust_sfc_ms</th>\n",
       "      <th>hpbl_sfc_m</th>\n",
       "      <th>msl_ms_pa</th>\n",
       "      <th>pottemp_80mto0m_K</th>\n",
       "      <th>q_2m_1</th>\n",
       "      <th>q_pfg30_1</th>\n",
       "      <th>r_pl925_%</th>\n",
       "      <th>r_pl950_%</th>\n",
       "      <th>shtfl_sfc_wm2</th>\n",
       "      <th>...</th>\n",
       "      <th>wdir_100m_dn</th>\n",
       "      <th>wdir_10m_dn</th>\n",
       "      <th>wdir_pfg30_dn</th>\n",
       "      <th>wdir_pl925_dn</th>\n",
       "      <th>wsp_100m_ms</th>\n",
       "      <th>wsp_10m_ms</th>\n",
       "      <th>wsp_pfg30_ms</th>\n",
       "      <th>wsp_pl925_ms</th>\n",
       "      <th>azimuth</th>\n",
       "      <th>elevation</th>\n",
       "    </tr>\n",
       "  </thead>\n",
       "  <tbody>\n",
       "    <tr>\n",
       "      <th>count</th>\n",
       "      <td>14378.000000</td>\n",
       "      <td>14378.000000</td>\n",
       "      <td>14378.000000</td>\n",
       "      <td>14378.000000</td>\n",
       "      <td>14378.000000</td>\n",
       "      <td>14378.000000</td>\n",
       "      <td>14378.000000</td>\n",
       "      <td>14378.000000</td>\n",
       "      <td>14378.000000</td>\n",
       "      <td>14378.000000</td>\n",
       "      <td>...</td>\n",
       "      <td>14378.000000</td>\n",
       "      <td>14378.000000</td>\n",
       "      <td>14378.000000</td>\n",
       "      <td>14378.000000</td>\n",
       "      <td>14378.000000</td>\n",
       "      <td>14378.000000</td>\n",
       "      <td>14378.000000</td>\n",
       "      <td>14378.000000</td>\n",
       "      <td>14378.000000</td>\n",
       "      <td>14378.000000</td>\n",
       "    </tr>\n",
       "    <tr>\n",
       "      <th>mean</th>\n",
       "      <td>155.029194</td>\n",
       "      <td>7.943250</td>\n",
       "      <td>549.354510</td>\n",
       "      <td>101512.216593</td>\n",
       "      <td>0.742688</td>\n",
       "      <td>0.006481</td>\n",
       "      <td>0.006165</td>\n",
       "      <td>75.716828</td>\n",
       "      <td>75.737091</td>\n",
       "      <td>6.316193</td>\n",
       "      <td>...</td>\n",
       "      <td>162.410028</td>\n",
       "      <td>162.399371</td>\n",
       "      <td>162.002774</td>\n",
       "      <td>154.312530</td>\n",
       "      <td>7.471580</td>\n",
       "      <td>4.409038</td>\n",
       "      <td>7.351590</td>\n",
       "      <td>10.082908</td>\n",
       "      <td>182.032028</td>\n",
       "      <td>2.355874</td>\n",
       "    </tr>\n",
       "    <tr>\n",
       "      <th>std</th>\n",
       "      <td>230.147722</td>\n",
       "      <td>4.061036</td>\n",
       "      <td>427.125419</td>\n",
       "      <td>996.863087</td>\n",
       "      <td>1.175120</td>\n",
       "      <td>0.002735</td>\n",
       "      <td>0.002540</td>\n",
       "      <td>18.950255</td>\n",
       "      <td>17.724822</td>\n",
       "      <td>71.012102</td>\n",
       "      <td>...</td>\n",
       "      <td>99.361734</td>\n",
       "      <td>99.942995</td>\n",
       "      <td>99.257628</td>\n",
       "      <td>98.208108</td>\n",
       "      <td>3.329532</td>\n",
       "      <td>2.078577</td>\n",
       "      <td>3.285841</td>\n",
       "      <td>5.270483</td>\n",
       "      <td>103.042725</td>\n",
       "      <td>30.472445</td>\n",
       "    </tr>\n",
       "    <tr>\n",
       "      <th>min</th>\n",
       "      <td>0.000000</td>\n",
       "      <td>0.517106</td>\n",
       "      <td>21.333019</td>\n",
       "      <td>97637.887500</td>\n",
       "      <td>-2.431875</td>\n",
       "      <td>0.000993</td>\n",
       "      <td>0.000939</td>\n",
       "      <td>2.400000</td>\n",
       "      <td>2.425000</td>\n",
       "      <td>-115.227905</td>\n",
       "      <td>...</td>\n",
       "      <td>1.065702</td>\n",
       "      <td>1.605544</td>\n",
       "      <td>0.878477</td>\n",
       "      <td>1.231885</td>\n",
       "      <td>0.558441</td>\n",
       "      <td>0.389727</td>\n",
       "      <td>0.515088</td>\n",
       "      <td>0.338407</td>\n",
       "      <td>8.330822</td>\n",
       "      <td>-62.201588</td>\n",
       "    </tr>\n",
       "    <tr>\n",
       "      <th>25%</th>\n",
       "      <td>0.000000</td>\n",
       "      <td>4.683080</td>\n",
       "      <td>199.087539</td>\n",
       "      <td>100968.224375</td>\n",
       "      <td>-0.136376</td>\n",
       "      <td>0.004248</td>\n",
       "      <td>0.004075</td>\n",
       "      <td>64.625000</td>\n",
       "      <td>64.718129</td>\n",
       "      <td>-36.246123</td>\n",
       "      <td>...</td>\n",
       "      <td>78.421911</td>\n",
       "      <td>77.080156</td>\n",
       "      <td>78.444561</td>\n",
       "      <td>75.816115</td>\n",
       "      <td>5.176560</td>\n",
       "      <td>2.884135</td>\n",
       "      <td>5.082444</td>\n",
       "      <td>6.094260</td>\n",
       "      <td>90.158264</td>\n",
       "      <td>-19.496047</td>\n",
       "    </tr>\n",
       "    <tr>\n",
       "      <th>50%</th>\n",
       "      <td>15.000000</td>\n",
       "      <td>7.678551</td>\n",
       "      <td>451.845422</td>\n",
       "      <td>101567.477500</td>\n",
       "      <td>0.631883</td>\n",
       "      <td>0.006143</td>\n",
       "      <td>0.005920</td>\n",
       "      <td>79.475000</td>\n",
       "      <td>78.600000</td>\n",
       "      <td>-20.870140</td>\n",
       "      <td>...</td>\n",
       "      <td>130.455007</td>\n",
       "      <td>129.200547</td>\n",
       "      <td>130.106612</td>\n",
       "      <td>123.520460</td>\n",
       "      <td>7.159732</td>\n",
       "      <td>4.032932</td>\n",
       "      <td>7.046303</td>\n",
       "      <td>9.377695</td>\n",
       "      <td>186.476692</td>\n",
       "      <td>2.363771</td>\n",
       "    </tr>\n",
       "    <tr>\n",
       "      <th>75%</th>\n",
       "      <td>248.750000</td>\n",
       "      <td>10.631585</td>\n",
       "      <td>821.578707</td>\n",
       "      <td>102143.115625</td>\n",
       "      <td>1.514157</td>\n",
       "      <td>0.008523</td>\n",
       "      <td>0.008049</td>\n",
       "      <td>90.793750</td>\n",
       "      <td>89.643750</td>\n",
       "      <td>24.313370</td>\n",
       "      <td>...</td>\n",
       "      <td>261.226496</td>\n",
       "      <td>259.620900</td>\n",
       "      <td>261.262503</td>\n",
       "      <td>255.757132</td>\n",
       "      <td>9.261023</td>\n",
       "      <td>5.634826</td>\n",
       "      <td>9.126081</td>\n",
       "      <td>13.150352</td>\n",
       "      <td>273.261543</td>\n",
       "      <td>24.920794</td>\n",
       "    </tr>\n",
       "    <tr>\n",
       "      <th>max</th>\n",
       "      <td>885.500000</td>\n",
       "      <td>24.316044</td>\n",
       "      <td>2519.267852</td>\n",
       "      <td>104261.237500</td>\n",
       "      <td>4.514006</td>\n",
       "      <td>0.016743</td>\n",
       "      <td>0.014403</td>\n",
       "      <td>100.000000</td>\n",
       "      <td>100.000000</td>\n",
       "      <td>372.421576</td>\n",
       "      <td>...</td>\n",
       "      <td>359.180650</td>\n",
       "      <td>358.364902</td>\n",
       "      <td>359.093417</td>\n",
       "      <td>359.693548</td>\n",
       "      <td>23.256653</td>\n",
       "      <td>14.571061</td>\n",
       "      <td>23.972086</td>\n",
       "      <td>30.798095</td>\n",
       "      <td>358.682526</td>\n",
       "      <td>62.103596</td>\n",
       "    </tr>\n",
       "  </tbody>\n",
       "</table>\n",
       "<p>8 rows × 25 columns</p>\n",
       "</div>"
      ],
      "text/plain": [
       "       dswrf_sfc_wm2   gust_sfc_ms    hpbl_sfc_m      msl_ms_pa  \\\n",
       "count   14378.000000  14378.000000  14378.000000   14378.000000   \n",
       "mean      155.029194      7.943250    549.354510  101512.216593   \n",
       "std       230.147722      4.061036    427.125419     996.863087   \n",
       "min         0.000000      0.517106     21.333019   97637.887500   \n",
       "25%         0.000000      4.683080    199.087539  100968.224375   \n",
       "50%        15.000000      7.678551    451.845422  101567.477500   \n",
       "75%       248.750000     10.631585    821.578707  102143.115625   \n",
       "max       885.500000     24.316044   2519.267852  104261.237500   \n",
       "\n",
       "       pottemp_80mto0m_K        q_2m_1     q_pfg30_1     r_pl925_%  \\\n",
       "count       14378.000000  14378.000000  14378.000000  14378.000000   \n",
       "mean            0.742688      0.006481      0.006165     75.716828   \n",
       "std             1.175120      0.002735      0.002540     18.950255   \n",
       "min            -2.431875      0.000993      0.000939      2.400000   \n",
       "25%            -0.136376      0.004248      0.004075     64.625000   \n",
       "50%             0.631883      0.006143      0.005920     79.475000   \n",
       "75%             1.514157      0.008523      0.008049     90.793750   \n",
       "max             4.514006      0.016743      0.014403    100.000000   \n",
       "\n",
       "          r_pl950_%  shtfl_sfc_wm2  ...  wdir_100m_dn   wdir_10m_dn  \\\n",
       "count  14378.000000   14378.000000  ...  14378.000000  14378.000000   \n",
       "mean      75.737091       6.316193  ...    162.410028    162.399371   \n",
       "std       17.724822      71.012102  ...     99.361734     99.942995   \n",
       "min        2.425000    -115.227905  ...      1.065702      1.605544   \n",
       "25%       64.718129     -36.246123  ...     78.421911     77.080156   \n",
       "50%       78.600000     -20.870140  ...    130.455007    129.200547   \n",
       "75%       89.643750      24.313370  ...    261.226496    259.620900   \n",
       "max      100.000000     372.421576  ...    359.180650    358.364902   \n",
       "\n",
       "       wdir_pfg30_dn  wdir_pl925_dn   wsp_100m_ms    wsp_10m_ms  wsp_pfg30_ms  \\\n",
       "count   14378.000000   14378.000000  14378.000000  14378.000000  14378.000000   \n",
       "mean      162.002774     154.312530      7.471580      4.409038      7.351590   \n",
       "std        99.257628      98.208108      3.329532      2.078577      3.285841   \n",
       "min         0.878477       1.231885      0.558441      0.389727      0.515088   \n",
       "25%        78.444561      75.816115      5.176560      2.884135      5.082444   \n",
       "50%       130.106612     123.520460      7.159732      4.032932      7.046303   \n",
       "75%       261.262503     255.757132      9.261023      5.634826      9.126081   \n",
       "max       359.093417     359.693548     23.256653     14.571061     23.972086   \n",
       "\n",
       "       wsp_pl925_ms       azimuth     elevation  \n",
       "count  14378.000000  14378.000000  14378.000000  \n",
       "mean      10.082908    182.032028      2.355874  \n",
       "std        5.270483    103.042725     30.472445  \n",
       "min        0.338407      8.330822    -62.201588  \n",
       "25%        6.094260     90.158264    -19.496047  \n",
       "50%        9.377695    186.476692      2.363771  \n",
       "75%       13.150352    273.261543     24.920794  \n",
       "max       30.798095    358.682526     62.103596  \n",
       "\n",
       "[8 rows x 25 columns]"
      ]
     },
     "execution_count": 7,
     "metadata": {},
     "output_type": "execute_result"
    }
   ],
   "source": [
    "wthr_df.describe()"
   ]
  },
  {
   "cell_type": "code",
   "execution_count": 8,
   "metadata": {
    "ExecuteTime": {
     "end_time": "2020-07-28T09:56:56.652018Z",
     "start_time": "2020-07-28T09:56:56.291690Z"
    }
   },
   "outputs": [],
   "source": [
    "nrg_df = load_pickle(\"obs_20180101_20190625_03_final_normed.p\")"
   ]
  },
  {
   "cell_type": "code",
   "execution_count": 9,
   "metadata": {
    "ExecuteTime": {
     "end_time": "2020-07-28T09:56:56.664029Z",
     "start_time": "2020-07-28T09:56:56.654020Z"
    }
   },
   "outputs": [
    {
     "data": {
      "text/html": [
       "<div>\n",
       "<style scoped>\n",
       "    .dataframe tbody tr th:only-of-type {\n",
       "        vertical-align: middle;\n",
       "    }\n",
       "\n",
       "    .dataframe tbody tr th {\n",
       "        vertical-align: top;\n",
       "    }\n",
       "\n",
       "    .dataframe thead th {\n",
       "        text-align: right;\n",
       "    }\n",
       "</style>\n",
       "<table border=\"1\" class=\"dataframe\">\n",
       "  <thead>\n",
       "    <tr style=\"text-align: right;\">\n",
       "      <th></th>\n",
       "      <th>power_mw_obsnorm</th>\n",
       "      <th>power_available_mw_obsnorm</th>\n",
       "      <th>target_losses_norm</th>\n",
       "    </tr>\n",
       "  </thead>\n",
       "  <tbody>\n",
       "    <tr>\n",
       "      <th>2018-01-01 00:00:00+01:00</th>\n",
       "      <td>0.330269</td>\n",
       "      <td>0.450934</td>\n",
       "      <td>0.120665</td>\n",
       "    </tr>\n",
       "    <tr>\n",
       "      <th>2018-01-01 00:10:00+01:00</th>\n",
       "      <td>0.339204</td>\n",
       "      <td>0.457539</td>\n",
       "      <td>0.118335</td>\n",
       "    </tr>\n",
       "    <tr>\n",
       "      <th>2018-01-01 00:20:00+01:00</th>\n",
       "      <td>0.336993</td>\n",
       "      <td>0.456577</td>\n",
       "      <td>0.119584</td>\n",
       "    </tr>\n",
       "    <tr>\n",
       "      <th>2018-01-01 00:30:00+01:00</th>\n",
       "      <td>0.337858</td>\n",
       "      <td>0.462447</td>\n",
       "      <td>0.124589</td>\n",
       "    </tr>\n",
       "    <tr>\n",
       "      <th>2018-01-01 00:40:00+01:00</th>\n",
       "      <td>0.353646</td>\n",
       "      <td>0.483538</td>\n",
       "      <td>0.129892</td>\n",
       "    </tr>\n",
       "  </tbody>\n",
       "</table>\n",
       "</div>"
      ],
      "text/plain": [
       "                           power_mw_obsnorm  power_available_mw_obsnorm  \\\n",
       "2018-01-01 00:00:00+01:00          0.330269                    0.450934   \n",
       "2018-01-01 00:10:00+01:00          0.339204                    0.457539   \n",
       "2018-01-01 00:20:00+01:00          0.336993                    0.456577   \n",
       "2018-01-01 00:30:00+01:00          0.337858                    0.462447   \n",
       "2018-01-01 00:40:00+01:00          0.353646                    0.483538   \n",
       "\n",
       "                           target_losses_norm  \n",
       "2018-01-01 00:00:00+01:00            0.120665  \n",
       "2018-01-01 00:10:00+01:00            0.118335  \n",
       "2018-01-01 00:20:00+01:00            0.119584  \n",
       "2018-01-01 00:30:00+01:00            0.124589  \n",
       "2018-01-01 00:40:00+01:00            0.129892  "
      ]
     },
     "execution_count": 9,
     "metadata": {},
     "output_type": "execute_result"
    }
   ],
   "source": [
    "nrg_df.head()"
   ]
  },
  {
   "cell_type": "code",
   "execution_count": 10,
   "metadata": {
    "ExecuteTime": {
     "end_time": "2020-07-28T09:56:56.916258Z",
     "start_time": "2020-07-28T09:56:56.666031Z"
    }
   },
   "outputs": [
    {
     "data": {
      "text/plain": [
       "Timestamp('2019-06-25 01:50:00+0200', tz='Europe/Berlin')"
      ]
     },
     "execution_count": 10,
     "metadata": {},
     "output_type": "execute_result"
    }
   ],
   "source": [
    "max(nrg_df.index)"
   ]
  },
  {
   "cell_type": "code",
   "execution_count": 11,
   "metadata": {
    "ExecuteTime": {
     "end_time": "2020-07-28T09:56:56.922264Z",
     "start_time": "2020-07-28T09:56:56.917259Z"
    }
   },
   "outputs": [
    {
     "data": {
      "text/plain": [
       "(70710, 3)"
      ]
     },
     "execution_count": 11,
     "metadata": {},
     "output_type": "execute_result"
    }
   ],
   "source": [
    "nrg_df.shape"
   ]
  },
  {
   "cell_type": "code",
   "execution_count": 12,
   "metadata": {
    "ExecuteTime": {
     "end_time": "2020-07-28T09:56:56.945285Z",
     "start_time": "2020-07-28T09:56:56.923265Z"
    }
   },
   "outputs": [
    {
     "data": {
      "text/html": [
       "<div>\n",
       "<style scoped>\n",
       "    .dataframe tbody tr th:only-of-type {\n",
       "        vertical-align: middle;\n",
       "    }\n",
       "\n",
       "    .dataframe tbody tr th {\n",
       "        vertical-align: top;\n",
       "    }\n",
       "\n",
       "    .dataframe thead th {\n",
       "        text-align: right;\n",
       "    }\n",
       "</style>\n",
       "<table border=\"1\" class=\"dataframe\">\n",
       "  <thead>\n",
       "    <tr style=\"text-align: right;\">\n",
       "      <th></th>\n",
       "      <th>power_mw_obsnorm</th>\n",
       "      <th>power_available_mw_obsnorm</th>\n",
       "      <th>target_losses_norm</th>\n",
       "    </tr>\n",
       "  </thead>\n",
       "  <tbody>\n",
       "    <tr>\n",
       "      <th>count</th>\n",
       "      <td>70710.000000</td>\n",
       "      <td>70710.000000</td>\n",
       "      <td>70710.000000</td>\n",
       "    </tr>\n",
       "    <tr>\n",
       "      <th>mean</th>\n",
       "      <td>0.204310</td>\n",
       "      <td>0.274691</td>\n",
       "      <td>0.070381</td>\n",
       "    </tr>\n",
       "    <tr>\n",
       "      <th>std</th>\n",
       "      <td>0.162364</td>\n",
       "      <td>0.264172</td>\n",
       "      <td>0.128426</td>\n",
       "    </tr>\n",
       "    <tr>\n",
       "      <th>min</th>\n",
       "      <td>0.000000</td>\n",
       "      <td>0.000073</td>\n",
       "      <td>0.000049</td>\n",
       "    </tr>\n",
       "    <tr>\n",
       "      <th>25%</th>\n",
       "      <td>0.065503</td>\n",
       "      <td>0.074167</td>\n",
       "      <td>0.005369</td>\n",
       "    </tr>\n",
       "    <tr>\n",
       "      <th>50%</th>\n",
       "      <td>0.166234</td>\n",
       "      <td>0.181165</td>\n",
       "      <td>0.014100</td>\n",
       "    </tr>\n",
       "    <tr>\n",
       "      <th>75%</th>\n",
       "      <td>0.320650</td>\n",
       "      <td>0.391951</td>\n",
       "      <td>0.056041</td>\n",
       "    </tr>\n",
       "    <tr>\n",
       "      <th>max</th>\n",
       "      <td>0.801717</td>\n",
       "      <td>1.019565</td>\n",
       "      <td>0.779721</td>\n",
       "    </tr>\n",
       "  </tbody>\n",
       "</table>\n",
       "</div>"
      ],
      "text/plain": [
       "       power_mw_obsnorm  power_available_mw_obsnorm  target_losses_norm\n",
       "count      70710.000000                70710.000000        70710.000000\n",
       "mean           0.204310                    0.274691            0.070381\n",
       "std            0.162364                    0.264172            0.128426\n",
       "min            0.000000                    0.000073            0.000049\n",
       "25%            0.065503                    0.074167            0.005369\n",
       "50%            0.166234                    0.181165            0.014100\n",
       "75%            0.320650                    0.391951            0.056041\n",
       "max            0.801717                    1.019565            0.779721"
      ]
     },
     "execution_count": 12,
     "metadata": {},
     "output_type": "execute_result"
    }
   ],
   "source": [
    "nrg_df.describe()"
   ]
  },
  {
   "cell_type": "markdown",
   "metadata": {},
   "source": [
    "Those three values are connected. The available power is the loss plus the used power."
   ]
  },
  {
   "cell_type": "code",
   "execution_count": 13,
   "metadata": {
    "ExecuteTime": {
     "end_time": "2020-07-28T09:56:56.969307Z",
     "start_time": "2020-07-28T09:56:56.946286Z"
    }
   },
   "outputs": [
    {
     "data": {
      "text/plain": [
       "2018-01-01 00:00:00+01:00    True\n",
       "2018-01-01 00:10:00+01:00    True\n",
       "2018-01-01 00:20:00+01:00    True\n",
       "2018-01-01 00:30:00+01:00    True\n",
       "2018-01-01 00:40:00+01:00    True\n",
       "                             ... \n",
       "2019-06-25 01:10:00+02:00    True\n",
       "2019-06-25 01:20:00+02:00    True\n",
       "2019-06-25 01:30:00+02:00    True\n",
       "2019-06-25 01:40:00+02:00    True\n",
       "2019-06-25 01:50:00+02:00    True\n",
       "Length: 70710, dtype: bool"
      ]
     },
     "execution_count": 13,
     "metadata": {},
     "output_type": "execute_result"
    }
   ],
   "source": [
    "(nrg_df.target_losses_norm + nrg_df.power_mw_obsnorm) == nrg_df.power_available_mw_obsnorm"
   ]
  },
  {
   "cell_type": "markdown",
   "metadata": {},
   "source": [
    "## Let's get plottin'"
   ]
  },
  {
   "cell_type": "markdown",
   "metadata": {},
   "source": [
    "Almost every data point in nrg_df (Energy) has a data point in wthr_df (Weather), but not vice versa. I want weather data for every energy data point. These are the ones I can use for predictions. So I have to merge them."
   ]
  },
  {
   "cell_type": "code",
   "execution_count": 14,
   "metadata": {
    "ExecuteTime": {
     "end_time": "2020-07-28T09:56:56.975313Z",
     "start_time": "2020-07-28T09:56:56.970308Z"
    }
   },
   "outputs": [
    {
     "name": "stdout",
     "output_type": "stream",
     "text": [
      "Timestamp index: 2018-01-01 02:20:00+01:00\n"
     ]
    },
    {
     "data": {
      "text/plain": [
       "2"
      ]
     },
     "execution_count": 14,
     "metadata": {},
     "output_type": "execute_result"
    }
   ],
   "source": [
    "print('Timestamp index: ' + str(nrg_df.index[14]))\n",
    "nrg_df.index[14].hour #this way I can access the information in the index"
   ]
  },
  {
   "cell_type": "code",
   "execution_count": 15,
   "metadata": {
    "ExecuteTime": {
     "end_time": "2020-07-28T09:57:24.912979Z",
     "start_time": "2020-07-28T09:56:56.976314Z"
    },
    "scrolled": true
   },
   "outputs": [
    {
     "name": "stderr",
     "output_type": "stream",
     "text": [
      "C:\\Users\\thoma\\anaconda3\\lib\\site-packages\\ipykernel_launcher.py:3: FutureWarning: The pandas.datetime class is deprecated and will be removed from pandas in a future version. Import from datetime module instead.\n",
      "  This is separate from the ipykernel package so we can avoid doing imports until\n",
      "C:\\Users\\thoma\\anaconda3\\lib\\site-packages\\ipykernel_launcher.py:7: SettingWithCopyWarning: \n",
      "A value is trying to be set on a copy of a slice from a DataFrame\n",
      "\n",
      "See the caveats in the documentation: https://pandas.pydata.org/pandas-docs/stable/user_guide/indexing.html#returning-a-view-versus-a-copy\n",
      "  import sys\n"
     ]
    }
   ],
   "source": [
    "nrg_df['date_by_hour'] = 'NaN'\n",
    "for i, row in nrg_df.iterrows(): #i is the timestamp index\n",
    "    nrg_df.date_by_hour[i] = pd.datetime(i.year, \n",
    "                                      i.month, \n",
    "                                      i.day, \n",
    "                                      i.hour, \n",
    "                                      tzinfo = i.tzinfo)"
   ]
  },
  {
   "cell_type": "code",
   "execution_count": 16,
   "metadata": {
    "ExecuteTime": {
     "end_time": "2020-07-28T09:57:24.919970Z",
     "start_time": "2020-07-28T09:57:24.913973Z"
    }
   },
   "outputs": [
    {
     "data": {
      "text/plain": [
       "2018-01-01 00:00:00+01:00    2018-01-01 00:00:00+01:00\n",
       "2018-01-01 00:10:00+01:00    2018-01-01 00:00:00+01:00\n",
       "2018-01-01 00:20:00+01:00    2018-01-01 00:00:00+01:00\n",
       "2018-01-01 00:30:00+01:00    2018-01-01 00:00:00+01:00\n",
       "2018-01-01 00:40:00+01:00    2018-01-01 00:00:00+01:00\n",
       "2018-01-01 00:50:00+01:00    2018-01-01 00:00:00+01:00\n",
       "2018-01-01 01:00:00+01:00    2018-01-01 01:00:00+01:00\n",
       "2018-01-01 01:10:00+01:00    2018-01-01 01:00:00+01:00\n",
       "2018-01-01 01:20:00+01:00    2018-01-01 01:00:00+01:00\n",
       "2018-01-01 01:30:00+01:00    2018-01-01 01:00:00+01:00\n",
       "2018-01-01 01:40:00+01:00    2018-01-01 01:00:00+01:00\n",
       "2018-01-01 01:50:00+01:00    2018-01-01 01:00:00+01:00\n",
       "Name: date_by_hour, dtype: object"
      ]
     },
     "execution_count": 16,
     "metadata": {},
     "output_type": "execute_result"
    }
   ],
   "source": [
    "nrg_df.date_by_hour.head(12)"
   ]
  },
  {
   "cell_type": "code",
   "execution_count": 17,
   "metadata": {
    "ExecuteTime": {
     "end_time": "2020-07-28T09:57:24.929487Z",
     "start_time": "2020-07-28T09:57:24.921490Z"
    }
   },
   "outputs": [
    {
     "data": {
      "text/plain": [
       "Timestamp('2019-02-15 00:00:00')"
      ]
     },
     "execution_count": 17,
     "metadata": {},
     "output_type": "execute_result"
    }
   ],
   "source": [
    "pd.Timestamp(2019, 2, 15)"
   ]
  },
  {
   "cell_type": "code",
   "execution_count": 18,
   "metadata": {
    "ExecuteTime": {
     "end_time": "2020-07-28T09:57:24.935492Z",
     "start_time": "2020-07-28T09:57:24.930487Z"
    }
   },
   "outputs": [
    {
     "data": {
      "text/plain": [
       "True"
      ]
     },
     "execution_count": 18,
     "metadata": {},
     "output_type": "execute_result"
    }
   ],
   "source": [
    "pd.Timestamp('2018-01-01 07:00:00+01:00') == pd.Timestamp('2018-01-01 06:00:00+00:00')"
   ]
  },
  {
   "cell_type": "code",
   "execution_count": 19,
   "metadata": {
    "ExecuteTime": {
     "end_time": "2020-07-28T09:57:35.354108Z",
     "start_time": "2020-07-28T09:57:24.936493Z"
    }
   },
   "outputs": [],
   "source": [
    "#mrgd_df = pd.concat([nrg_df.set_index('date_by_hour'), wthr_df], axis=1, join='inner')\n",
    "def increment_wthr_ts(iterator):\n",
    "    j, wrow = next(iterator)\n",
    "    return pd.Timestamp(j), wrow\n",
    "\n",
    "dummy_lst = [[np.nan]*26] * nrg_df.shape[0]\n",
    "wthr_iterator = wthr_df.iterrows()\n",
    "ts_wthr, wrow = increment_wthr_ts(wthr_iterator)\n",
    "\n",
    "for ind, (i, row) in enumerate(nrg_df.iterrows()):\n",
    "    ts_nrg = pd.Timestamp(row.date_by_hour)\n",
    "    if ts_nrg > ts_wthr:\n",
    "        ts_wthr, wrow = increment_wthr_ts(wthr_iterator)\n",
    "    if ts_nrg == ts_wthr:\n",
    "        dummy_lst[ind] = [itm for itm in wrow]\n",
    "    \n",
    "        "
   ]
  },
  {
   "cell_type": "code",
   "execution_count": 20,
   "metadata": {
    "ExecuteTime": {
     "end_time": "2020-07-28T09:57:35.358102Z",
     "start_time": "2020-07-28T09:57:35.355109Z"
    }
   },
   "outputs": [],
   "source": [
    "nrg_df.index = nrg_df.index.tz_convert(None)"
   ]
  },
  {
   "cell_type": "code",
   "execution_count": 21,
   "metadata": {
    "ExecuteTime": {
     "end_time": "2020-07-28T09:57:35.371621Z",
     "start_time": "2020-07-28T09:57:35.359104Z"
    }
   },
   "outputs": [
    {
     "data": {
      "text/html": [
       "<div>\n",
       "<style scoped>\n",
       "    .dataframe tbody tr th:only-of-type {\n",
       "        vertical-align: middle;\n",
       "    }\n",
       "\n",
       "    .dataframe tbody tr th {\n",
       "        vertical-align: top;\n",
       "    }\n",
       "\n",
       "    .dataframe thead th {\n",
       "        text-align: right;\n",
       "    }\n",
       "</style>\n",
       "<table border=\"1\" class=\"dataframe\">\n",
       "  <thead>\n",
       "    <tr style=\"text-align: right;\">\n",
       "      <th></th>\n",
       "      <th>power_mw_obsnorm</th>\n",
       "      <th>power_available_mw_obsnorm</th>\n",
       "      <th>target_losses_norm</th>\n",
       "      <th>date_by_hour</th>\n",
       "    </tr>\n",
       "  </thead>\n",
       "  <tbody>\n",
       "    <tr>\n",
       "      <th>2017-12-31 23:00:00</th>\n",
       "      <td>0.330269</td>\n",
       "      <td>0.450934</td>\n",
       "      <td>0.120665</td>\n",
       "      <td>2018-01-01 00:00:00+01:00</td>\n",
       "    </tr>\n",
       "    <tr>\n",
       "      <th>2017-12-31 23:10:00</th>\n",
       "      <td>0.339204</td>\n",
       "      <td>0.457539</td>\n",
       "      <td>0.118335</td>\n",
       "      <td>2018-01-01 00:00:00+01:00</td>\n",
       "    </tr>\n",
       "    <tr>\n",
       "      <th>2017-12-31 23:20:00</th>\n",
       "      <td>0.336993</td>\n",
       "      <td>0.456577</td>\n",
       "      <td>0.119584</td>\n",
       "      <td>2018-01-01 00:00:00+01:00</td>\n",
       "    </tr>\n",
       "    <tr>\n",
       "      <th>2017-12-31 23:30:00</th>\n",
       "      <td>0.337858</td>\n",
       "      <td>0.462447</td>\n",
       "      <td>0.124589</td>\n",
       "      <td>2018-01-01 00:00:00+01:00</td>\n",
       "    </tr>\n",
       "    <tr>\n",
       "      <th>2017-12-31 23:40:00</th>\n",
       "      <td>0.353646</td>\n",
       "      <td>0.483538</td>\n",
       "      <td>0.129892</td>\n",
       "      <td>2018-01-01 00:00:00+01:00</td>\n",
       "    </tr>\n",
       "  </tbody>\n",
       "</table>\n",
       "</div>"
      ],
      "text/plain": [
       "                     power_mw_obsnorm  power_available_mw_obsnorm  \\\n",
       "2017-12-31 23:00:00          0.330269                    0.450934   \n",
       "2017-12-31 23:10:00          0.339204                    0.457539   \n",
       "2017-12-31 23:20:00          0.336993                    0.456577   \n",
       "2017-12-31 23:30:00          0.337858                    0.462447   \n",
       "2017-12-31 23:40:00          0.353646                    0.483538   \n",
       "\n",
       "                     target_losses_norm               date_by_hour  \n",
       "2017-12-31 23:00:00            0.120665  2018-01-01 00:00:00+01:00  \n",
       "2017-12-31 23:10:00            0.118335  2018-01-01 00:00:00+01:00  \n",
       "2017-12-31 23:20:00            0.119584  2018-01-01 00:00:00+01:00  \n",
       "2017-12-31 23:30:00            0.124589  2018-01-01 00:00:00+01:00  \n",
       "2017-12-31 23:40:00            0.129892  2018-01-01 00:00:00+01:00  "
      ]
     },
     "execution_count": 21,
     "metadata": {},
     "output_type": "execute_result"
    }
   ],
   "source": [
    "nrg_df.head()"
   ]
  },
  {
   "cell_type": "code",
   "execution_count": 22,
   "metadata": {
    "ExecuteTime": {
     "end_time": "2020-07-28T09:57:35.594834Z",
     "start_time": "2020-07-28T09:57:35.372622Z"
    }
   },
   "outputs": [],
   "source": [
    "mrg_df = pd.concat([nrg_df, pd.DataFrame(dummy_lst, index = nrg_df.index, columns = wthr_df.columns)],axis=1)"
   ]
  },
  {
   "cell_type": "code",
   "execution_count": 23,
   "metadata": {
    "ExecuteTime": {
     "end_time": "2020-07-28T09:57:35.601832Z",
     "start_time": "2020-07-28T09:57:35.598837Z"
    }
   },
   "outputs": [
    {
     "data": {
      "text/plain": [
       "(70710, 30)"
      ]
     },
     "execution_count": 23,
     "metadata": {},
     "output_type": "execute_result"
    }
   ],
   "source": [
    "mrg_df.shape"
   ]
  },
  {
   "cell_type": "code",
   "execution_count": 24,
   "metadata": {
    "ExecuteTime": {
     "end_time": "2020-07-28T09:57:35.629858Z",
     "start_time": "2020-07-28T09:57:35.603833Z"
    }
   },
   "outputs": [
    {
     "data": {
      "text/html": [
       "<div>\n",
       "<style scoped>\n",
       "    .dataframe tbody tr th:only-of-type {\n",
       "        vertical-align: middle;\n",
       "    }\n",
       "\n",
       "    .dataframe tbody tr th {\n",
       "        vertical-align: top;\n",
       "    }\n",
       "\n",
       "    .dataframe thead th {\n",
       "        text-align: right;\n",
       "    }\n",
       "</style>\n",
       "<table border=\"1\" class=\"dataframe\">\n",
       "  <thead>\n",
       "    <tr style=\"text-align: right;\">\n",
       "      <th></th>\n",
       "      <th>power_mw_obsnorm</th>\n",
       "      <th>power_available_mw_obsnorm</th>\n",
       "      <th>target_losses_norm</th>\n",
       "      <th>date_by_hour</th>\n",
       "      <th>dswrf_sfc_wm2</th>\n",
       "      <th>gust_sfc_ms</th>\n",
       "      <th>hpbl_sfc_m</th>\n",
       "      <th>msl_ms_pa</th>\n",
       "      <th>pottemp_80mto0m_K</th>\n",
       "      <th>q_2m_1</th>\n",
       "      <th>...</th>\n",
       "      <th>wdir_10m_dn</th>\n",
       "      <th>wdir_pfg30_dn</th>\n",
       "      <th>wdir_pl925_dn</th>\n",
       "      <th>wsp_100m_ms</th>\n",
       "      <th>wsp_10m_ms</th>\n",
       "      <th>wsp_pfg30_ms</th>\n",
       "      <th>wsp_pl925_ms</th>\n",
       "      <th>created_on</th>\n",
       "      <th>azimuth</th>\n",
       "      <th>elevation</th>\n",
       "    </tr>\n",
       "  </thead>\n",
       "  <tbody>\n",
       "    <tr>\n",
       "      <th>2017-12-31 23:00:00</th>\n",
       "      <td>0.330269</td>\n",
       "      <td>0.450934</td>\n",
       "      <td>0.120665</td>\n",
       "      <td>2018-01-01 00:00:00+01:00</td>\n",
       "      <td>NaN</td>\n",
       "      <td>NaN</td>\n",
       "      <td>NaN</td>\n",
       "      <td>NaN</td>\n",
       "      <td>NaN</td>\n",
       "      <td>NaN</td>\n",
       "      <td>...</td>\n",
       "      <td>NaN</td>\n",
       "      <td>NaN</td>\n",
       "      <td>NaN</td>\n",
       "      <td>NaN</td>\n",
       "      <td>NaN</td>\n",
       "      <td>NaN</td>\n",
       "      <td>NaN</td>\n",
       "      <td>NaT</td>\n",
       "      <td>NaN</td>\n",
       "      <td>NaN</td>\n",
       "    </tr>\n",
       "    <tr>\n",
       "      <th>2017-12-31 23:10:00</th>\n",
       "      <td>0.339204</td>\n",
       "      <td>0.457539</td>\n",
       "      <td>0.118335</td>\n",
       "      <td>2018-01-01 00:00:00+01:00</td>\n",
       "      <td>NaN</td>\n",
       "      <td>NaN</td>\n",
       "      <td>NaN</td>\n",
       "      <td>NaN</td>\n",
       "      <td>NaN</td>\n",
       "      <td>NaN</td>\n",
       "      <td>...</td>\n",
       "      <td>NaN</td>\n",
       "      <td>NaN</td>\n",
       "      <td>NaN</td>\n",
       "      <td>NaN</td>\n",
       "      <td>NaN</td>\n",
       "      <td>NaN</td>\n",
       "      <td>NaN</td>\n",
       "      <td>NaT</td>\n",
       "      <td>NaN</td>\n",
       "      <td>NaN</td>\n",
       "    </tr>\n",
       "    <tr>\n",
       "      <th>2017-12-31 23:20:00</th>\n",
       "      <td>0.336993</td>\n",
       "      <td>0.456577</td>\n",
       "      <td>0.119584</td>\n",
       "      <td>2018-01-01 00:00:00+01:00</td>\n",
       "      <td>NaN</td>\n",
       "      <td>NaN</td>\n",
       "      <td>NaN</td>\n",
       "      <td>NaN</td>\n",
       "      <td>NaN</td>\n",
       "      <td>NaN</td>\n",
       "      <td>...</td>\n",
       "      <td>NaN</td>\n",
       "      <td>NaN</td>\n",
       "      <td>NaN</td>\n",
       "      <td>NaN</td>\n",
       "      <td>NaN</td>\n",
       "      <td>NaN</td>\n",
       "      <td>NaN</td>\n",
       "      <td>NaT</td>\n",
       "      <td>NaN</td>\n",
       "      <td>NaN</td>\n",
       "    </tr>\n",
       "    <tr>\n",
       "      <th>2017-12-31 23:30:00</th>\n",
       "      <td>0.337858</td>\n",
       "      <td>0.462447</td>\n",
       "      <td>0.124589</td>\n",
       "      <td>2018-01-01 00:00:00+01:00</td>\n",
       "      <td>NaN</td>\n",
       "      <td>NaN</td>\n",
       "      <td>NaN</td>\n",
       "      <td>NaN</td>\n",
       "      <td>NaN</td>\n",
       "      <td>NaN</td>\n",
       "      <td>...</td>\n",
       "      <td>NaN</td>\n",
       "      <td>NaN</td>\n",
       "      <td>NaN</td>\n",
       "      <td>NaN</td>\n",
       "      <td>NaN</td>\n",
       "      <td>NaN</td>\n",
       "      <td>NaN</td>\n",
       "      <td>NaT</td>\n",
       "      <td>NaN</td>\n",
       "      <td>NaN</td>\n",
       "    </tr>\n",
       "    <tr>\n",
       "      <th>2017-12-31 23:40:00</th>\n",
       "      <td>0.353646</td>\n",
       "      <td>0.483538</td>\n",
       "      <td>0.129892</td>\n",
       "      <td>2018-01-01 00:00:00+01:00</td>\n",
       "      <td>NaN</td>\n",
       "      <td>NaN</td>\n",
       "      <td>NaN</td>\n",
       "      <td>NaN</td>\n",
       "      <td>NaN</td>\n",
       "      <td>NaN</td>\n",
       "      <td>...</td>\n",
       "      <td>NaN</td>\n",
       "      <td>NaN</td>\n",
       "      <td>NaN</td>\n",
       "      <td>NaN</td>\n",
       "      <td>NaN</td>\n",
       "      <td>NaN</td>\n",
       "      <td>NaN</td>\n",
       "      <td>NaT</td>\n",
       "      <td>NaN</td>\n",
       "      <td>NaN</td>\n",
       "    </tr>\n",
       "  </tbody>\n",
       "</table>\n",
       "<p>5 rows × 30 columns</p>\n",
       "</div>"
      ],
      "text/plain": [
       "                     power_mw_obsnorm  power_available_mw_obsnorm  \\\n",
       "2017-12-31 23:00:00          0.330269                    0.450934   \n",
       "2017-12-31 23:10:00          0.339204                    0.457539   \n",
       "2017-12-31 23:20:00          0.336993                    0.456577   \n",
       "2017-12-31 23:30:00          0.337858                    0.462447   \n",
       "2017-12-31 23:40:00          0.353646                    0.483538   \n",
       "\n",
       "                     target_losses_norm               date_by_hour  \\\n",
       "2017-12-31 23:00:00            0.120665  2018-01-01 00:00:00+01:00   \n",
       "2017-12-31 23:10:00            0.118335  2018-01-01 00:00:00+01:00   \n",
       "2017-12-31 23:20:00            0.119584  2018-01-01 00:00:00+01:00   \n",
       "2017-12-31 23:30:00            0.124589  2018-01-01 00:00:00+01:00   \n",
       "2017-12-31 23:40:00            0.129892  2018-01-01 00:00:00+01:00   \n",
       "\n",
       "                     dswrf_sfc_wm2  gust_sfc_ms  hpbl_sfc_m  msl_ms_pa  \\\n",
       "2017-12-31 23:00:00            NaN          NaN         NaN        NaN   \n",
       "2017-12-31 23:10:00            NaN          NaN         NaN        NaN   \n",
       "2017-12-31 23:20:00            NaN          NaN         NaN        NaN   \n",
       "2017-12-31 23:30:00            NaN          NaN         NaN        NaN   \n",
       "2017-12-31 23:40:00            NaN          NaN         NaN        NaN   \n",
       "\n",
       "                     pottemp_80mto0m_K  q_2m_1  ...  wdir_10m_dn  \\\n",
       "2017-12-31 23:00:00                NaN     NaN  ...          NaN   \n",
       "2017-12-31 23:10:00                NaN     NaN  ...          NaN   \n",
       "2017-12-31 23:20:00                NaN     NaN  ...          NaN   \n",
       "2017-12-31 23:30:00                NaN     NaN  ...          NaN   \n",
       "2017-12-31 23:40:00                NaN     NaN  ...          NaN   \n",
       "\n",
       "                     wdir_pfg30_dn  wdir_pl925_dn  wsp_100m_ms  wsp_10m_ms  \\\n",
       "2017-12-31 23:00:00            NaN            NaN          NaN         NaN   \n",
       "2017-12-31 23:10:00            NaN            NaN          NaN         NaN   \n",
       "2017-12-31 23:20:00            NaN            NaN          NaN         NaN   \n",
       "2017-12-31 23:30:00            NaN            NaN          NaN         NaN   \n",
       "2017-12-31 23:40:00            NaN            NaN          NaN         NaN   \n",
       "\n",
       "                     wsp_pfg30_ms  wsp_pl925_ms  created_on  azimuth  \\\n",
       "2017-12-31 23:00:00           NaN           NaN         NaT      NaN   \n",
       "2017-12-31 23:10:00           NaN           NaN         NaT      NaN   \n",
       "2017-12-31 23:20:00           NaN           NaN         NaT      NaN   \n",
       "2017-12-31 23:30:00           NaN           NaN         NaT      NaN   \n",
       "2017-12-31 23:40:00           NaN           NaN         NaT      NaN   \n",
       "\n",
       "                     elevation  \n",
       "2017-12-31 23:00:00        NaN  \n",
       "2017-12-31 23:10:00        NaN  \n",
       "2017-12-31 23:20:00        NaN  \n",
       "2017-12-31 23:30:00        NaN  \n",
       "2017-12-31 23:40:00        NaN  \n",
       "\n",
       "[5 rows x 30 columns]"
      ]
     },
     "execution_count": 24,
     "metadata": {},
     "output_type": "execute_result"
    }
   ],
   "source": [
    "mrg_df.head()"
   ]
  },
  {
   "cell_type": "code",
   "execution_count": 25,
   "metadata": {
    "ExecuteTime": {
     "end_time": "2020-07-28T09:57:35.756981Z",
     "start_time": "2020-07-28T09:57:35.631859Z"
    }
   },
   "outputs": [
    {
     "data": {
      "text/html": [
       "<div>\n",
       "<style scoped>\n",
       "    .dataframe tbody tr th:only-of-type {\n",
       "        vertical-align: middle;\n",
       "    }\n",
       "\n",
       "    .dataframe tbody tr th {\n",
       "        vertical-align: top;\n",
       "    }\n",
       "\n",
       "    .dataframe thead th {\n",
       "        text-align: right;\n",
       "    }\n",
       "</style>\n",
       "<table border=\"1\" class=\"dataframe\">\n",
       "  <thead>\n",
       "    <tr style=\"text-align: right;\">\n",
       "      <th></th>\n",
       "      <th>power_mw_obsnorm</th>\n",
       "      <th>power_available_mw_obsnorm</th>\n",
       "      <th>target_losses_norm</th>\n",
       "      <th>dswrf_sfc_wm2</th>\n",
       "      <th>gust_sfc_ms</th>\n",
       "      <th>hpbl_sfc_m</th>\n",
       "      <th>msl_ms_pa</th>\n",
       "      <th>pottemp_80mto0m_K</th>\n",
       "      <th>q_2m_1</th>\n",
       "      <th>q_pfg30_1</th>\n",
       "      <th>...</th>\n",
       "      <th>wdir_100m_dn</th>\n",
       "      <th>wdir_10m_dn</th>\n",
       "      <th>wdir_pfg30_dn</th>\n",
       "      <th>wdir_pl925_dn</th>\n",
       "      <th>wsp_100m_ms</th>\n",
       "      <th>wsp_10m_ms</th>\n",
       "      <th>wsp_pfg30_ms</th>\n",
       "      <th>wsp_pl925_ms</th>\n",
       "      <th>azimuth</th>\n",
       "      <th>elevation</th>\n",
       "    </tr>\n",
       "  </thead>\n",
       "  <tbody>\n",
       "    <tr>\n",
       "      <th>count</th>\n",
       "      <td>70710.000000</td>\n",
       "      <td>70710.000000</td>\n",
       "      <td>70710.000000</td>\n",
       "      <td>68925.000000</td>\n",
       "      <td>68925.000000</td>\n",
       "      <td>68925.000000</td>\n",
       "      <td>68925.000000</td>\n",
       "      <td>68925.000000</td>\n",
       "      <td>68925.000000</td>\n",
       "      <td>68925.000000</td>\n",
       "      <td>...</td>\n",
       "      <td>68925.000000</td>\n",
       "      <td>68925.000000</td>\n",
       "      <td>68925.000000</td>\n",
       "      <td>68925.000000</td>\n",
       "      <td>68925.000000</td>\n",
       "      <td>68925.000000</td>\n",
       "      <td>68925.000000</td>\n",
       "      <td>68925.000000</td>\n",
       "      <td>68925.000000</td>\n",
       "      <td>68925.000000</td>\n",
       "    </tr>\n",
       "    <tr>\n",
       "      <th>mean</th>\n",
       "      <td>0.204310</td>\n",
       "      <td>0.274691</td>\n",
       "      <td>0.070381</td>\n",
       "      <td>148.898767</td>\n",
       "      <td>8.063103</td>\n",
       "      <td>552.311393</td>\n",
       "      <td>101512.096078</td>\n",
       "      <td>0.759712</td>\n",
       "      <td>0.006147</td>\n",
       "      <td>0.005860</td>\n",
       "      <td>...</td>\n",
       "      <td>166.640849</td>\n",
       "      <td>166.695903</td>\n",
       "      <td>166.148601</td>\n",
       "      <td>158.757565</td>\n",
       "      <td>7.572002</td>\n",
       "      <td>4.439478</td>\n",
       "      <td>7.445676</td>\n",
       "      <td>10.240085</td>\n",
       "      <td>182.913421</td>\n",
       "      <td>1.013614</td>\n",
       "    </tr>\n",
       "    <tr>\n",
       "      <th>std</th>\n",
       "      <td>0.162364</td>\n",
       "      <td>0.264172</td>\n",
       "      <td>0.128426</td>\n",
       "      <td>226.650632</td>\n",
       "      <td>4.164345</td>\n",
       "      <td>432.872553</td>\n",
       "      <td>1019.535638</td>\n",
       "      <td>1.178976</td>\n",
       "      <td>0.002617</td>\n",
       "      <td>0.002450</td>\n",
       "      <td>...</td>\n",
       "      <td>100.403009</td>\n",
       "      <td>100.944043</td>\n",
       "      <td>100.353294</td>\n",
       "      <td>100.033029</td>\n",
       "      <td>3.427723</td>\n",
       "      <td>2.125421</td>\n",
       "      <td>3.384758</td>\n",
       "      <td>5.418360</td>\n",
       "      <td>102.386614</td>\n",
       "      <td>30.425721</td>\n",
       "    </tr>\n",
       "    <tr>\n",
       "      <th>min</th>\n",
       "      <td>0.000000</td>\n",
       "      <td>0.000073</td>\n",
       "      <td>0.000049</td>\n",
       "      <td>0.000000</td>\n",
       "      <td>0.517106</td>\n",
       "      <td>21.333019</td>\n",
       "      <td>97637.887500</td>\n",
       "      <td>-2.431875</td>\n",
       "      <td>0.000993</td>\n",
       "      <td>0.000939</td>\n",
       "      <td>...</td>\n",
       "      <td>1.065702</td>\n",
       "      <td>1.605544</td>\n",
       "      <td>0.878477</td>\n",
       "      <td>1.231885</td>\n",
       "      <td>0.558441</td>\n",
       "      <td>0.389727</td>\n",
       "      <td>0.515088</td>\n",
       "      <td>0.338407</td>\n",
       "      <td>8.330822</td>\n",
       "      <td>-62.201588</td>\n",
       "    </tr>\n",
       "    <tr>\n",
       "      <th>25%</th>\n",
       "      <td>0.065503</td>\n",
       "      <td>0.074167</td>\n",
       "      <td>0.005369</td>\n",
       "      <td>0.000000</td>\n",
       "      <td>4.714689</td>\n",
       "      <td>197.444200</td>\n",
       "      <td>100930.025000</td>\n",
       "      <td>-0.095727</td>\n",
       "      <td>0.004048</td>\n",
       "      <td>0.003888</td>\n",
       "      <td>...</td>\n",
       "      <td>78.666833</td>\n",
       "      <td>77.181492</td>\n",
       "      <td>78.572592</td>\n",
       "      <td>76.467012</td>\n",
       "      <td>5.213719</td>\n",
       "      <td>2.883513</td>\n",
       "      <td>5.116174</td>\n",
       "      <td>6.147295</td>\n",
       "      <td>92.030838</td>\n",
       "      <td>-21.149464</td>\n",
       "    </tr>\n",
       "    <tr>\n",
       "      <th>50%</th>\n",
       "      <td>0.166234</td>\n",
       "      <td>0.181165</td>\n",
       "      <td>0.014100</td>\n",
       "      <td>12.500000</td>\n",
       "      <td>7.749561</td>\n",
       "      <td>449.104587</td>\n",
       "      <td>101579.350000</td>\n",
       "      <td>0.653383</td>\n",
       "      <td>0.005738</td>\n",
       "      <td>0.005536</td>\n",
       "      <td>...</td>\n",
       "      <td>137.023969</td>\n",
       "      <td>137.686530</td>\n",
       "      <td>136.378568</td>\n",
       "      <td>127.371959</td>\n",
       "      <td>7.207236</td>\n",
       "      <td>4.038870</td>\n",
       "      <td>7.079815</td>\n",
       "      <td>9.424974</td>\n",
       "      <td>187.055878</td>\n",
       "      <td>1.115567</td>\n",
       "    </tr>\n",
       "    <tr>\n",
       "      <th>75%</th>\n",
       "      <td>0.320650</td>\n",
       "      <td>0.391951</td>\n",
       "      <td>0.056041</td>\n",
       "      <td>231.500000</td>\n",
       "      <td>10.877142</td>\n",
       "      <td>832.442883</td>\n",
       "      <td>102154.960000</td>\n",
       "      <td>1.517620</td>\n",
       "      <td>0.008019</td>\n",
       "      <td>0.007608</td>\n",
       "      <td>...</td>\n",
       "      <td>263.553165</td>\n",
       "      <td>261.993699</td>\n",
       "      <td>263.640717</td>\n",
       "      <td>262.411752</td>\n",
       "      <td>9.406372</td>\n",
       "      <td>5.686764</td>\n",
       "      <td>9.262976</td>\n",
       "      <td>13.485638</td>\n",
       "      <td>273.092102</td>\n",
       "      <td>23.550364</td>\n",
       "    </tr>\n",
       "    <tr>\n",
       "      <th>max</th>\n",
       "      <td>0.801717</td>\n",
       "      <td>1.019565</td>\n",
       "      <td>0.779721</td>\n",
       "      <td>885.500000</td>\n",
       "      <td>24.316044</td>\n",
       "      <td>2519.267852</td>\n",
       "      <td>104261.237500</td>\n",
       "      <td>4.316991</td>\n",
       "      <td>0.015260</td>\n",
       "      <td>0.013631</td>\n",
       "      <td>...</td>\n",
       "      <td>359.180650</td>\n",
       "      <td>358.364902</td>\n",
       "      <td>359.093417</td>\n",
       "      <td>359.606116</td>\n",
       "      <td>23.256653</td>\n",
       "      <td>14.571061</td>\n",
       "      <td>23.972086</td>\n",
       "      <td>30.798095</td>\n",
       "      <td>358.682526</td>\n",
       "      <td>62.103596</td>\n",
       "    </tr>\n",
       "  </tbody>\n",
       "</table>\n",
       "<p>8 rows × 28 columns</p>\n",
       "</div>"
      ],
      "text/plain": [
       "       power_mw_obsnorm  power_available_mw_obsnorm  target_losses_norm  \\\n",
       "count      70710.000000                70710.000000        70710.000000   \n",
       "mean           0.204310                    0.274691            0.070381   \n",
       "std            0.162364                    0.264172            0.128426   \n",
       "min            0.000000                    0.000073            0.000049   \n",
       "25%            0.065503                    0.074167            0.005369   \n",
       "50%            0.166234                    0.181165            0.014100   \n",
       "75%            0.320650                    0.391951            0.056041   \n",
       "max            0.801717                    1.019565            0.779721   \n",
       "\n",
       "       dswrf_sfc_wm2   gust_sfc_ms    hpbl_sfc_m      msl_ms_pa  \\\n",
       "count   68925.000000  68925.000000  68925.000000   68925.000000   \n",
       "mean      148.898767      8.063103    552.311393  101512.096078   \n",
       "std       226.650632      4.164345    432.872553    1019.535638   \n",
       "min         0.000000      0.517106     21.333019   97637.887500   \n",
       "25%         0.000000      4.714689    197.444200  100930.025000   \n",
       "50%        12.500000      7.749561    449.104587  101579.350000   \n",
       "75%       231.500000     10.877142    832.442883  102154.960000   \n",
       "max       885.500000     24.316044   2519.267852  104261.237500   \n",
       "\n",
       "       pottemp_80mto0m_K        q_2m_1     q_pfg30_1  ...  wdir_100m_dn  \\\n",
       "count       68925.000000  68925.000000  68925.000000  ...  68925.000000   \n",
       "mean            0.759712      0.006147      0.005860  ...    166.640849   \n",
       "std             1.178976      0.002617      0.002450  ...    100.403009   \n",
       "min            -2.431875      0.000993      0.000939  ...      1.065702   \n",
       "25%            -0.095727      0.004048      0.003888  ...     78.666833   \n",
       "50%             0.653383      0.005738      0.005536  ...    137.023969   \n",
       "75%             1.517620      0.008019      0.007608  ...    263.553165   \n",
       "max             4.316991      0.015260      0.013631  ...    359.180650   \n",
       "\n",
       "        wdir_10m_dn  wdir_pfg30_dn  wdir_pl925_dn   wsp_100m_ms    wsp_10m_ms  \\\n",
       "count  68925.000000   68925.000000   68925.000000  68925.000000  68925.000000   \n",
       "mean     166.695903     166.148601     158.757565      7.572002      4.439478   \n",
       "std      100.944043     100.353294     100.033029      3.427723      2.125421   \n",
       "min        1.605544       0.878477       1.231885      0.558441      0.389727   \n",
       "25%       77.181492      78.572592      76.467012      5.213719      2.883513   \n",
       "50%      137.686530     136.378568     127.371959      7.207236      4.038870   \n",
       "75%      261.993699     263.640717     262.411752      9.406372      5.686764   \n",
       "max      358.364902     359.093417     359.606116     23.256653     14.571061   \n",
       "\n",
       "       wsp_pfg30_ms  wsp_pl925_ms       azimuth     elevation  \n",
       "count  68925.000000  68925.000000  68925.000000  68925.000000  \n",
       "mean       7.445676     10.240085    182.913421      1.013614  \n",
       "std        3.384758      5.418360    102.386614     30.425721  \n",
       "min        0.515088      0.338407      8.330822    -62.201588  \n",
       "25%        5.116174      6.147295     92.030838    -21.149464  \n",
       "50%        7.079815      9.424974    187.055878      1.115567  \n",
       "75%        9.262976     13.485638    273.092102     23.550364  \n",
       "max       23.972086     30.798095    358.682526     62.103596  \n",
       "\n",
       "[8 rows x 28 columns]"
      ]
     },
     "execution_count": 25,
     "metadata": {},
     "output_type": "execute_result"
    }
   ],
   "source": [
    "mrg_df.describe()"
   ]
  },
  {
   "cell_type": "markdown",
   "metadata": {},
   "source": [
    "Oh no, zeros! We have to clean that! \n",
    "For some energy values we do not have predictions, so we throw them away."
   ]
  },
  {
   "cell_type": "code",
   "execution_count": 26,
   "metadata": {
    "ExecuteTime": {
     "end_time": "2020-07-28T09:57:35.782004Z",
     "start_time": "2020-07-28T09:57:35.757982Z"
    }
   },
   "outputs": [
    {
     "name": "stdout",
     "output_type": "stream",
     "text": [
      "<class 'pandas.core.frame.DataFrame'>\n",
      "DatetimeIndex: 70710 entries, 2017-12-31 23:00:00 to 2019-06-24 23:50:00\n",
      "Data columns (total 30 columns):\n",
      " #   Column                      Non-Null Count  Dtype              \n",
      "---  ------                      --------------  -----              \n",
      " 0   power_mw_obsnorm            70710 non-null  float64            \n",
      " 1   power_available_mw_obsnorm  70710 non-null  float64            \n",
      " 2   target_losses_norm          70710 non-null  float64            \n",
      " 3   date_by_hour                70710 non-null  object             \n",
      " 4   dswrf_sfc_wm2               68925 non-null  float64            \n",
      " 5   gust_sfc_ms                 68925 non-null  float64            \n",
      " 6   hpbl_sfc_m                  68925 non-null  float64            \n",
      " 7   msl_ms_pa                   68925 non-null  float64            \n",
      " 8   pottemp_80mto0m_K           68925 non-null  float64            \n",
      " 9   q_2m_1                      68925 non-null  float64            \n",
      " 10  q_pfg30_1                   68925 non-null  float64            \n",
      " 11  r_pl925_%                   68925 non-null  float64            \n",
      " 12  r_pl950_%                   68925 non-null  float64            \n",
      " 13  shtfl_sfc_wm2               68925 non-null  float64            \n",
      " 14  t_100m_k                    68925 non-null  float64            \n",
      " 15  t_2m_k                      68925 non-null  float64            \n",
      " 16  t_pfg30_k                   68925 non-null  float64            \n",
      " 17  tcclow_sfc_%                68925 non-null  float64            \n",
      " 18  tccmedium_sfc_%             68925 non-null  float64            \n",
      " 19  wdir_100m_dn                68925 non-null  float64            \n",
      " 20  wdir_10m_dn                 68925 non-null  float64            \n",
      " 21  wdir_pfg30_dn               68925 non-null  float64            \n",
      " 22  wdir_pl925_dn               68925 non-null  float64            \n",
      " 23  wsp_100m_ms                 68925 non-null  float64            \n",
      " 24  wsp_10m_ms                  68925 non-null  float64            \n",
      " 25  wsp_pfg30_ms                68925 non-null  float64            \n",
      " 26  wsp_pl925_ms                68925 non-null  float64            \n",
      " 27  created_on                  68925 non-null  datetime64[ns, UTC]\n",
      " 28  azimuth                     68925 non-null  float64            \n",
      " 29  elevation                   68925 non-null  float64            \n",
      "dtypes: datetime64[ns, UTC](1), float64(28), object(1)\n",
      "memory usage: 16.7+ MB\n"
     ]
    }
   ],
   "source": [
    "mrg_df.info()"
   ]
  },
  {
   "cell_type": "code",
   "execution_count": 27,
   "metadata": {
    "ExecuteTime": {
     "end_time": "2020-07-28T09:57:35.804024Z",
     "start_time": "2020-07-28T09:57:35.782996Z"
    }
   },
   "outputs": [],
   "source": [
    "clean_df = mrg_df[mrg_df.azimuth.isnull() == False].copy()"
   ]
  },
  {
   "cell_type": "code",
   "execution_count": 28,
   "metadata": {
    "ExecuteTime": {
     "end_time": "2020-07-28T09:57:35.829039Z",
     "start_time": "2020-07-28T09:57:35.805017Z"
    }
   },
   "outputs": [
    {
     "name": "stdout",
     "output_type": "stream",
     "text": [
      "<class 'pandas.core.frame.DataFrame'>\n",
      "DatetimeIndex: 68925 entries, 2018-01-01 06:00:00 to 2019-06-24 23:50:00\n",
      "Data columns (total 30 columns):\n",
      " #   Column                      Non-Null Count  Dtype              \n",
      "---  ------                      --------------  -----              \n",
      " 0   power_mw_obsnorm            68925 non-null  float64            \n",
      " 1   power_available_mw_obsnorm  68925 non-null  float64            \n",
      " 2   target_losses_norm          68925 non-null  float64            \n",
      " 3   date_by_hour                68925 non-null  object             \n",
      " 4   dswrf_sfc_wm2               68925 non-null  float64            \n",
      " 5   gust_sfc_ms                 68925 non-null  float64            \n",
      " 6   hpbl_sfc_m                  68925 non-null  float64            \n",
      " 7   msl_ms_pa                   68925 non-null  float64            \n",
      " 8   pottemp_80mto0m_K           68925 non-null  float64            \n",
      " 9   q_2m_1                      68925 non-null  float64            \n",
      " 10  q_pfg30_1                   68925 non-null  float64            \n",
      " 11  r_pl925_%                   68925 non-null  float64            \n",
      " 12  r_pl950_%                   68925 non-null  float64            \n",
      " 13  shtfl_sfc_wm2               68925 non-null  float64            \n",
      " 14  t_100m_k                    68925 non-null  float64            \n",
      " 15  t_2m_k                      68925 non-null  float64            \n",
      " 16  t_pfg30_k                   68925 non-null  float64            \n",
      " 17  tcclow_sfc_%                68925 non-null  float64            \n",
      " 18  tccmedium_sfc_%             68925 non-null  float64            \n",
      " 19  wdir_100m_dn                68925 non-null  float64            \n",
      " 20  wdir_10m_dn                 68925 non-null  float64            \n",
      " 21  wdir_pfg30_dn               68925 non-null  float64            \n",
      " 22  wdir_pl925_dn               68925 non-null  float64            \n",
      " 23  wsp_100m_ms                 68925 non-null  float64            \n",
      " 24  wsp_10m_ms                  68925 non-null  float64            \n",
      " 25  wsp_pfg30_ms                68925 non-null  float64            \n",
      " 26  wsp_pl925_ms                68925 non-null  float64            \n",
      " 27  created_on                  68925 non-null  datetime64[ns, UTC]\n",
      " 28  azimuth                     68925 non-null  float64            \n",
      " 29  elevation                   68925 non-null  float64            \n",
      "dtypes: datetime64[ns, UTC](1), float64(28), object(1)\n",
      "memory usage: 16.3+ MB\n"
     ]
    }
   ],
   "source": [
    "clean_df.info()"
   ]
  },
  {
   "cell_type": "markdown",
   "metadata": {},
   "source": [
    "Finally time to plot something!"
   ]
  },
  {
   "cell_type": "markdown",
   "metadata": {},
   "source": [
    "For easier access, I will create list with column names. The three energy column names wil get on list, because we want to predict these. Another list will contain all numerical values from the weather predicitons."
   ]
  },
  {
   "cell_type": "code",
   "execution_count": 29,
   "metadata": {
    "ExecuteTime": {
     "end_time": "2020-07-28T09:57:35.834043Z",
     "start_time": "2020-07-28T09:57:35.830039Z"
    }
   },
   "outputs": [],
   "source": [
    "nrg_columns = list(nrg_df.columns.drop('date_by_hour')) # sinister, evil guy voice: \"date_by_hour has outlived its usefulness. Drop it!"
   ]
  },
  {
   "cell_type": "code",
   "execution_count": 30,
   "metadata": {
    "ExecuteTime": {
     "end_time": "2020-07-28T09:57:35.839048Z",
     "start_time": "2020-07-28T09:57:35.835044Z"
    }
   },
   "outputs": [
    {
     "data": {
      "text/plain": [
       "['power_mw_obsnorm', 'power_available_mw_obsnorm', 'target_losses_norm']"
      ]
     },
     "execution_count": 30,
     "metadata": {},
     "output_type": "execute_result"
    }
   ],
   "source": [
    "nrg_columns"
   ]
  },
  {
   "cell_type": "code",
   "execution_count": 31,
   "metadata": {
    "ExecuteTime": {
     "end_time": "2020-07-28T09:57:35.854061Z",
     "start_time": "2020-07-28T09:57:35.840048Z"
    }
   },
   "outputs": [],
   "source": [
    "wthr_columns = clean_df.select_dtypes(include=np.number).columns.tolist()"
   ]
  },
  {
   "cell_type": "code",
   "execution_count": 32,
   "metadata": {
    "ExecuteTime": {
     "end_time": "2020-07-28T09:57:35.860067Z",
     "start_time": "2020-07-28T09:57:35.856063Z"
    }
   },
   "outputs": [
    {
     "data": {
      "text/plain": [
       "['dswrf_sfc_wm2',\n",
       " 'gust_sfc_ms',\n",
       " 'hpbl_sfc_m',\n",
       " 'msl_ms_pa',\n",
       " 'pottemp_80mto0m_K',\n",
       " 'q_2m_1',\n",
       " 'q_pfg30_1',\n",
       " 'r_pl925_%',\n",
       " 'r_pl950_%',\n",
       " 'shtfl_sfc_wm2',\n",
       " 't_100m_k',\n",
       " 't_2m_k',\n",
       " 't_pfg30_k',\n",
       " 'tcclow_sfc_%',\n",
       " 'tccmedium_sfc_%',\n",
       " 'wdir_100m_dn',\n",
       " 'wdir_10m_dn',\n",
       " 'wdir_pfg30_dn',\n",
       " 'wdir_pl925_dn',\n",
       " 'wsp_100m_ms',\n",
       " 'wsp_10m_ms',\n",
       " 'wsp_pfg30_ms',\n",
       " 'wsp_pl925_ms',\n",
       " 'azimuth',\n",
       " 'elevation']"
      ]
     },
     "execution_count": 32,
     "metadata": {},
     "output_type": "execute_result"
    }
   ],
   "source": [
    "wthr_columns = wthr_columns[3:]\n",
    "wthr_columns"
   ]
  },
  {
   "cell_type": "code",
   "execution_count": 33,
   "metadata": {
    "ExecuteTime": {
     "end_time": "2020-07-28T09:57:35.865072Z",
     "start_time": "2020-07-28T09:57:35.861068Z"
    }
   },
   "outputs": [
    {
     "data": {
      "text/plain": [
       "25"
      ]
     },
     "execution_count": 33,
     "metadata": {},
     "output_type": "execute_result"
    }
   ],
   "source": [
    "len(wthr_columns)"
   ]
  },
  {
   "cell_type": "code",
   "execution_count": 34,
   "metadata": {
    "ExecuteTime": {
     "end_time": "2020-07-28T09:57:39.194662Z",
     "start_time": "2020-07-28T09:57:35.866073Z"
    }
   },
   "outputs": [
    {
     "data": {
      "image/png": "[encoded data removed]",
      "text/plain": [
       "<Figure size 432x288 with 25 Axes>"
      ]
     },
     "metadata": {
      "needs_background": "light"
     },
     "output_type": "display_data"
    }
   ],
   "source": [
    "figure, axes = plt.subplots(nrows = 5, ncols = 5)\n",
    "\n",
    "for i, title in enumerate(wthr_columns):\n",
    "    axes[i%5][int(i/5)].plot(clean_df.target_losses_norm, clean_df[title])\n",
    "\n",
    "figure.tight_layout()"
   ]
  },
  {
   "cell_type": "code",
   "execution_count": 35,
   "metadata": {
    "ExecuteTime": {
     "end_time": "2020-07-28T09:57:40.886285Z",
     "start_time": "2020-07-28T09:57:39.195663Z"
    }
   },
   "outputs": [
    {
     "data": {
      "image/png": "[encoded data removed]",
      "text/plain": [
       "<Figure size 1152x720 with 2 Axes>"
      ]
     },
     "metadata": {
      "needs_background": "light"
     },
     "output_type": "display_data"
    }
   ],
   "source": [
    "mask = np.triu(clean_df.corr())\n",
    "plt.figure(figsize = (16,10))\n",
    "ax = sns.heatmap(round(clean_df.corr()*100,0)\n",
    "                 ,annot=True\n",
    "                 ,mask=mask\n",
    "                 ,cmap='coolwarm')\n",
    "\n"
   ]
  },
  {
   "cell_type": "code",
   "execution_count": 36,
   "metadata": {
    "ExecuteTime": {
     "end_time": "2020-07-28T09:57:40.889278Z",
     "start_time": "2020-07-28T09:57:40.887285Z"
    }
   },
   "outputs": [],
   "source": [
    "# _ =sns.pairplot(clean_df)\n",
    "# plt.savefig('figures/pairplot.png')"
   ]
  },
  {
   "cell_type": "code",
   "execution_count": 37,
   "metadata": {
    "ExecuteTime": {
     "end_time": "2020-07-28T09:57:41.981789Z",
     "start_time": "2020-07-28T09:57:40.890280Z"
    }
   },
   "outputs": [
    {
     "data": {
      "image/png": "[encoded data removed]",
      "text/plain": [
       "<Figure size 432x288 with 1 Axes>"
      ]
     },
     "metadata": {
      "needs_background": "light"
     },
     "output_type": "display_data"
    }
   ],
   "source": [
    "sns.scatterplot(clean_df.azimuth, clean_df.elevation)\n",
    "plt.savefig('figures/azimut.png')"
   ]
  },
  {
   "cell_type": "markdown",
   "metadata": {},
   "source": [
    "So I guess [azimuth and elevation](https://en.wikipedia.org/wiki/Azimuth \"Wikipedia\") are correlated in a special way... (in the link, elevation is altitude)"
   ]
  },
  {
   "cell_type": "markdown",
   "metadata": {
    "ExecuteTime": {
     "end_time": "2020-07-22T10:38:46.233707Z",
     "start_time": "2020-07-22T10:38:46.229703Z"
    }
   },
   "source": [
    "Anyway, for prediction only the correlations in the firs three rows matter."
   ]
  },
  {
   "cell_type": "markdown",
   "metadata": {},
   "source": [
    "## Looking at the energy levels"
   ]
  },
  {
   "cell_type": "code",
   "execution_count": 38,
   "metadata": {
    "ExecuteTime": {
     "end_time": "2020-07-28T09:57:42.163462Z",
     "start_time": "2020-07-28T09:57:41.982781Z"
    }
   },
   "outputs": [
    {
     "data": {
      "text/plain": [
       "<matplotlib.axes._subplots.AxesSubplot at 0x2a67cc9d388>"
      ]
     },
     "execution_count": 38,
     "metadata": {},
     "output_type": "execute_result"
    },
    {
     "data": {
      "image/png": "[encoded data removed]",
      "text/plain": [
       "<Figure size 432x288 with 1 Axes>"
      ]
     },
     "metadata": {
      "needs_background": "light"
     },
     "output_type": "display_data"
    }
   ],
   "source": [
    "clean_df[:10000].target_losses_norm.plot()"
   ]
  },
  {
   "cell_type": "code",
   "execution_count": 39,
   "metadata": {
    "ExecuteTime": {
     "end_time": "2020-07-28T09:57:42.339631Z",
     "start_time": "2020-07-28T09:57:42.164463Z"
    }
   },
   "outputs": [
    {
     "data": {
      "text/plain": [
       "<matplotlib.axes._subplots.AxesSubplot at 0x2a67cd78b48>"
      ]
     },
     "execution_count": 39,
     "metadata": {},
     "output_type": "execute_result"
    },
    {
     "data": {
      "image/png": "[encoded data removed]",
      "text/plain": [
       "<Figure size 432x288 with 1 Axes>"
      ]
     },
     "metadata": {
      "needs_background": "light"
     },
     "output_type": "display_data"
    }
   ],
   "source": [
    "clean_df[:10000].power_mw_obsnorm.plot()"
   ]
  },
  {
   "cell_type": "code",
   "execution_count": 40,
   "metadata": {
    "ExecuteTime": {
     "end_time": "2020-07-28T09:57:42.506775Z",
     "start_time": "2020-07-28T09:57:42.340623Z"
    }
   },
   "outputs": [
    {
     "data": {
      "text/plain": [
       "<matplotlib.axes._subplots.AxesSubplot at 0x2a67ce5dd48>"
      ]
     },
     "execution_count": 40,
     "metadata": {},
     "output_type": "execute_result"
    },
    {
     "data": {
      "image/png": "[encoded data removed]",
      "text/plain": [
       "<Figure size 432x288 with 1 Axes>"
      ]
     },
     "metadata": {
      "needs_background": "light"
     },
     "output_type": "display_data"
    }
   ],
   "source": [
    "clean_df[:10000].power_available_mw_obsnorm.plot()"
   ]
  },
  {
   "cell_type": "code",
   "execution_count": 41,
   "metadata": {
    "ExecuteTime": {
     "end_time": "2020-07-28T09:57:42.518786Z",
     "start_time": "2020-07-28T09:57:42.507776Z"
    }
   },
   "outputs": [
    {
     "data": {
      "text/plain": [
       "0.7797212303721229"
      ]
     },
     "execution_count": 41,
     "metadata": {},
     "output_type": "execute_result"
    }
   ],
   "source": [
    "max(nrg_df.target_losses_norm)"
   ]
  },
  {
   "cell_type": "code",
   "execution_count": 42,
   "metadata": {
    "ExecuteTime": {
     "end_time": "2020-07-28T09:57:42.606866Z",
     "start_time": "2020-07-28T09:57:42.519787Z"
    }
   },
   "outputs": [],
   "source": [
    "loss_above_p = {}\n",
    "max_loss = max(nrg_df.target_losses_norm)\n",
    "for p in range(0, 100):\n",
    "    loss_above_p[p] = nrg_df[nrg_df.target_losses_norm >= max_loss * p /100].shape[0]"
   ]
  },
  {
   "cell_type": "markdown",
   "metadata": {
    "ExecuteTime": {
     "end_time": "2020-07-27T13:56:11.682473Z",
     "start_time": "2020-07-27T13:56:11.673959Z"
    }
   },
   "source": [
    "What percentage of the maximum loss work does occur how often?"
   ]
  },
  {
   "cell_type": "code",
   "execution_count": 43,
   "metadata": {
    "ExecuteTime": {
     "end_time": "2020-07-28T09:57:43.098313Z",
     "start_time": "2020-07-28T09:57:42.607877Z"
    }
   },
   "outputs": [
    {
     "data": {
      "image/png": "[encoded data removed]",
      "text/plain": [
       "<Figure size 1152x720 with 1 Axes>"
      ]
     },
     "metadata": {
      "needs_background": "light"
     },
     "output_type": "display_data"
    }
   ],
   "source": [
    "loss_above_p_hours = {k: v/6 for k,v in enumerate(loss_above_p.values())}\n",
    "plt.figure(figsize = (16,10))\n",
    "plt.bar(loss_above_p.keys(), loss_above_p_hours.values())\n",
    "plt.ylabel('Hours')\n",
    "plt.xlabel('% of maximum loss')\n",
    "plt.title('How many hours did we lose what percentage of the maximum loss or more?\\n(Percentage of maximum loss is a certain, unknown wattage. How often do we lose that wattage or more?)')\n",
    "\n",
    "plt.savefig('figures/work_hours_over_p_of_loss')"
   ]
  },
  {
   "cell_type": "code",
   "execution_count": 53,
   "metadata": {
    "ExecuteTime": {
     "end_time": "2020-07-28T09:58:57.709949Z",
     "start_time": "2020-07-28T09:58:57.290577Z"
    }
   },
   "outputs": [
    {
     "data": {
      "image/png": "[encoded data removed]",
      "text/plain": [
       "<Figure size 720x432 with 1 Axes>"
      ]
     },
     "metadata": {
      "needs_background": "light"
     },
     "output_type": "display_data"
    }
   ],
   "source": [
    "loss_above_p_ratio = {k: v*100/nrg_df.shape[0] for k,v in enumerate(loss_above_p.values())}\n",
    "plt.figure(figsize = (10,6))\n",
    "plt.bar(loss_above_p.keys(), loss_above_p_ratio.values())\n",
    "plt.ylabel('% of observed time')\n",
    "plt.xlabel('% of maximum loss')\n",
    "plt.title('What percentage of the time did we lose what percentage of the maximum loss or more?\\n(Percentage of maximum loss is a certain, unknown wattage. How often do we lose that wattage or more?)')\n",
    "\n",
    "plt.savefig('figures/percent_of_time_over_p_of_loss')"
   ]
  },
  {
   "cell_type": "code",
   "execution_count": 45,
   "metadata": {
    "ExecuteTime": {
     "end_time": "2020-07-28T09:57:43.592271Z",
     "start_time": "2020-07-28T09:57:43.581261Z"
    }
   },
   "outputs": [
    {
     "data": {
      "text/plain": [
       "0.8017171066752521"
      ]
     },
     "execution_count": 45,
     "metadata": {},
     "output_type": "execute_result"
    }
   ],
   "source": [
    "max(nrg_df.power_mw_obsnorm)"
   ]
  },
  {
   "cell_type": "code",
   "execution_count": 46,
   "metadata": {
    "ExecuteTime": {
     "end_time": "2020-07-28T09:57:45.663687Z",
     "start_time": "2020-07-28T09:57:43.593778Z"
    }
   },
   "outputs": [],
   "source": [
    "used_above_p_ratio = {}\n",
    "max_use = max(nrg_df.power_mw_obsnorm)\n",
    "occupation = (nrg_df.power_available_mw_obsnorm >= nrg_df.power_mw_obsnorm)\n",
    "for p in range(0, 100):\n",
    "    in_range = (nrg_df.power_mw_obsnorm >= max_use * p /100)\n",
    "    used_above_p_ratio[p] = nrg_df[[rb and ob for rb, ob in zip(in_range, occupation)]].shape[0]*100/nrg_df.shape[0]"
   ]
  },
  {
   "cell_type": "code",
   "execution_count": 52,
   "metadata": {
    "ExecuteTime": {
     "end_time": "2020-07-28T09:58:51.393692Z",
     "start_time": "2020-07-28T09:58:50.866220Z"
    }
   },
   "outputs": [
    {
     "data": {
      "image/png": "[encoded data removed]",
      "text/plain": [
       "<Figure size 720x432 with 1 Axes>"
      ]
     },
     "metadata": {
      "needs_background": "light"
     },
     "output_type": "display_data"
    }
   ],
   "source": [
    "plt.figure(figsize = (10,6))\n",
    "plt.bar(used_above_p_ratio.keys(), used_above_p_ratio.values())\n",
    "plt.ylabel('% of observed time')\n",
    "plt.xlabel('% of maximum used')\n",
    "plt.title('There\\'s a certain wattage that can be fed into the grid. A naive assumption would be, that it is the maximum of the used power.\\nHere you see how often a percentage of that maximum wattage, or more, is fed into the grid.')\n",
    "\n",
    "plt.savefig('figures/percent_of_time_over_percent_of_used')"
   ]
  },
  {
   "cell_type": "markdown",
   "metadata": {},
   "source": [
    "So how many batteries do I install? Well, it's not that easy.  \n",
    "Why do you want batteries? So you can save loss energy for later! But batteries don't save Watts, they save Watt\\*hours. So if you have a long time with high loss your batteries will be full. And what if the next high loss period begins before your battery is depleted? For that, we have to look at the time line and simulate real batteries.  \n",
    "We will do that, but first let's get a simpler model: Hydrogen production! Given unlimited storage for hydrogen, a hydrogen plant could, at any given moment take the maximum work it is laid out for. Even though technically complicated, it makes for an easier model."
   ]
  },
  {
   "cell_type": "code",
   "execution_count": 66,
   "metadata": {
    "ExecuteTime": {
     "end_time": "2020-07-28T10:10:27.934535Z",
     "start_time": "2020-07-28T10:10:27.931541Z"
    }
   },
   "outputs": [],
   "source": [
    "used_p_ratio = dict(enumerate(np.diff(list(used_above_p_ratio.values()))*(-1)))"
   ]
  },
  {
   "cell_type": "code",
   "execution_count": 68,
   "metadata": {
    "ExecuteTime": {
     "end_time": "2020-07-28T10:33:53.379695Z",
     "start_time": "2020-07-28T10:33:52.953800Z"
    }
   },
   "outputs": [
    {
     "data": {
      "image/png": "[encoded data removed]",
      "text/plain": [
       "<Figure size 720x432 with 1 Axes>"
      ]
     },
     "metadata": {
      "needs_background": "light"
     },
     "output_type": "display_data"
    }
   ],
   "source": [
    "plt.figure(figsize = (10,6))\n",
    "plt.bar(used_p_ratio.keys(), used_p_ratio.values())\n",
    "plt.ylabel('% of observed time')\n",
    "plt.xlabel('% of maximum used')\n",
    "plt.title('There\\'s a certain wattage that can be fed into the grid. A naive assumption would be, that it is the maximum of the used power.\\nHere you see how often a percentage of that maximum wattage, is fed into the grid.')\n",
    "\n",
    "plt.savefig('figures/percent_of_time_over_percent_of_used')"
   ]
  },
  {
   "cell_type": "code",
   "execution_count": null,
   "metadata": {},
   "outputs": [],
   "source": [
    "def bat_sim(loss_ts):\n",
    "    '''\n",
    "    No pun intended. This simulates batterries.\n",
    "    \n",
    "    In: \n",
    "    loss_ts: time series with loss energy\n",
    "    b: battery capacity in percentage of maximum value in loss_ts\n",
    "    c: consumption in percent of maximum value in loss_ts, how moch work can be used at any given time\n",
    "    \n",
    "    Out:\n",
    "    list of percentages representing battery charge\n",
    "    list of percentages at what capacity the consumption could be fulfilled (If you have more loss energy than consumption it will be 100%)\n",
    "    \n",
    "    '''\n",
    "    "
   ]
  },
  {
   "cell_type": "markdown",
   "metadata": {},
   "source": [
    "# Creating a Model"
   ]
  },
  {
   "cell_type": "code",
   "execution_count": null,
   "metadata": {
    "ExecuteTime": {
     "end_time": "2020-07-27T13:01:21.606422Z",
     "start_time": "2020-07-27T13:01:21.597421Z"
    }
   },
   "outputs": [],
   "source": []
  },
  {
   "cell_type": "code",
   "execution_count": null,
   "metadata": {},
   "outputs": [],
   "source": []
  }
 ],
 "metadata": {
  "kernelspec": {
   "display_name": "Python 3",
   "language": "python",
   "name": "python3"
  },
  "language_info": {
   "codemirror_mode": {
    "name": "ipython",
    "version": 3
   },
   "file_extension": ".py",
   "mimetype": "text/x-python",
   "name": "python",
   "nbconvert_exporter": "python",
   "pygments_lexer": "ipython3",
   "version": "3.7.6"
  },
  "latex_envs": {
   "LaTeX_envs_menu_present": true,
   "autoclose": false,
   "autocomplete": true,
   "bibliofile": "biblio.bib",
   "cite_by": "apalike",
   "current_citInitial": 1,
   "eqLabelWithNumbers": true,
   "eqNumInitial": 1,
   "hotkeys": {
    "equation": "Ctrl-E",
    "itemize": "Ctrl-I"
   },
   "labels_anchors": false,
   "latex_user_defs": false,
   "report_style_numbering": false,
   "user_envs_cfg": false
  },
  "toc": {
   "base_numbering": 1,
   "nav_menu": {},
   "number_sections": true,
   "sideBar": true,
   "skip_h1_title": false,
   "title_cell": "Table of Contents",
   "title_sidebar": "Contents",
   "toc_cell": false,
   "toc_position": {},
   "toc_section_display": true,
   "toc_window_display": true
  },
  "varInspector": {
   "cols": {
    "lenName": 16,
    "lenType": 16,
    "lenVar": 40
   },
   "kernels_config": {
    "python": {
     "delete_cmd_postfix": "",
     "delete_cmd_prefix": "del ",
     "library": "var_list.py",
     "varRefreshCmd": "print(var_dic_list())"
    },
    "r": {
     "delete_cmd_postfix": ") ",
     "delete_cmd_prefix": "rm(",
     "library": "var_list.r",
     "varRefreshCmd": "cat(var_dic_list()) "
    }
   },
   "types_to_exclude": [
    "module",
    "function",
    "builtin_function_or_method",
    "instance",
    "_Feature"
   ],
   "window_display": false
  }
 },
 "nbformat": 4,
 "nbformat_minor": 4
}
