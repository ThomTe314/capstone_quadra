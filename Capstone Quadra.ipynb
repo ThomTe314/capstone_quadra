{
 "cells": [
  {
   "cell_type": "code",
   "execution_count": 1,
   "metadata": {
    "ExecuteTime": {
     "end_time": "2020-07-16T10:32:46.496549Z",
     "start_time": "2020-07-16T10:32:45.971063Z"
    }
   },
   "outputs": [],
   "source": [
    "import pickle\n",
    "import pandas as pd"
   ]
  },
  {
   "cell_type": "markdown",
   "metadata": {},
   "source": [
    "# Data Exploration"
   ]
  },
  {
   "cell_type": "markdown",
   "metadata": {},
   "source": [
    "## Look and Loaded (load data and look at it)"
   ]
  },
  {
   "cell_type": "code",
   "execution_count": 30,
   "metadata": {
    "ExecuteTime": {
     "end_time": "2020-07-16T11:53:44.626453Z",
     "start_time": "2020-07-16T11:53:44.621449Z"
    }
   },
   "outputs": [],
   "source": [
    "def load_pickle(file):\n",
    "    objects = []\n",
    "    with open(file, \"rb\") as openfile:\n",
    "        u = pickle._Unpickler(openfile)\n",
    "        u.encoding = 'latin1'\n",
    "        df = u.load()\n",
    "    return df"
   ]
  },
  {
   "cell_type": "code",
   "execution_count": 18,
   "metadata": {
    "ExecuteTime": {
     "end_time": "2020-07-16T11:46:48.543692Z",
     "start_time": "2020-07-16T11:46:48.493646Z"
    }
   },
   "outputs": [],
   "source": [
    "wthr_df = load_pickle(\"griddata_gfs_us_20180101_20190826_03_final.p\")"
   ]
  },
  {
   "cell_type": "code",
   "execution_count": 36,
   "metadata": {
    "ExecuteTime": {
     "end_time": "2020-07-16T12:03:47.920490Z",
     "start_time": "2020-07-16T12:03:47.897469Z"
    }
   },
   "outputs": [
    {
     "data": {
      "text/html": [
       "<div>\n",
       "<style scoped>\n",
       "    .dataframe tbody tr th:only-of-type {\n",
       "        vertical-align: middle;\n",
       "    }\n",
       "\n",
       "    .dataframe tbody tr th {\n",
       "        vertical-align: top;\n",
       "    }\n",
       "\n",
       "    .dataframe thead th {\n",
       "        text-align: right;\n",
       "    }\n",
       "</style>\n",
       "<table border=\"1\" class=\"dataframe\">\n",
       "  <thead>\n",
       "    <tr style=\"text-align: right;\">\n",
       "      <th></th>\n",
       "      <th>dswrf_sfc_wm2</th>\n",
       "      <th>gust_sfc_ms</th>\n",
       "      <th>hpbl_sfc_m</th>\n",
       "      <th>msl_ms_pa</th>\n",
       "      <th>pottemp_80mto0m_K</th>\n",
       "      <th>q_2m_1</th>\n",
       "      <th>q_pfg30_1</th>\n",
       "      <th>r_pl925_%</th>\n",
       "      <th>r_pl950_%</th>\n",
       "      <th>shtfl_sfc_wm2</th>\n",
       "      <th>...</th>\n",
       "      <th>wdir_10m_dn</th>\n",
       "      <th>wdir_pfg30_dn</th>\n",
       "      <th>wdir_pl925_dn</th>\n",
       "      <th>wsp_100m_ms</th>\n",
       "      <th>wsp_10m_ms</th>\n",
       "      <th>wsp_pfg30_ms</th>\n",
       "      <th>wsp_pl925_ms</th>\n",
       "      <th>created_on</th>\n",
       "      <th>azimuth</th>\n",
       "      <th>elevation</th>\n",
       "    </tr>\n",
       "    <tr>\n",
       "      <th>index</th>\n",
       "      <th></th>\n",
       "      <th></th>\n",
       "      <th></th>\n",
       "      <th></th>\n",
       "      <th></th>\n",
       "      <th></th>\n",
       "      <th></th>\n",
       "      <th></th>\n",
       "      <th></th>\n",
       "      <th></th>\n",
       "      <th></th>\n",
       "      <th></th>\n",
       "      <th></th>\n",
       "      <th></th>\n",
       "      <th></th>\n",
       "      <th></th>\n",
       "      <th></th>\n",
       "      <th></th>\n",
       "      <th></th>\n",
       "      <th></th>\n",
       "      <th></th>\n",
       "    </tr>\n",
       "  </thead>\n",
       "  <tbody>\n",
       "    <tr>\n",
       "      <th>2018-01-01 06:00:00+00:00</th>\n",
       "      <td>0.0</td>\n",
       "      <td>16.777032</td>\n",
       "      <td>1349.927656</td>\n",
       "      <td>99212.0625</td>\n",
       "      <td>0.559356</td>\n",
       "      <td>0.005105</td>\n",
       "      <td>0.004852</td>\n",
       "      <td>89.975</td>\n",
       "      <td>83.075</td>\n",
       "      <td>-58.444885</td>\n",
       "      <td>...</td>\n",
       "      <td>51.936818</td>\n",
       "      <td>54.855777</td>\n",
       "      <td>58.963042</td>\n",
       "      <td>16.548291</td>\n",
       "      <td>9.772748</td>\n",
       "      <td>16.622077</td>\n",
       "      <td>21.963719</td>\n",
       "      <td>2018-01-01 00:00:00+00:00</td>\n",
       "      <td>111.880959</td>\n",
       "      <td>-12.132894</td>\n",
       "    </tr>\n",
       "    <tr>\n",
       "      <th>2018-01-01 07:00:00+00:00</th>\n",
       "      <td>0.0</td>\n",
       "      <td>16.606744</td>\n",
       "      <td>1352.623506</td>\n",
       "      <td>99259.8125</td>\n",
       "      <td>0.528755</td>\n",
       "      <td>0.005005</td>\n",
       "      <td>0.004739</td>\n",
       "      <td>89.250</td>\n",
       "      <td>82.250</td>\n",
       "      <td>-59.127808</td>\n",
       "      <td>...</td>\n",
       "      <td>59.839207</td>\n",
       "      <td>62.809819</td>\n",
       "      <td>66.607932</td>\n",
       "      <td>16.795002</td>\n",
       "      <td>9.966123</td>\n",
       "      <td>16.832585</td>\n",
       "      <td>21.917341</td>\n",
       "      <td>2018-01-01 00:00:00+00:00</td>\n",
       "      <td>122.901711</td>\n",
       "      <td>-3.799353</td>\n",
       "    </tr>\n",
       "    <tr>\n",
       "      <th>2018-01-01 08:00:00+00:00</th>\n",
       "      <td>0.0</td>\n",
       "      <td>16.750567</td>\n",
       "      <td>1385.881213</td>\n",
       "      <td>99340.0125</td>\n",
       "      <td>0.519516</td>\n",
       "      <td>0.004875</td>\n",
       "      <td>0.004601</td>\n",
       "      <td>88.350</td>\n",
       "      <td>81.475</td>\n",
       "      <td>-60.174194</td>\n",
       "      <td>...</td>\n",
       "      <td>66.846392</td>\n",
       "      <td>69.702886</td>\n",
       "      <td>73.395684</td>\n",
       "      <td>17.187174</td>\n",
       "      <td>10.191553</td>\n",
       "      <td>17.103298</td>\n",
       "      <td>22.151705</td>\n",
       "      <td>2018-01-01 00:00:00+00:00</td>\n",
       "      <td>134.513901</td>\n",
       "      <td>3.528108</td>\n",
       "    </tr>\n",
       "    <tr>\n",
       "      <th>2018-01-01 09:00:00+00:00</th>\n",
       "      <td>30.0</td>\n",
       "      <td>16.653720</td>\n",
       "      <td>1406.317913</td>\n",
       "      <td>99435.6875</td>\n",
       "      <td>0.462775</td>\n",
       "      <td>0.004693</td>\n",
       "      <td>0.004395</td>\n",
       "      <td>85.400</td>\n",
       "      <td>78.575</td>\n",
       "      <td>-61.376221</td>\n",
       "      <td>...</td>\n",
       "      <td>69.538877</td>\n",
       "      <td>72.116654</td>\n",
       "      <td>75.992542</td>\n",
       "      <td>16.804585</td>\n",
       "      <td>10.074198</td>\n",
       "      <td>16.507619</td>\n",
       "      <td>21.857454</td>\n",
       "      <td>2018-01-01 00:00:00+00:00</td>\n",
       "      <td>146.969666</td>\n",
       "      <td>9.473817</td>\n",
       "    </tr>\n",
       "    <tr>\n",
       "      <th>2018-01-01 10:00:00+00:00</th>\n",
       "      <td>70.0</td>\n",
       "      <td>16.143047</td>\n",
       "      <td>1413.328074</td>\n",
       "      <td>99523.6750</td>\n",
       "      <td>0.395166</td>\n",
       "      <td>0.004618</td>\n",
       "      <td>0.004322</td>\n",
       "      <td>85.275</td>\n",
       "      <td>78.300</td>\n",
       "      <td>-50.711792</td>\n",
       "      <td>...</td>\n",
       "      <td>67.391618</td>\n",
       "      <td>69.753380</td>\n",
       "      <td>73.848494</td>\n",
       "      <td>15.970588</td>\n",
       "      <td>9.719457</td>\n",
       "      <td>15.561127</td>\n",
       "      <td>21.082533</td>\n",
       "      <td>2018-01-01 00:00:00+00:00</td>\n",
       "      <td>160.319397</td>\n",
       "      <td>13.648098</td>\n",
       "    </tr>\n",
       "  </tbody>\n",
       "</table>\n",
       "<p>5 rows × 26 columns</p>\n",
       "</div>"
      ],
      "text/plain": [
       "                           dswrf_sfc_wm2  gust_sfc_ms   hpbl_sfc_m  \\\n",
       "index                                                                \n",
       "2018-01-01 06:00:00+00:00            0.0    16.777032  1349.927656   \n",
       "2018-01-01 07:00:00+00:00            0.0    16.606744  1352.623506   \n",
       "2018-01-01 08:00:00+00:00            0.0    16.750567  1385.881213   \n",
       "2018-01-01 09:00:00+00:00           30.0    16.653720  1406.317913   \n",
       "2018-01-01 10:00:00+00:00           70.0    16.143047  1413.328074   \n",
       "\n",
       "                            msl_ms_pa  pottemp_80mto0m_K    q_2m_1  q_pfg30_1  \\\n",
       "index                                                                           \n",
       "2018-01-01 06:00:00+00:00  99212.0625           0.559356  0.005105   0.004852   \n",
       "2018-01-01 07:00:00+00:00  99259.8125           0.528755  0.005005   0.004739   \n",
       "2018-01-01 08:00:00+00:00  99340.0125           0.519516  0.004875   0.004601   \n",
       "2018-01-01 09:00:00+00:00  99435.6875           0.462775  0.004693   0.004395   \n",
       "2018-01-01 10:00:00+00:00  99523.6750           0.395166  0.004618   0.004322   \n",
       "\n",
       "                           r_pl925_%  r_pl950_%  shtfl_sfc_wm2  ...  \\\n",
       "index                                                           ...   \n",
       "2018-01-01 06:00:00+00:00     89.975     83.075     -58.444885  ...   \n",
       "2018-01-01 07:00:00+00:00     89.250     82.250     -59.127808  ...   \n",
       "2018-01-01 08:00:00+00:00     88.350     81.475     -60.174194  ...   \n",
       "2018-01-01 09:00:00+00:00     85.400     78.575     -61.376221  ...   \n",
       "2018-01-01 10:00:00+00:00     85.275     78.300     -50.711792  ...   \n",
       "\n",
       "                           wdir_10m_dn  wdir_pfg30_dn  wdir_pl925_dn  \\\n",
       "index                                                                  \n",
       "2018-01-01 06:00:00+00:00    51.936818      54.855777      58.963042   \n",
       "2018-01-01 07:00:00+00:00    59.839207      62.809819      66.607932   \n",
       "2018-01-01 08:00:00+00:00    66.846392      69.702886      73.395684   \n",
       "2018-01-01 09:00:00+00:00    69.538877      72.116654      75.992542   \n",
       "2018-01-01 10:00:00+00:00    67.391618      69.753380      73.848494   \n",
       "\n",
       "                           wsp_100m_ms  wsp_10m_ms  wsp_pfg30_ms  \\\n",
       "index                                                              \n",
       "2018-01-01 06:00:00+00:00    16.548291    9.772748     16.622077   \n",
       "2018-01-01 07:00:00+00:00    16.795002    9.966123     16.832585   \n",
       "2018-01-01 08:00:00+00:00    17.187174   10.191553     17.103298   \n",
       "2018-01-01 09:00:00+00:00    16.804585   10.074198     16.507619   \n",
       "2018-01-01 10:00:00+00:00    15.970588    9.719457     15.561127   \n",
       "\n",
       "                           wsp_pl925_ms                 created_on  \\\n",
       "index                                                                \n",
       "2018-01-01 06:00:00+00:00     21.963719  2018-01-01 00:00:00+00:00   \n",
       "2018-01-01 07:00:00+00:00     21.917341  2018-01-01 00:00:00+00:00   \n",
       "2018-01-01 08:00:00+00:00     22.151705  2018-01-01 00:00:00+00:00   \n",
       "2018-01-01 09:00:00+00:00     21.857454  2018-01-01 00:00:00+00:00   \n",
       "2018-01-01 10:00:00+00:00     21.082533  2018-01-01 00:00:00+00:00   \n",
       "\n",
       "                              azimuth  elevation  \n",
       "index                                             \n",
       "2018-01-01 06:00:00+00:00  111.880959 -12.132894  \n",
       "2018-01-01 07:00:00+00:00  122.901711  -3.799353  \n",
       "2018-01-01 08:00:00+00:00  134.513901   3.528108  \n",
       "2018-01-01 09:00:00+00:00  146.969666   9.473817  \n",
       "2018-01-01 10:00:00+00:00  160.319397  13.648098  \n",
       "\n",
       "[5 rows x 26 columns]"
      ]
     },
     "execution_count": 36,
     "metadata": {},
     "output_type": "execute_result"
    }
   ],
   "source": [
    "wthr_df.head()"
   ]
  },
  {
   "cell_type": "code",
   "execution_count": 40,
   "metadata": {
    "ExecuteTime": {
     "end_time": "2020-07-16T12:08:05.309300Z",
     "start_time": "2020-07-16T12:08:05.286279Z"
    }
   },
   "outputs": [
    {
     "data": {
      "text/plain": [
       "Timestamp('2019-08-26 18:00:00+0000', tz='UTC')"
      ]
     },
     "execution_count": 40,
     "metadata": {},
     "output_type": "execute_result"
    }
   ],
   "source": [
    "max(wthr_df.index)"
   ]
  },
  {
   "cell_type": "code",
   "execution_count": 20,
   "metadata": {
    "ExecuteTime": {
     "end_time": "2020-07-16T11:47:07.154454Z",
     "start_time": "2020-07-16T11:47:07.149444Z"
    }
   },
   "outputs": [
    {
     "data": {
      "text/plain": [
       "(14378, 26)"
      ]
     },
     "execution_count": 20,
     "metadata": {},
     "output_type": "execute_result"
    }
   ],
   "source": [
    "wthr_df.shape"
   ]
  },
  {
   "cell_type": "code",
   "execution_count": 22,
   "metadata": {
    "ExecuteTime": {
     "end_time": "2020-07-16T11:47:23.132427Z",
     "start_time": "2020-07-16T11:47:23.053830Z"
    }
   },
   "outputs": [
    {
     "data": {
      "text/html": [
       "<div>\n",
       "<style scoped>\n",
       "    .dataframe tbody tr th:only-of-type {\n",
       "        vertical-align: middle;\n",
       "    }\n",
       "\n",
       "    .dataframe tbody tr th {\n",
       "        vertical-align: top;\n",
       "    }\n",
       "\n",
       "    .dataframe thead th {\n",
       "        text-align: right;\n",
       "    }\n",
       "</style>\n",
       "<table border=\"1\" class=\"dataframe\">\n",
       "  <thead>\n",
       "    <tr style=\"text-align: right;\">\n",
       "      <th></th>\n",
       "      <th>dswrf_sfc_wm2</th>\n",
       "      <th>gust_sfc_ms</th>\n",
       "      <th>hpbl_sfc_m</th>\n",
       "      <th>msl_ms_pa</th>\n",
       "      <th>pottemp_80mto0m_K</th>\n",
       "      <th>q_2m_1</th>\n",
       "      <th>q_pfg30_1</th>\n",
       "      <th>r_pl925_%</th>\n",
       "      <th>r_pl950_%</th>\n",
       "      <th>shtfl_sfc_wm2</th>\n",
       "      <th>...</th>\n",
       "      <th>wdir_100m_dn</th>\n",
       "      <th>wdir_10m_dn</th>\n",
       "      <th>wdir_pfg30_dn</th>\n",
       "      <th>wdir_pl925_dn</th>\n",
       "      <th>wsp_100m_ms</th>\n",
       "      <th>wsp_10m_ms</th>\n",
       "      <th>wsp_pfg30_ms</th>\n",
       "      <th>wsp_pl925_ms</th>\n",
       "      <th>azimuth</th>\n",
       "      <th>elevation</th>\n",
       "    </tr>\n",
       "  </thead>\n",
       "  <tbody>\n",
       "    <tr>\n",
       "      <th>count</th>\n",
       "      <td>14378.000000</td>\n",
       "      <td>14378.000000</td>\n",
       "      <td>14378.000000</td>\n",
       "      <td>14378.000000</td>\n",
       "      <td>14378.000000</td>\n",
       "      <td>14378.000000</td>\n",
       "      <td>14378.000000</td>\n",
       "      <td>14378.000000</td>\n",
       "      <td>14378.000000</td>\n",
       "      <td>14378.000000</td>\n",
       "      <td>...</td>\n",
       "      <td>14378.000000</td>\n",
       "      <td>14378.000000</td>\n",
       "      <td>14378.000000</td>\n",
       "      <td>14378.000000</td>\n",
       "      <td>14378.000000</td>\n",
       "      <td>14378.000000</td>\n",
       "      <td>14378.000000</td>\n",
       "      <td>14378.000000</td>\n",
       "      <td>14378.000000</td>\n",
       "      <td>14378.000000</td>\n",
       "    </tr>\n",
       "    <tr>\n",
       "      <th>mean</th>\n",
       "      <td>155.029194</td>\n",
       "      <td>7.943250</td>\n",
       "      <td>549.354510</td>\n",
       "      <td>101512.216593</td>\n",
       "      <td>0.742688</td>\n",
       "      <td>0.006481</td>\n",
       "      <td>0.006165</td>\n",
       "      <td>75.716828</td>\n",
       "      <td>75.737091</td>\n",
       "      <td>6.316193</td>\n",
       "      <td>...</td>\n",
       "      <td>162.410028</td>\n",
       "      <td>162.399371</td>\n",
       "      <td>162.002774</td>\n",
       "      <td>154.312530</td>\n",
       "      <td>7.471580</td>\n",
       "      <td>4.409038</td>\n",
       "      <td>7.351590</td>\n",
       "      <td>10.082908</td>\n",
       "      <td>182.032028</td>\n",
       "      <td>2.355874</td>\n",
       "    </tr>\n",
       "    <tr>\n",
       "      <th>std</th>\n",
       "      <td>230.147722</td>\n",
       "      <td>4.061036</td>\n",
       "      <td>427.125419</td>\n",
       "      <td>996.863087</td>\n",
       "      <td>1.175120</td>\n",
       "      <td>0.002735</td>\n",
       "      <td>0.002540</td>\n",
       "      <td>18.950255</td>\n",
       "      <td>17.724822</td>\n",
       "      <td>71.012102</td>\n",
       "      <td>...</td>\n",
       "      <td>99.361734</td>\n",
       "      <td>99.942995</td>\n",
       "      <td>99.257628</td>\n",
       "      <td>98.208108</td>\n",
       "      <td>3.329532</td>\n",
       "      <td>2.078577</td>\n",
       "      <td>3.285841</td>\n",
       "      <td>5.270483</td>\n",
       "      <td>103.042725</td>\n",
       "      <td>30.472445</td>\n",
       "    </tr>\n",
       "    <tr>\n",
       "      <th>min</th>\n",
       "      <td>0.000000</td>\n",
       "      <td>0.517106</td>\n",
       "      <td>21.333019</td>\n",
       "      <td>97637.887500</td>\n",
       "      <td>-2.431875</td>\n",
       "      <td>0.000993</td>\n",
       "      <td>0.000939</td>\n",
       "      <td>2.400000</td>\n",
       "      <td>2.425000</td>\n",
       "      <td>-115.227905</td>\n",
       "      <td>...</td>\n",
       "      <td>1.065702</td>\n",
       "      <td>1.605544</td>\n",
       "      <td>0.878477</td>\n",
       "      <td>1.231885</td>\n",
       "      <td>0.558441</td>\n",
       "      <td>0.389727</td>\n",
       "      <td>0.515088</td>\n",
       "      <td>0.338407</td>\n",
       "      <td>8.330822</td>\n",
       "      <td>-62.201588</td>\n",
       "    </tr>\n",
       "    <tr>\n",
       "      <th>25%</th>\n",
       "      <td>0.000000</td>\n",
       "      <td>4.683080</td>\n",
       "      <td>199.087539</td>\n",
       "      <td>100968.224375</td>\n",
       "      <td>-0.136376</td>\n",
       "      <td>0.004248</td>\n",
       "      <td>0.004075</td>\n",
       "      <td>64.625000</td>\n",
       "      <td>64.718129</td>\n",
       "      <td>-36.246123</td>\n",
       "      <td>...</td>\n",
       "      <td>78.421911</td>\n",
       "      <td>77.080156</td>\n",
       "      <td>78.444561</td>\n",
       "      <td>75.816115</td>\n",
       "      <td>5.176560</td>\n",
       "      <td>2.884135</td>\n",
       "      <td>5.082444</td>\n",
       "      <td>6.094260</td>\n",
       "      <td>90.158264</td>\n",
       "      <td>-19.496047</td>\n",
       "    </tr>\n",
       "    <tr>\n",
       "      <th>50%</th>\n",
       "      <td>15.000000</td>\n",
       "      <td>7.678551</td>\n",
       "      <td>451.845422</td>\n",
       "      <td>101567.477500</td>\n",
       "      <td>0.631883</td>\n",
       "      <td>0.006143</td>\n",
       "      <td>0.005920</td>\n",
       "      <td>79.475000</td>\n",
       "      <td>78.600000</td>\n",
       "      <td>-20.870140</td>\n",
       "      <td>...</td>\n",
       "      <td>130.455007</td>\n",
       "      <td>129.200547</td>\n",
       "      <td>130.106612</td>\n",
       "      <td>123.520460</td>\n",
       "      <td>7.159732</td>\n",
       "      <td>4.032932</td>\n",
       "      <td>7.046303</td>\n",
       "      <td>9.377695</td>\n",
       "      <td>186.476692</td>\n",
       "      <td>2.363771</td>\n",
       "    </tr>\n",
       "    <tr>\n",
       "      <th>75%</th>\n",
       "      <td>248.750000</td>\n",
       "      <td>10.631585</td>\n",
       "      <td>821.578707</td>\n",
       "      <td>102143.115625</td>\n",
       "      <td>1.514157</td>\n",
       "      <td>0.008523</td>\n",
       "      <td>0.008049</td>\n",
       "      <td>90.793750</td>\n",
       "      <td>89.643750</td>\n",
       "      <td>24.313370</td>\n",
       "      <td>...</td>\n",
       "      <td>261.226496</td>\n",
       "      <td>259.620900</td>\n",
       "      <td>261.262503</td>\n",
       "      <td>255.757132</td>\n",
       "      <td>9.261023</td>\n",
       "      <td>5.634826</td>\n",
       "      <td>9.126081</td>\n",
       "      <td>13.150352</td>\n",
       "      <td>273.261543</td>\n",
       "      <td>24.920794</td>\n",
       "    </tr>\n",
       "    <tr>\n",
       "      <th>max</th>\n",
       "      <td>885.500000</td>\n",
       "      <td>24.316044</td>\n",
       "      <td>2519.267852</td>\n",
       "      <td>104261.237500</td>\n",
       "      <td>4.514006</td>\n",
       "      <td>0.016743</td>\n",
       "      <td>0.014403</td>\n",
       "      <td>100.000000</td>\n",
       "      <td>100.000000</td>\n",
       "      <td>372.421576</td>\n",
       "      <td>...</td>\n",
       "      <td>359.180650</td>\n",
       "      <td>358.364902</td>\n",
       "      <td>359.093417</td>\n",
       "      <td>359.693548</td>\n",
       "      <td>23.256653</td>\n",
       "      <td>14.571061</td>\n",
       "      <td>23.972086</td>\n",
       "      <td>30.798095</td>\n",
       "      <td>358.682526</td>\n",
       "      <td>62.103596</td>\n",
       "    </tr>\n",
       "  </tbody>\n",
       "</table>\n",
       "<p>8 rows × 25 columns</p>\n",
       "</div>"
      ],
      "text/plain": [
       "       dswrf_sfc_wm2   gust_sfc_ms    hpbl_sfc_m      msl_ms_pa  \\\n",
       "count   14378.000000  14378.000000  14378.000000   14378.000000   \n",
       "mean      155.029194      7.943250    549.354510  101512.216593   \n",
       "std       230.147722      4.061036    427.125419     996.863087   \n",
       "min         0.000000      0.517106     21.333019   97637.887500   \n",
       "25%         0.000000      4.683080    199.087539  100968.224375   \n",
       "50%        15.000000      7.678551    451.845422  101567.477500   \n",
       "75%       248.750000     10.631585    821.578707  102143.115625   \n",
       "max       885.500000     24.316044   2519.267852  104261.237500   \n",
       "\n",
       "       pottemp_80mto0m_K        q_2m_1     q_pfg30_1     r_pl925_%  \\\n",
       "count       14378.000000  14378.000000  14378.000000  14378.000000   \n",
       "mean            0.742688      0.006481      0.006165     75.716828   \n",
       "std             1.175120      0.002735      0.002540     18.950255   \n",
       "min            -2.431875      0.000993      0.000939      2.400000   \n",
       "25%            -0.136376      0.004248      0.004075     64.625000   \n",
       "50%             0.631883      0.006143      0.005920     79.475000   \n",
       "75%             1.514157      0.008523      0.008049     90.793750   \n",
       "max             4.514006      0.016743      0.014403    100.000000   \n",
       "\n",
       "          r_pl950_%  shtfl_sfc_wm2  ...  wdir_100m_dn   wdir_10m_dn  \\\n",
       "count  14378.000000   14378.000000  ...  14378.000000  14378.000000   \n",
       "mean      75.737091       6.316193  ...    162.410028    162.399371   \n",
       "std       17.724822      71.012102  ...     99.361734     99.942995   \n",
       "min        2.425000    -115.227905  ...      1.065702      1.605544   \n",
       "25%       64.718129     -36.246123  ...     78.421911     77.080156   \n",
       "50%       78.600000     -20.870140  ...    130.455007    129.200547   \n",
       "75%       89.643750      24.313370  ...    261.226496    259.620900   \n",
       "max      100.000000     372.421576  ...    359.180650    358.364902   \n",
       "\n",
       "       wdir_pfg30_dn  wdir_pl925_dn   wsp_100m_ms    wsp_10m_ms  wsp_pfg30_ms  \\\n",
       "count   14378.000000   14378.000000  14378.000000  14378.000000  14378.000000   \n",
       "mean      162.002774     154.312530      7.471580      4.409038      7.351590   \n",
       "std        99.257628      98.208108      3.329532      2.078577      3.285841   \n",
       "min         0.878477       1.231885      0.558441      0.389727      0.515088   \n",
       "25%        78.444561      75.816115      5.176560      2.884135      5.082444   \n",
       "50%       130.106612     123.520460      7.159732      4.032932      7.046303   \n",
       "75%       261.262503     255.757132      9.261023      5.634826      9.126081   \n",
       "max       359.093417     359.693548     23.256653     14.571061     23.972086   \n",
       "\n",
       "       wsp_pl925_ms       azimuth     elevation  \n",
       "count  14378.000000  14378.000000  14378.000000  \n",
       "mean      10.082908    182.032028      2.355874  \n",
       "std        5.270483    103.042725     30.472445  \n",
       "min        0.338407      8.330822    -62.201588  \n",
       "25%        6.094260     90.158264    -19.496047  \n",
       "50%        9.377695    186.476692      2.363771  \n",
       "75%       13.150352    273.261543     24.920794  \n",
       "max       30.798095    358.682526     62.103596  \n",
       "\n",
       "[8 rows x 25 columns]"
      ]
     },
     "execution_count": 22,
     "metadata": {},
     "output_type": "execute_result"
    }
   ],
   "source": [
    "wthr_df.describe()"
   ]
  },
  {
   "cell_type": "code",
   "execution_count": 24,
   "metadata": {
    "ExecuteTime": {
     "end_time": "2020-07-16T11:48:09.309620Z",
     "start_time": "2020-07-16T11:48:08.965784Z"
    }
   },
   "outputs": [],
   "source": [
    "nrg_df = load_pickle(\"obs_20180101_20190625_03_final_normed.p\")"
   ]
  },
  {
   "cell_type": "code",
   "execution_count": 50,
   "metadata": {
    "ExecuteTime": {
     "end_time": "2020-07-16T15:20:28.978168Z",
     "start_time": "2020-07-16T15:20:28.968160Z"
    }
   },
   "outputs": [
    {
     "data": {
      "text/html": [
       "<div>\n",
       "<style scoped>\n",
       "    .dataframe tbody tr th:only-of-type {\n",
       "        vertical-align: middle;\n",
       "    }\n",
       "\n",
       "    .dataframe tbody tr th {\n",
       "        vertical-align: top;\n",
       "    }\n",
       "\n",
       "    .dataframe thead th {\n",
       "        text-align: right;\n",
       "    }\n",
       "</style>\n",
       "<table border=\"1\" class=\"dataframe\">\n",
       "  <thead>\n",
       "    <tr style=\"text-align: right;\">\n",
       "      <th></th>\n",
       "      <th>power_mw_obsnorm</th>\n",
       "      <th>power_available_mw_obsnorm</th>\n",
       "      <th>target_losses_norm</th>\n",
       "    </tr>\n",
       "  </thead>\n",
       "  <tbody>\n",
       "    <tr>\n",
       "      <th>2018-01-01 00:00:00+01:00</th>\n",
       "      <td>0.330269</td>\n",
       "      <td>0.450934</td>\n",
       "      <td>0.120665</td>\n",
       "    </tr>\n",
       "    <tr>\n",
       "      <th>2018-01-01 00:10:00+01:00</th>\n",
       "      <td>0.339204</td>\n",
       "      <td>0.457539</td>\n",
       "      <td>0.118335</td>\n",
       "    </tr>\n",
       "    <tr>\n",
       "      <th>2018-01-01 00:20:00+01:00</th>\n",
       "      <td>0.336993</td>\n",
       "      <td>0.456577</td>\n",
       "      <td>0.119584</td>\n",
       "    </tr>\n",
       "    <tr>\n",
       "      <th>2018-01-01 00:30:00+01:00</th>\n",
       "      <td>0.337858</td>\n",
       "      <td>0.462447</td>\n",
       "      <td>0.124589</td>\n",
       "    </tr>\n",
       "    <tr>\n",
       "      <th>2018-01-01 00:40:00+01:00</th>\n",
       "      <td>0.353646</td>\n",
       "      <td>0.483538</td>\n",
       "      <td>0.129892</td>\n",
       "    </tr>\n",
       "  </tbody>\n",
       "</table>\n",
       "</div>"
      ],
      "text/plain": [
       "                           power_mw_obsnorm  power_available_mw_obsnorm  \\\n",
       "2018-01-01 00:00:00+01:00          0.330269                    0.450934   \n",
       "2018-01-01 00:10:00+01:00          0.339204                    0.457539   \n",
       "2018-01-01 00:20:00+01:00          0.336993                    0.456577   \n",
       "2018-01-01 00:30:00+01:00          0.337858                    0.462447   \n",
       "2018-01-01 00:40:00+01:00          0.353646                    0.483538   \n",
       "\n",
       "                           target_losses_norm  \n",
       "2018-01-01 00:00:00+01:00            0.120665  \n",
       "2018-01-01 00:10:00+01:00            0.118335  \n",
       "2018-01-01 00:20:00+01:00            0.119584  \n",
       "2018-01-01 00:30:00+01:00            0.124589  \n",
       "2018-01-01 00:40:00+01:00            0.129892  "
      ]
     },
     "execution_count": 50,
     "metadata": {},
     "output_type": "execute_result"
    }
   ],
   "source": [
    "nrg_df.head()"
   ]
  },
  {
   "cell_type": "code",
   "execution_count": 39,
   "metadata": {
    "ExecuteTime": {
     "end_time": "2020-07-16T12:05:04.549588Z",
     "start_time": "2020-07-16T12:05:04.238790Z"
    }
   },
   "outputs": [
    {
     "data": {
      "text/plain": [
       "Timestamp('2019-06-25 01:50:00+0200', tz='Europe/Berlin')"
      ]
     },
     "execution_count": 39,
     "metadata": {},
     "output_type": "execute_result"
    }
   ],
   "source": [
    "max(nrg_df.index)"
   ]
  },
  {
   "cell_type": "code",
   "execution_count": 28,
   "metadata": {
    "ExecuteTime": {
     "end_time": "2020-07-16T11:48:50.282576Z",
     "start_time": "2020-07-16T11:48:50.278572Z"
    }
   },
   "outputs": [
    {
     "data": {
      "text/plain": [
       "(70710, 3)"
      ]
     },
     "execution_count": 28,
     "metadata": {},
     "output_type": "execute_result"
    }
   ],
   "source": [
    "nrg_df.shape"
   ]
  },
  {
   "cell_type": "code",
   "execution_count": 29,
   "metadata": {
    "ExecuteTime": {
     "end_time": "2020-07-16T11:50:51.979791Z",
     "start_time": "2020-07-16T11:50:51.957762Z"
    }
   },
   "outputs": [
    {
     "data": {
      "text/html": [
       "<div>\n",
       "<style scoped>\n",
       "    .dataframe tbody tr th:only-of-type {\n",
       "        vertical-align: middle;\n",
       "    }\n",
       "\n",
       "    .dataframe tbody tr th {\n",
       "        vertical-align: top;\n",
       "    }\n",
       "\n",
       "    .dataframe thead th {\n",
       "        text-align: right;\n",
       "    }\n",
       "</style>\n",
       "<table border=\"1\" class=\"dataframe\">\n",
       "  <thead>\n",
       "    <tr style=\"text-align: right;\">\n",
       "      <th></th>\n",
       "      <th>power_mw_obsnorm</th>\n",
       "      <th>power_available_mw_obsnorm</th>\n",
       "      <th>target_losses_norm</th>\n",
       "    </tr>\n",
       "  </thead>\n",
       "  <tbody>\n",
       "    <tr>\n",
       "      <th>count</th>\n",
       "      <td>70710.000000</td>\n",
       "      <td>70710.000000</td>\n",
       "      <td>70710.000000</td>\n",
       "    </tr>\n",
       "    <tr>\n",
       "      <th>mean</th>\n",
       "      <td>0.204310</td>\n",
       "      <td>0.274691</td>\n",
       "      <td>0.070381</td>\n",
       "    </tr>\n",
       "    <tr>\n",
       "      <th>std</th>\n",
       "      <td>0.162364</td>\n",
       "      <td>0.264172</td>\n",
       "      <td>0.128426</td>\n",
       "    </tr>\n",
       "    <tr>\n",
       "      <th>min</th>\n",
       "      <td>0.000000</td>\n",
       "      <td>0.000073</td>\n",
       "      <td>0.000049</td>\n",
       "    </tr>\n",
       "    <tr>\n",
       "      <th>25%</th>\n",
       "      <td>0.065503</td>\n",
       "      <td>0.074167</td>\n",
       "      <td>0.005369</td>\n",
       "    </tr>\n",
       "    <tr>\n",
       "      <th>50%</th>\n",
       "      <td>0.166234</td>\n",
       "      <td>0.181165</td>\n",
       "      <td>0.014100</td>\n",
       "    </tr>\n",
       "    <tr>\n",
       "      <th>75%</th>\n",
       "      <td>0.320650</td>\n",
       "      <td>0.391951</td>\n",
       "      <td>0.056041</td>\n",
       "    </tr>\n",
       "    <tr>\n",
       "      <th>max</th>\n",
       "      <td>0.801717</td>\n",
       "      <td>1.019565</td>\n",
       "      <td>0.779721</td>\n",
       "    </tr>\n",
       "  </tbody>\n",
       "</table>\n",
       "</div>"
      ],
      "text/plain": [
       "       power_mw_obsnorm  power_available_mw_obsnorm  target_losses_norm\n",
       "count      70710.000000                70710.000000        70710.000000\n",
       "mean           0.204310                    0.274691            0.070381\n",
       "std            0.162364                    0.264172            0.128426\n",
       "min            0.000000                    0.000073            0.000049\n",
       "25%            0.065503                    0.074167            0.005369\n",
       "50%            0.166234                    0.181165            0.014100\n",
       "75%            0.320650                    0.391951            0.056041\n",
       "max            0.801717                    1.019565            0.779721"
      ]
     },
     "execution_count": 29,
     "metadata": {},
     "output_type": "execute_result"
    }
   ],
   "source": [
    "nrg_df.describe()"
   ]
  },
  {
   "cell_type": "markdown",
   "metadata": {},
   "source": [
    "## Let's get plottin'"
   ]
  },
  {
   "cell_type": "code",
   "execution_count": 57,
   "metadata": {
    "ExecuteTime": {
     "end_time": "2020-07-16T15:40:20.601801Z",
     "start_time": "2020-07-16T15:40:20.596796Z"
    }
   },
   "outputs": [
    {
     "data": {
      "text/plain": [
       "<DstTzInfo 'Europe/Berlin' CET+1:00:00 STD>"
      ]
     },
     "execution_count": 57,
     "metadata": {},
     "output_type": "execute_result"
    }
   ],
   "source": [
    "nrg_df.index[14].tzinfo"
   ]
  },
  {
   "cell_type": "code",
   "execution_count": 86,
   "metadata": {
    "ExecuteTime": {
     "end_time": "2020-07-16T17:36:09.026430Z",
     "start_time": "2020-07-16T17:35:40.899546Z"
    },
    "scrolled": true
   },
   "outputs": [
    {
     "name": "stderr",
     "output_type": "stream",
     "text": [
      "C:\\Users\\thoma\\anaconda3\\lib\\site-packages\\ipykernel_launcher.py:3: FutureWarning: The pandas.datetime class is deprecated and will be removed from pandas in a future version. Import from datetime module instead.\n",
      "  This is separate from the ipykernel package so we can avoid doing imports until\n",
      "C:\\Users\\thoma\\anaconda3\\lib\\site-packages\\ipykernel_launcher.py:7: SettingWithCopyWarning: \n",
      "A value is trying to be set on a copy of a slice from a DataFrame\n",
      "\n",
      "See the caveats in the documentation: https://pandas.pydata.org/pandas-docs/stable/user_guide/indexing.html#returning-a-view-versus-a-copy\n",
      "  import sys\n"
     ]
    }
   ],
   "source": [
    "nrg_df['date_by_hour'] = 'NaN'\n",
    "for i, row in nrg_df.iterrows():\n",
    "    nrg_df.date_by_hour[i] = pd.datetime(i.year, \n",
    "                                      i.month, \n",
    "                                      i.day, \n",
    "                                      i.hour, \n",
    "                                      tzinfo = i.tzinfo)"
   ]
  },
  {
   "cell_type": "code",
   "execution_count": 87,
   "metadata": {
    "ExecuteTime": {
     "end_time": "2020-07-16T17:36:09.113510Z",
     "start_time": "2020-07-16T17:36:09.107504Z"
    }
   },
   "outputs": [
    {
     "data": {
      "text/plain": [
       "2018-01-01 00:00:00+01:00    2018-01-01 00:00:00+01:00\n",
       "2018-01-01 00:10:00+01:00    2018-01-01 00:00:00+01:00\n",
       "2018-01-01 00:20:00+01:00    2018-01-01 00:00:00+01:00\n",
       "2018-01-01 00:30:00+01:00    2018-01-01 00:00:00+01:00\n",
       "2018-01-01 00:40:00+01:00    2018-01-01 00:00:00+01:00\n",
       "2018-01-01 00:50:00+01:00    2018-01-01 00:00:00+01:00\n",
       "2018-01-01 01:00:00+01:00    2018-01-01 01:00:00+01:00\n",
       "2018-01-01 01:10:00+01:00    2018-01-01 01:00:00+01:00\n",
       "2018-01-01 01:20:00+01:00    2018-01-01 01:00:00+01:00\n",
       "2018-01-01 01:30:00+01:00    2018-01-01 01:00:00+01:00\n",
       "2018-01-01 01:40:00+01:00    2018-01-01 01:00:00+01:00\n",
       "2018-01-01 01:50:00+01:00    2018-01-01 01:00:00+01:00\n",
       "Name: date_by_hour, dtype: object"
      ]
     },
     "execution_count": 87,
     "metadata": {},
     "output_type": "execute_result"
    }
   ],
   "source": [
    "nrg_df.date_by_hour.head(12)"
   ]
  },
  {
   "cell_type": "code",
   "execution_count": 66,
   "metadata": {
    "ExecuteTime": {
     "end_time": "2020-07-16T15:54:25.081691Z",
     "start_time": "2020-07-16T15:54:25.077687Z"
    }
   },
   "outputs": [
    {
     "data": {
      "text/plain": [
       "Timestamp('2019-02-15 00:00:00')"
      ]
     },
     "execution_count": 66,
     "metadata": {},
     "output_type": "execute_result"
    }
   ],
   "source": [
    "pd.Timestamp(2019, 2, 15)"
   ]
  },
  {
   "cell_type": "code",
   "execution_count": null,
   "metadata": {},
   "outputs": [],
   "source": []
  }
 ],
 "metadata": {
  "kernelspec": {
   "display_name": "Python 3",
   "language": "python",
   "name": "python3"
  },
  "language_info": {
   "codemirror_mode": {
    "name": "ipython",
    "version": 3
   },
   "file_extension": ".py",
   "mimetype": "text/x-python",
   "name": "python",
   "nbconvert_exporter": "python",
   "pygments_lexer": "ipython3",
   "version": "3.7.6"
  },
  "latex_envs": {
   "LaTeX_envs_menu_present": true,
   "autoclose": false,
   "autocomplete": true,
   "bibliofile": "biblio.bib",
   "cite_by": "apalike",
   "current_citInitial": 1,
   "eqLabelWithNumbers": true,
   "eqNumInitial": 1,
   "hotkeys": {
    "equation": "Ctrl-E",
    "itemize": "Ctrl-I"
   },
   "labels_anchors": false,
   "latex_user_defs": false,
   "report_style_numbering": false,
   "user_envs_cfg": false
  },
  "toc": {
   "base_numbering": 1,
   "nav_menu": {},
   "number_sections": true,
   "sideBar": true,
   "skip_h1_title": false,
   "title_cell": "Table of Contents",
   "title_sidebar": "Contents",
   "toc_cell": false,
   "toc_position": {},
   "toc_section_display": true,
   "toc_window_display": false
  },
  "varInspector": {
   "cols": {
    "lenName": 16,
    "lenType": 16,
    "lenVar": 40
   },
   "kernels_config": {
    "python": {
     "delete_cmd_postfix": "",
     "delete_cmd_prefix": "del ",
     "library": "var_list.py",
     "varRefreshCmd": "print(var_dic_list())"
    },
    "r": {
     "delete_cmd_postfix": ") ",
     "delete_cmd_prefix": "rm(",
     "library": "var_list.r",
     "varRefreshCmd": "cat(var_dic_list()) "
    }
   },
   "types_to_exclude": [
    "module",
    "function",
    "builtin_function_or_method",
    "instance",
    "_Feature"
   ],
   "window_display": false
  }
 },
 "nbformat": 4,
 "nbformat_minor": 4
}
