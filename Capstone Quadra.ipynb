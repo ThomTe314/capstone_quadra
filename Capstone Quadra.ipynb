{
 "cells": [
  {
   "cell_type": "code",
   "execution_count": 4,
   "metadata": {
    "ExecuteTime": {
     "end_time": "2020-07-30T18:56:46.047813Z",
     "start_time": "2020-07-30T18:56:44.158580Z"
    }
   },
   "outputs": [],
   "source": [
    "import pickle\n",
    "import pandas as pd\n",
    "import numpy as np\n",
    "import matplotlib.pyplot as plt\n",
    "import seaborn as sns\n",
    "import datetime as dt\n",
    "\n",
    "from sklearn.model_selection import GridSearchCV"
   ]
  },
  {
   "cell_type": "markdown",
   "metadata": {},
   "source": [
    "# Data Exploration"
   ]
  },
  {
   "cell_type": "markdown",
   "metadata": {},
   "source": [
    "## Look and Load"
   ]
  },
  {
   "cell_type": "code",
   "execution_count": 5,
   "metadata": {
    "ExecuteTime": {
     "end_time": "2020-07-30T18:56:46.053810Z",
     "start_time": "2020-07-30T18:56:46.049806Z"
    }
   },
   "outputs": [],
   "source": [
    "def load_pickle(file):\n",
    "    objects = []\n",
    "    with open(file, \"rb\") as openfile:\n",
    "        u = pickle._Unpickler(openfile)\n",
    "        u.encoding = 'latin1'\n",
    "        df = u.load()\n",
    "    return df"
   ]
  },
  {
   "cell_type": "code",
   "execution_count": 6,
   "metadata": {
    "ExecuteTime": {
     "end_time": "2020-07-30T18:56:46.113873Z",
     "start_time": "2020-07-30T18:56:46.055812Z"
    }
   },
   "outputs": [],
   "source": [
    "wthr_df = load_pickle(\"griddata_gfs_us_20180101_20190826_03_final.p\")"
   ]
  },
  {
   "cell_type": "code",
   "execution_count": 7,
   "metadata": {
    "ExecuteTime": {
     "end_time": "2020-07-30T18:56:46.148896Z",
     "start_time": "2020-07-30T18:56:46.115866Z"
    }
   },
   "outputs": [
    {
     "data": {
      "text/html": [
       "<div>\n",
       "<style scoped>\n",
       "    .dataframe tbody tr th:only-of-type {\n",
       "        vertical-align: middle;\n",
       "    }\n",
       "\n",
       "    .dataframe tbody tr th {\n",
       "        vertical-align: top;\n",
       "    }\n",
       "\n",
       "    .dataframe thead th {\n",
       "        text-align: right;\n",
       "    }\n",
       "</style>\n",
       "<table border=\"1\" class=\"dataframe\">\n",
       "  <thead>\n",
       "    <tr style=\"text-align: right;\">\n",
       "      <th></th>\n",
       "      <th>dswrf_sfc_wm2</th>\n",
       "      <th>gust_sfc_ms</th>\n",
       "      <th>hpbl_sfc_m</th>\n",
       "      <th>msl_ms_pa</th>\n",
       "      <th>pottemp_80mto0m_K</th>\n",
       "      <th>q_2m_1</th>\n",
       "      <th>q_pfg30_1</th>\n",
       "      <th>r_pl925_%</th>\n",
       "      <th>r_pl950_%</th>\n",
       "      <th>shtfl_sfc_wm2</th>\n",
       "      <th>...</th>\n",
       "      <th>wdir_10m_dn</th>\n",
       "      <th>wdir_pfg30_dn</th>\n",
       "      <th>wdir_pl925_dn</th>\n",
       "      <th>wsp_100m_ms</th>\n",
       "      <th>wsp_10m_ms</th>\n",
       "      <th>wsp_pfg30_ms</th>\n",
       "      <th>wsp_pl925_ms</th>\n",
       "      <th>created_on</th>\n",
       "      <th>azimuth</th>\n",
       "      <th>elevation</th>\n",
       "    </tr>\n",
       "    <tr>\n",
       "      <th>index</th>\n",
       "      <th></th>\n",
       "      <th></th>\n",
       "      <th></th>\n",
       "      <th></th>\n",
       "      <th></th>\n",
       "      <th></th>\n",
       "      <th></th>\n",
       "      <th></th>\n",
       "      <th></th>\n",
       "      <th></th>\n",
       "      <th></th>\n",
       "      <th></th>\n",
       "      <th></th>\n",
       "      <th></th>\n",
       "      <th></th>\n",
       "      <th></th>\n",
       "      <th></th>\n",
       "      <th></th>\n",
       "      <th></th>\n",
       "      <th></th>\n",
       "      <th></th>\n",
       "    </tr>\n",
       "  </thead>\n",
       "  <tbody>\n",
       "    <tr>\n",
       "      <th>2018-01-01 06:00:00+00:00</th>\n",
       "      <td>0.0</td>\n",
       "      <td>16.777032</td>\n",
       "      <td>1349.927656</td>\n",
       "      <td>99212.0625</td>\n",
       "      <td>0.559356</td>\n",
       "      <td>0.005105</td>\n",
       "      <td>0.004852</td>\n",
       "      <td>89.975</td>\n",
       "      <td>83.075</td>\n",
       "      <td>-58.444885</td>\n",
       "      <td>...</td>\n",
       "      <td>51.936818</td>\n",
       "      <td>54.855777</td>\n",
       "      <td>58.963042</td>\n",
       "      <td>16.548291</td>\n",
       "      <td>9.772748</td>\n",
       "      <td>16.622077</td>\n",
       "      <td>21.963719</td>\n",
       "      <td>2018-01-01 00:00:00+00:00</td>\n",
       "      <td>111.880959</td>\n",
       "      <td>-12.132894</td>\n",
       "    </tr>\n",
       "    <tr>\n",
       "      <th>2018-01-01 07:00:00+00:00</th>\n",
       "      <td>0.0</td>\n",
       "      <td>16.606744</td>\n",
       "      <td>1352.623506</td>\n",
       "      <td>99259.8125</td>\n",
       "      <td>0.528755</td>\n",
       "      <td>0.005005</td>\n",
       "      <td>0.004739</td>\n",
       "      <td>89.250</td>\n",
       "      <td>82.250</td>\n",
       "      <td>-59.127808</td>\n",
       "      <td>...</td>\n",
       "      <td>59.839207</td>\n",
       "      <td>62.809819</td>\n",
       "      <td>66.607932</td>\n",
       "      <td>16.795002</td>\n",
       "      <td>9.966123</td>\n",
       "      <td>16.832585</td>\n",
       "      <td>21.917341</td>\n",
       "      <td>2018-01-01 00:00:00+00:00</td>\n",
       "      <td>122.901711</td>\n",
       "      <td>-3.799353</td>\n",
       "    </tr>\n",
       "    <tr>\n",
       "      <th>2018-01-01 08:00:00+00:00</th>\n",
       "      <td>0.0</td>\n",
       "      <td>16.750567</td>\n",
       "      <td>1385.881213</td>\n",
       "      <td>99340.0125</td>\n",
       "      <td>0.519516</td>\n",
       "      <td>0.004875</td>\n",
       "      <td>0.004601</td>\n",
       "      <td>88.350</td>\n",
       "      <td>81.475</td>\n",
       "      <td>-60.174194</td>\n",
       "      <td>...</td>\n",
       "      <td>66.846392</td>\n",
       "      <td>69.702886</td>\n",
       "      <td>73.395684</td>\n",
       "      <td>17.187174</td>\n",
       "      <td>10.191553</td>\n",
       "      <td>17.103298</td>\n",
       "      <td>22.151705</td>\n",
       "      <td>2018-01-01 00:00:00+00:00</td>\n",
       "      <td>134.513901</td>\n",
       "      <td>3.528108</td>\n",
       "    </tr>\n",
       "    <tr>\n",
       "      <th>2018-01-01 09:00:00+00:00</th>\n",
       "      <td>30.0</td>\n",
       "      <td>16.653720</td>\n",
       "      <td>1406.317913</td>\n",
       "      <td>99435.6875</td>\n",
       "      <td>0.462775</td>\n",
       "      <td>0.004693</td>\n",
       "      <td>0.004395</td>\n",
       "      <td>85.400</td>\n",
       "      <td>78.575</td>\n",
       "      <td>-61.376221</td>\n",
       "      <td>...</td>\n",
       "      <td>69.538877</td>\n",
       "      <td>72.116654</td>\n",
       "      <td>75.992542</td>\n",
       "      <td>16.804585</td>\n",
       "      <td>10.074198</td>\n",
       "      <td>16.507619</td>\n",
       "      <td>21.857454</td>\n",
       "      <td>2018-01-01 00:00:00+00:00</td>\n",
       "      <td>146.969666</td>\n",
       "      <td>9.473817</td>\n",
       "    </tr>\n",
       "    <tr>\n",
       "      <th>2018-01-01 10:00:00+00:00</th>\n",
       "      <td>70.0</td>\n",
       "      <td>16.143047</td>\n",
       "      <td>1413.328074</td>\n",
       "      <td>99523.6750</td>\n",
       "      <td>0.395166</td>\n",
       "      <td>0.004618</td>\n",
       "      <td>0.004322</td>\n",
       "      <td>85.275</td>\n",
       "      <td>78.300</td>\n",
       "      <td>-50.711792</td>\n",
       "      <td>...</td>\n",
       "      <td>67.391618</td>\n",
       "      <td>69.753380</td>\n",
       "      <td>73.848494</td>\n",
       "      <td>15.970588</td>\n",
       "      <td>9.719457</td>\n",
       "      <td>15.561127</td>\n",
       "      <td>21.082533</td>\n",
       "      <td>2018-01-01 00:00:00+00:00</td>\n",
       "      <td>160.319397</td>\n",
       "      <td>13.648098</td>\n",
       "    </tr>\n",
       "  </tbody>\n",
       "</table>\n",
       "<p>5 rows × 26 columns</p>\n",
       "</div>"
      ],
      "text/plain": [
       "                           dswrf_sfc_wm2  gust_sfc_ms   hpbl_sfc_m  \\\n",
       "index                                                                \n",
       "2018-01-01 06:00:00+00:00            0.0    16.777032  1349.927656   \n",
       "2018-01-01 07:00:00+00:00            0.0    16.606744  1352.623506   \n",
       "2018-01-01 08:00:00+00:00            0.0    16.750567  1385.881213   \n",
       "2018-01-01 09:00:00+00:00           30.0    16.653720  1406.317913   \n",
       "2018-01-01 10:00:00+00:00           70.0    16.143047  1413.328074   \n",
       "\n",
       "                            msl_ms_pa  pottemp_80mto0m_K    q_2m_1  q_pfg30_1  \\\n",
       "index                                                                           \n",
       "2018-01-01 06:00:00+00:00  99212.0625           0.559356  0.005105   0.004852   \n",
       "2018-01-01 07:00:00+00:00  99259.8125           0.528755  0.005005   0.004739   \n",
       "2018-01-01 08:00:00+00:00  99340.0125           0.519516  0.004875   0.004601   \n",
       "2018-01-01 09:00:00+00:00  99435.6875           0.462775  0.004693   0.004395   \n",
       "2018-01-01 10:00:00+00:00  99523.6750           0.395166  0.004618   0.004322   \n",
       "\n",
       "                           r_pl925_%  r_pl950_%  shtfl_sfc_wm2  ...  \\\n",
       "index                                                           ...   \n",
       "2018-01-01 06:00:00+00:00     89.975     83.075     -58.444885  ...   \n",
       "2018-01-01 07:00:00+00:00     89.250     82.250     -59.127808  ...   \n",
       "2018-01-01 08:00:00+00:00     88.350     81.475     -60.174194  ...   \n",
       "2018-01-01 09:00:00+00:00     85.400     78.575     -61.376221  ...   \n",
       "2018-01-01 10:00:00+00:00     85.275     78.300     -50.711792  ...   \n",
       "\n",
       "                           wdir_10m_dn  wdir_pfg30_dn  wdir_pl925_dn  \\\n",
       "index                                                                  \n",
       "2018-01-01 06:00:00+00:00    51.936818      54.855777      58.963042   \n",
       "2018-01-01 07:00:00+00:00    59.839207      62.809819      66.607932   \n",
       "2018-01-01 08:00:00+00:00    66.846392      69.702886      73.395684   \n",
       "2018-01-01 09:00:00+00:00    69.538877      72.116654      75.992542   \n",
       "2018-01-01 10:00:00+00:00    67.391618      69.753380      73.848494   \n",
       "\n",
       "                           wsp_100m_ms  wsp_10m_ms  wsp_pfg30_ms  \\\n",
       "index                                                              \n",
       "2018-01-01 06:00:00+00:00    16.548291    9.772748     16.622077   \n",
       "2018-01-01 07:00:00+00:00    16.795002    9.966123     16.832585   \n",
       "2018-01-01 08:00:00+00:00    17.187174   10.191553     17.103298   \n",
       "2018-01-01 09:00:00+00:00    16.804585   10.074198     16.507619   \n",
       "2018-01-01 10:00:00+00:00    15.970588    9.719457     15.561127   \n",
       "\n",
       "                           wsp_pl925_ms                 created_on  \\\n",
       "index                                                                \n",
       "2018-01-01 06:00:00+00:00     21.963719  2018-01-01 00:00:00+00:00   \n",
       "2018-01-01 07:00:00+00:00     21.917341  2018-01-01 00:00:00+00:00   \n",
       "2018-01-01 08:00:00+00:00     22.151705  2018-01-01 00:00:00+00:00   \n",
       "2018-01-01 09:00:00+00:00     21.857454  2018-01-01 00:00:00+00:00   \n",
       "2018-01-01 10:00:00+00:00     21.082533  2018-01-01 00:00:00+00:00   \n",
       "\n",
       "                              azimuth  elevation  \n",
       "index                                             \n",
       "2018-01-01 06:00:00+00:00  111.880959 -12.132894  \n",
       "2018-01-01 07:00:00+00:00  122.901711  -3.799353  \n",
       "2018-01-01 08:00:00+00:00  134.513901   3.528108  \n",
       "2018-01-01 09:00:00+00:00  146.969666   9.473817  \n",
       "2018-01-01 10:00:00+00:00  160.319397  13.648098  \n",
       "\n",
       "[5 rows x 26 columns]"
      ]
     },
     "execution_count": 7,
     "metadata": {},
     "output_type": "execute_result"
    }
   ],
   "source": [
    "wthr_df.head()"
   ]
  },
  {
   "cell_type": "code",
   "execution_count": 8,
   "metadata": {
    "ExecuteTime": {
     "end_time": "2020-07-30T18:56:46.164911Z",
     "start_time": "2020-07-30T18:56:46.149897Z"
    }
   },
   "outputs": [
    {
     "data": {
      "text/plain": [
       "Timestamp('2019-08-26 18:00:00+0000', tz='UTC')"
      ]
     },
     "execution_count": 8,
     "metadata": {},
     "output_type": "execute_result"
    }
   ],
   "source": [
    "max(wthr_df.index)"
   ]
  },
  {
   "cell_type": "code",
   "execution_count": 9,
   "metadata": {
    "ExecuteTime": {
     "end_time": "2020-07-30T18:56:46.169915Z",
     "start_time": "2020-07-30T18:56:46.166913Z"
    }
   },
   "outputs": [
    {
     "data": {
      "text/plain": [
       "(14378, 26)"
      ]
     },
     "execution_count": 9,
     "metadata": {},
     "output_type": "execute_result"
    }
   ],
   "source": [
    "wthr_df.shape"
   ]
  },
  {
   "cell_type": "code",
   "execution_count": 10,
   "metadata": {
    "ExecuteTime": {
     "end_time": "2020-07-30T18:56:46.261000Z",
     "start_time": "2020-07-30T18:56:46.171917Z"
    }
   },
   "outputs": [
    {
     "data": {
      "text/html": [
       "<div>\n",
       "<style scoped>\n",
       "    .dataframe tbody tr th:only-of-type {\n",
       "        vertical-align: middle;\n",
       "    }\n",
       "\n",
       "    .dataframe tbody tr th {\n",
       "        vertical-align: top;\n",
       "    }\n",
       "\n",
       "    .dataframe thead th {\n",
       "        text-align: right;\n",
       "    }\n",
       "</style>\n",
       "<table border=\"1\" class=\"dataframe\">\n",
       "  <thead>\n",
       "    <tr style=\"text-align: right;\">\n",
       "      <th></th>\n",
       "      <th>dswrf_sfc_wm2</th>\n",
       "      <th>gust_sfc_ms</th>\n",
       "      <th>hpbl_sfc_m</th>\n",
       "      <th>msl_ms_pa</th>\n",
       "      <th>pottemp_80mto0m_K</th>\n",
       "      <th>q_2m_1</th>\n",
       "      <th>q_pfg30_1</th>\n",
       "      <th>r_pl925_%</th>\n",
       "      <th>r_pl950_%</th>\n",
       "      <th>shtfl_sfc_wm2</th>\n",
       "      <th>...</th>\n",
       "      <th>wdir_100m_dn</th>\n",
       "      <th>wdir_10m_dn</th>\n",
       "      <th>wdir_pfg30_dn</th>\n",
       "      <th>wdir_pl925_dn</th>\n",
       "      <th>wsp_100m_ms</th>\n",
       "      <th>wsp_10m_ms</th>\n",
       "      <th>wsp_pfg30_ms</th>\n",
       "      <th>wsp_pl925_ms</th>\n",
       "      <th>azimuth</th>\n",
       "      <th>elevation</th>\n",
       "    </tr>\n",
       "  </thead>\n",
       "  <tbody>\n",
       "    <tr>\n",
       "      <th>count</th>\n",
       "      <td>14378.000000</td>\n",
       "      <td>14378.000000</td>\n",
       "      <td>14378.000000</td>\n",
       "      <td>14378.000000</td>\n",
       "      <td>14378.000000</td>\n",
       "      <td>14378.000000</td>\n",
       "      <td>14378.000000</td>\n",
       "      <td>14378.000000</td>\n",
       "      <td>14378.000000</td>\n",
       "      <td>14378.000000</td>\n",
       "      <td>...</td>\n",
       "      <td>14378.000000</td>\n",
       "      <td>14378.000000</td>\n",
       "      <td>14378.000000</td>\n",
       "      <td>14378.000000</td>\n",
       "      <td>14378.000000</td>\n",
       "      <td>14378.000000</td>\n",
       "      <td>14378.000000</td>\n",
       "      <td>14378.000000</td>\n",
       "      <td>14378.000000</td>\n",
       "      <td>14378.000000</td>\n",
       "    </tr>\n",
       "    <tr>\n",
       "      <th>mean</th>\n",
       "      <td>155.029194</td>\n",
       "      <td>7.943250</td>\n",
       "      <td>549.354510</td>\n",
       "      <td>101512.216593</td>\n",
       "      <td>0.742688</td>\n",
       "      <td>0.006481</td>\n",
       "      <td>0.006165</td>\n",
       "      <td>75.716828</td>\n",
       "      <td>75.737091</td>\n",
       "      <td>6.316193</td>\n",
       "      <td>...</td>\n",
       "      <td>162.410028</td>\n",
       "      <td>162.399371</td>\n",
       "      <td>162.002774</td>\n",
       "      <td>154.312530</td>\n",
       "      <td>7.471580</td>\n",
       "      <td>4.409038</td>\n",
       "      <td>7.351590</td>\n",
       "      <td>10.082908</td>\n",
       "      <td>182.032028</td>\n",
       "      <td>2.355874</td>\n",
       "    </tr>\n",
       "    <tr>\n",
       "      <th>std</th>\n",
       "      <td>230.147722</td>\n",
       "      <td>4.061036</td>\n",
       "      <td>427.125419</td>\n",
       "      <td>996.863087</td>\n",
       "      <td>1.175120</td>\n",
       "      <td>0.002735</td>\n",
       "      <td>0.002540</td>\n",
       "      <td>18.950255</td>\n",
       "      <td>17.724822</td>\n",
       "      <td>71.012102</td>\n",
       "      <td>...</td>\n",
       "      <td>99.361734</td>\n",
       "      <td>99.942995</td>\n",
       "      <td>99.257628</td>\n",
       "      <td>98.208108</td>\n",
       "      <td>3.329532</td>\n",
       "      <td>2.078577</td>\n",
       "      <td>3.285841</td>\n",
       "      <td>5.270483</td>\n",
       "      <td>103.042725</td>\n",
       "      <td>30.472445</td>\n",
       "    </tr>\n",
       "    <tr>\n",
       "      <th>min</th>\n",
       "      <td>0.000000</td>\n",
       "      <td>0.517106</td>\n",
       "      <td>21.333019</td>\n",
       "      <td>97637.887500</td>\n",
       "      <td>-2.431875</td>\n",
       "      <td>0.000993</td>\n",
       "      <td>0.000939</td>\n",
       "      <td>2.400000</td>\n",
       "      <td>2.425000</td>\n",
       "      <td>-115.227905</td>\n",
       "      <td>...</td>\n",
       "      <td>1.065702</td>\n",
       "      <td>1.605544</td>\n",
       "      <td>0.878477</td>\n",
       "      <td>1.231885</td>\n",
       "      <td>0.558441</td>\n",
       "      <td>0.389727</td>\n",
       "      <td>0.515088</td>\n",
       "      <td>0.338407</td>\n",
       "      <td>8.330822</td>\n",
       "      <td>-62.201588</td>\n",
       "    </tr>\n",
       "    <tr>\n",
       "      <th>25%</th>\n",
       "      <td>0.000000</td>\n",
       "      <td>4.683080</td>\n",
       "      <td>199.087539</td>\n",
       "      <td>100968.224375</td>\n",
       "      <td>-0.136376</td>\n",
       "      <td>0.004248</td>\n",
       "      <td>0.004075</td>\n",
       "      <td>64.625000</td>\n",
       "      <td>64.718129</td>\n",
       "      <td>-36.246123</td>\n",
       "      <td>...</td>\n",
       "      <td>78.421911</td>\n",
       "      <td>77.080156</td>\n",
       "      <td>78.444561</td>\n",
       "      <td>75.816115</td>\n",
       "      <td>5.176560</td>\n",
       "      <td>2.884135</td>\n",
       "      <td>5.082444</td>\n",
       "      <td>6.094260</td>\n",
       "      <td>90.158264</td>\n",
       "      <td>-19.496047</td>\n",
       "    </tr>\n",
       "    <tr>\n",
       "      <th>50%</th>\n",
       "      <td>15.000000</td>\n",
       "      <td>7.678551</td>\n",
       "      <td>451.845422</td>\n",
       "      <td>101567.477500</td>\n",
       "      <td>0.631883</td>\n",
       "      <td>0.006143</td>\n",
       "      <td>0.005920</td>\n",
       "      <td>79.475000</td>\n",
       "      <td>78.600000</td>\n",
       "      <td>-20.870140</td>\n",
       "      <td>...</td>\n",
       "      <td>130.455007</td>\n",
       "      <td>129.200547</td>\n",
       "      <td>130.106612</td>\n",
       "      <td>123.520460</td>\n",
       "      <td>7.159732</td>\n",
       "      <td>4.032932</td>\n",
       "      <td>7.046303</td>\n",
       "      <td>9.377695</td>\n",
       "      <td>186.476692</td>\n",
       "      <td>2.363771</td>\n",
       "    </tr>\n",
       "    <tr>\n",
       "      <th>75%</th>\n",
       "      <td>248.750000</td>\n",
       "      <td>10.631585</td>\n",
       "      <td>821.578707</td>\n",
       "      <td>102143.115625</td>\n",
       "      <td>1.514157</td>\n",
       "      <td>0.008523</td>\n",
       "      <td>0.008049</td>\n",
       "      <td>90.793750</td>\n",
       "      <td>89.643750</td>\n",
       "      <td>24.313370</td>\n",
       "      <td>...</td>\n",
       "      <td>261.226496</td>\n",
       "      <td>259.620900</td>\n",
       "      <td>261.262503</td>\n",
       "      <td>255.757132</td>\n",
       "      <td>9.261023</td>\n",
       "      <td>5.634826</td>\n",
       "      <td>9.126081</td>\n",
       "      <td>13.150352</td>\n",
       "      <td>273.261543</td>\n",
       "      <td>24.920794</td>\n",
       "    </tr>\n",
       "    <tr>\n",
       "      <th>max</th>\n",
       "      <td>885.500000</td>\n",
       "      <td>24.316044</td>\n",
       "      <td>2519.267852</td>\n",
       "      <td>104261.237500</td>\n",
       "      <td>4.514006</td>\n",
       "      <td>0.016743</td>\n",
       "      <td>0.014403</td>\n",
       "      <td>100.000000</td>\n",
       "      <td>100.000000</td>\n",
       "      <td>372.421576</td>\n",
       "      <td>...</td>\n",
       "      <td>359.180650</td>\n",
       "      <td>358.364902</td>\n",
       "      <td>359.093417</td>\n",
       "      <td>359.693548</td>\n",
       "      <td>23.256653</td>\n",
       "      <td>14.571061</td>\n",
       "      <td>23.972086</td>\n",
       "      <td>30.798095</td>\n",
       "      <td>358.682526</td>\n",
       "      <td>62.103596</td>\n",
       "    </tr>\n",
       "  </tbody>\n",
       "</table>\n",
       "<p>8 rows × 25 columns</p>\n",
       "</div>"
      ],
      "text/plain": [
       "       dswrf_sfc_wm2   gust_sfc_ms    hpbl_sfc_m      msl_ms_pa  \\\n",
       "count   14378.000000  14378.000000  14378.000000   14378.000000   \n",
       "mean      155.029194      7.943250    549.354510  101512.216593   \n",
       "std       230.147722      4.061036    427.125419     996.863087   \n",
       "min         0.000000      0.517106     21.333019   97637.887500   \n",
       "25%         0.000000      4.683080    199.087539  100968.224375   \n",
       "50%        15.000000      7.678551    451.845422  101567.477500   \n",
       "75%       248.750000     10.631585    821.578707  102143.115625   \n",
       "max       885.500000     24.316044   2519.267852  104261.237500   \n",
       "\n",
       "       pottemp_80mto0m_K        q_2m_1     q_pfg30_1     r_pl925_%  \\\n",
       "count       14378.000000  14378.000000  14378.000000  14378.000000   \n",
       "mean            0.742688      0.006481      0.006165     75.716828   \n",
       "std             1.175120      0.002735      0.002540     18.950255   \n",
       "min            -2.431875      0.000993      0.000939      2.400000   \n",
       "25%            -0.136376      0.004248      0.004075     64.625000   \n",
       "50%             0.631883      0.006143      0.005920     79.475000   \n",
       "75%             1.514157      0.008523      0.008049     90.793750   \n",
       "max             4.514006      0.016743      0.014403    100.000000   \n",
       "\n",
       "          r_pl950_%  shtfl_sfc_wm2  ...  wdir_100m_dn   wdir_10m_dn  \\\n",
       "count  14378.000000   14378.000000  ...  14378.000000  14378.000000   \n",
       "mean      75.737091       6.316193  ...    162.410028    162.399371   \n",
       "std       17.724822      71.012102  ...     99.361734     99.942995   \n",
       "min        2.425000    -115.227905  ...      1.065702      1.605544   \n",
       "25%       64.718129     -36.246123  ...     78.421911     77.080156   \n",
       "50%       78.600000     -20.870140  ...    130.455007    129.200547   \n",
       "75%       89.643750      24.313370  ...    261.226496    259.620900   \n",
       "max      100.000000     372.421576  ...    359.180650    358.364902   \n",
       "\n",
       "       wdir_pfg30_dn  wdir_pl925_dn   wsp_100m_ms    wsp_10m_ms  wsp_pfg30_ms  \\\n",
       "count   14378.000000   14378.000000  14378.000000  14378.000000  14378.000000   \n",
       "mean      162.002774     154.312530      7.471580      4.409038      7.351590   \n",
       "std        99.257628      98.208108      3.329532      2.078577      3.285841   \n",
       "min         0.878477       1.231885      0.558441      0.389727      0.515088   \n",
       "25%        78.444561      75.816115      5.176560      2.884135      5.082444   \n",
       "50%       130.106612     123.520460      7.159732      4.032932      7.046303   \n",
       "75%       261.262503     255.757132      9.261023      5.634826      9.126081   \n",
       "max       359.093417     359.693548     23.256653     14.571061     23.972086   \n",
       "\n",
       "       wsp_pl925_ms       azimuth     elevation  \n",
       "count  14378.000000  14378.000000  14378.000000  \n",
       "mean      10.082908    182.032028      2.355874  \n",
       "std        5.270483    103.042725     30.472445  \n",
       "min        0.338407      8.330822    -62.201588  \n",
       "25%        6.094260     90.158264    -19.496047  \n",
       "50%        9.377695    186.476692      2.363771  \n",
       "75%       13.150352    273.261543     24.920794  \n",
       "max       30.798095    358.682526     62.103596  \n",
       "\n",
       "[8 rows x 25 columns]"
      ]
     },
     "execution_count": 10,
     "metadata": {},
     "output_type": "execute_result"
    }
   ],
   "source": [
    "wthr_df.describe()"
   ]
  },
  {
   "cell_type": "code",
   "execution_count": 11,
   "metadata": {
    "ExecuteTime": {
     "end_time": "2020-07-30T18:56:46.604311Z",
     "start_time": "2020-07-30T18:56:46.264002Z"
    }
   },
   "outputs": [],
   "source": [
    "nrg_df = load_pickle(\"obs_20180101_20190625_03_final_normed.p\")"
   ]
  },
  {
   "cell_type": "code",
   "execution_count": 12,
   "metadata": {
    "ExecuteTime": {
     "end_time": "2020-07-30T18:56:46.616321Z",
     "start_time": "2020-07-30T18:56:46.606312Z"
    }
   },
   "outputs": [
    {
     "data": {
      "text/html": [
       "<div>\n",
       "<style scoped>\n",
       "    .dataframe tbody tr th:only-of-type {\n",
       "        vertical-align: middle;\n",
       "    }\n",
       "\n",
       "    .dataframe tbody tr th {\n",
       "        vertical-align: top;\n",
       "    }\n",
       "\n",
       "    .dataframe thead th {\n",
       "        text-align: right;\n",
       "    }\n",
       "</style>\n",
       "<table border=\"1\" class=\"dataframe\">\n",
       "  <thead>\n",
       "    <tr style=\"text-align: right;\">\n",
       "      <th></th>\n",
       "      <th>power_mw_obsnorm</th>\n",
       "      <th>power_available_mw_obsnorm</th>\n",
       "      <th>target_losses_norm</th>\n",
       "    </tr>\n",
       "  </thead>\n",
       "  <tbody>\n",
       "    <tr>\n",
       "      <th>2018-01-01 00:00:00+01:00</th>\n",
       "      <td>0.330269</td>\n",
       "      <td>0.450934</td>\n",
       "      <td>0.120665</td>\n",
       "    </tr>\n",
       "    <tr>\n",
       "      <th>2018-01-01 00:10:00+01:00</th>\n",
       "      <td>0.339204</td>\n",
       "      <td>0.457539</td>\n",
       "      <td>0.118335</td>\n",
       "    </tr>\n",
       "    <tr>\n",
       "      <th>2018-01-01 00:20:00+01:00</th>\n",
       "      <td>0.336993</td>\n",
       "      <td>0.456577</td>\n",
       "      <td>0.119584</td>\n",
       "    </tr>\n",
       "    <tr>\n",
       "      <th>2018-01-01 00:30:00+01:00</th>\n",
       "      <td>0.337858</td>\n",
       "      <td>0.462447</td>\n",
       "      <td>0.124589</td>\n",
       "    </tr>\n",
       "    <tr>\n",
       "      <th>2018-01-01 00:40:00+01:00</th>\n",
       "      <td>0.353646</td>\n",
       "      <td>0.483538</td>\n",
       "      <td>0.129892</td>\n",
       "    </tr>\n",
       "  </tbody>\n",
       "</table>\n",
       "</div>"
      ],
      "text/plain": [
       "                           power_mw_obsnorm  power_available_mw_obsnorm  \\\n",
       "2018-01-01 00:00:00+01:00          0.330269                    0.450934   \n",
       "2018-01-01 00:10:00+01:00          0.339204                    0.457539   \n",
       "2018-01-01 00:20:00+01:00          0.336993                    0.456577   \n",
       "2018-01-01 00:30:00+01:00          0.337858                    0.462447   \n",
       "2018-01-01 00:40:00+01:00          0.353646                    0.483538   \n",
       "\n",
       "                           target_losses_norm  \n",
       "2018-01-01 00:00:00+01:00            0.120665  \n",
       "2018-01-01 00:10:00+01:00            0.118335  \n",
       "2018-01-01 00:20:00+01:00            0.119584  \n",
       "2018-01-01 00:30:00+01:00            0.124589  \n",
       "2018-01-01 00:40:00+01:00            0.129892  "
      ]
     },
     "execution_count": 12,
     "metadata": {},
     "output_type": "execute_result"
    }
   ],
   "source": [
    "nrg_df.head()"
   ]
  },
  {
   "cell_type": "code",
   "execution_count": 13,
   "metadata": {
    "ExecuteTime": {
     "end_time": "2020-07-30T18:56:46.855548Z",
     "start_time": "2020-07-30T18:56:46.617322Z"
    }
   },
   "outputs": [
    {
     "data": {
      "text/plain": [
       "Timestamp('2019-06-25 01:50:00+0200', tz='Europe/Berlin')"
      ]
     },
     "execution_count": 13,
     "metadata": {},
     "output_type": "execute_result"
    }
   ],
   "source": [
    "max(nrg_df.index)"
   ]
  },
  {
   "cell_type": "code",
   "execution_count": 14,
   "metadata": {
    "ExecuteTime": {
     "end_time": "2020-07-30T18:56:46.860543Z",
     "start_time": "2020-07-30T18:56:46.856540Z"
    }
   },
   "outputs": [
    {
     "data": {
      "text/plain": [
       "(70710, 3)"
      ]
     },
     "execution_count": 14,
     "metadata": {},
     "output_type": "execute_result"
    }
   ],
   "source": [
    "nrg_df.shape"
   ]
  },
  {
   "cell_type": "code",
   "execution_count": 15,
   "metadata": {
    "ExecuteTime": {
     "end_time": "2020-07-30T18:56:46.883564Z",
     "start_time": "2020-07-30T18:56:46.861544Z"
    }
   },
   "outputs": [
    {
     "data": {
      "text/html": [
       "<div>\n",
       "<style scoped>\n",
       "    .dataframe tbody tr th:only-of-type {\n",
       "        vertical-align: middle;\n",
       "    }\n",
       "\n",
       "    .dataframe tbody tr th {\n",
       "        vertical-align: top;\n",
       "    }\n",
       "\n",
       "    .dataframe thead th {\n",
       "        text-align: right;\n",
       "    }\n",
       "</style>\n",
       "<table border=\"1\" class=\"dataframe\">\n",
       "  <thead>\n",
       "    <tr style=\"text-align: right;\">\n",
       "      <th></th>\n",
       "      <th>power_mw_obsnorm</th>\n",
       "      <th>power_available_mw_obsnorm</th>\n",
       "      <th>target_losses_norm</th>\n",
       "    </tr>\n",
       "  </thead>\n",
       "  <tbody>\n",
       "    <tr>\n",
       "      <th>count</th>\n",
       "      <td>70710.000000</td>\n",
       "      <td>70710.000000</td>\n",
       "      <td>70710.000000</td>\n",
       "    </tr>\n",
       "    <tr>\n",
       "      <th>mean</th>\n",
       "      <td>0.204310</td>\n",
       "      <td>0.274691</td>\n",
       "      <td>0.070381</td>\n",
       "    </tr>\n",
       "    <tr>\n",
       "      <th>std</th>\n",
       "      <td>0.162364</td>\n",
       "      <td>0.264172</td>\n",
       "      <td>0.128426</td>\n",
       "    </tr>\n",
       "    <tr>\n",
       "      <th>min</th>\n",
       "      <td>0.000000</td>\n",
       "      <td>0.000073</td>\n",
       "      <td>0.000049</td>\n",
       "    </tr>\n",
       "    <tr>\n",
       "      <th>25%</th>\n",
       "      <td>0.065503</td>\n",
       "      <td>0.074167</td>\n",
       "      <td>0.005369</td>\n",
       "    </tr>\n",
       "    <tr>\n",
       "      <th>50%</th>\n",
       "      <td>0.166234</td>\n",
       "      <td>0.181165</td>\n",
       "      <td>0.014100</td>\n",
       "    </tr>\n",
       "    <tr>\n",
       "      <th>75%</th>\n",
       "      <td>0.320650</td>\n",
       "      <td>0.391951</td>\n",
       "      <td>0.056041</td>\n",
       "    </tr>\n",
       "    <tr>\n",
       "      <th>max</th>\n",
       "      <td>0.801717</td>\n",
       "      <td>1.019565</td>\n",
       "      <td>0.779721</td>\n",
       "    </tr>\n",
       "  </tbody>\n",
       "</table>\n",
       "</div>"
      ],
      "text/plain": [
       "       power_mw_obsnorm  power_available_mw_obsnorm  target_losses_norm\n",
       "count      70710.000000                70710.000000        70710.000000\n",
       "mean           0.204310                    0.274691            0.070381\n",
       "std            0.162364                    0.264172            0.128426\n",
       "min            0.000000                    0.000073            0.000049\n",
       "25%            0.065503                    0.074167            0.005369\n",
       "50%            0.166234                    0.181165            0.014100\n",
       "75%            0.320650                    0.391951            0.056041\n",
       "max            0.801717                    1.019565            0.779721"
      ]
     },
     "execution_count": 15,
     "metadata": {},
     "output_type": "execute_result"
    }
   ],
   "source": [
    "nrg_df.describe()"
   ]
  },
  {
   "cell_type": "markdown",
   "metadata": {},
   "source": [
    "Those three values are connected. The available power is the loss plus the used power."
   ]
  },
  {
   "cell_type": "code",
   "execution_count": 16,
   "metadata": {
    "ExecuteTime": {
     "end_time": "2020-07-30T18:56:46.906585Z",
     "start_time": "2020-07-30T18:56:46.884574Z"
    }
   },
   "outputs": [
    {
     "data": {
      "text/plain": [
       "2018-01-01 00:00:00+01:00    True\n",
       "2018-01-01 00:10:00+01:00    True\n",
       "2018-01-01 00:20:00+01:00    True\n",
       "2018-01-01 00:30:00+01:00    True\n",
       "2018-01-01 00:40:00+01:00    True\n",
       "                             ... \n",
       "2019-06-25 01:10:00+02:00    True\n",
       "2019-06-25 01:20:00+02:00    True\n",
       "2019-06-25 01:30:00+02:00    True\n",
       "2019-06-25 01:40:00+02:00    True\n",
       "2019-06-25 01:50:00+02:00    True\n",
       "Length: 70710, dtype: bool"
      ]
     },
     "execution_count": 16,
     "metadata": {},
     "output_type": "execute_result"
    }
   ],
   "source": [
    "(nrg_df.target_losses_norm + nrg_df.power_mw_obsnorm) == nrg_df.power_available_mw_obsnorm"
   ]
  },
  {
   "cell_type": "markdown",
   "metadata": {},
   "source": [
    "## Let's get plottin'"
   ]
  },
  {
   "cell_type": "markdown",
   "metadata": {},
   "source": [
    "Almost every data point in nrg_df (Energy) has a data point in wthr_df (Weather), but not vice versa. I want weather data for every energy data point. These are the ones I can use for predictions. So I have to merge them."
   ]
  },
  {
   "cell_type": "code",
   "execution_count": 17,
   "metadata": {
    "ExecuteTime": {
     "end_time": "2020-07-30T18:56:46.912591Z",
     "start_time": "2020-07-30T18:56:46.907586Z"
    }
   },
   "outputs": [
    {
     "name": "stdout",
     "output_type": "stream",
     "text": [
      "Timestamp index: 2018-01-01 02:20:00+01:00\n"
     ]
    },
    {
     "data": {
      "text/plain": [
       "2"
      ]
     },
     "execution_count": 17,
     "metadata": {},
     "output_type": "execute_result"
    }
   ],
   "source": [
    "print('Timestamp index: ' + str(nrg_df.index[14]))\n",
    "nrg_df.index[14].hour #this way I can access the information in the index"
   ]
  },
  {
   "cell_type": "code",
   "execution_count": 18,
   "metadata": {
    "ExecuteTime": {
     "end_time": "2020-07-30T18:57:14.260234Z",
     "start_time": "2020-07-30T18:56:46.913591Z"
    },
    "scrolled": true
   },
   "outputs": [
    {
     "name": "stderr",
     "output_type": "stream",
     "text": [
      "C:\\Users\\thoma\\anaconda3\\lib\\site-packages\\ipykernel_launcher.py:3: FutureWarning: The pandas.datetime class is deprecated and will be removed from pandas in a future version. Import from datetime module instead.\n",
      "  This is separate from the ipykernel package so we can avoid doing imports until\n",
      "C:\\Users\\thoma\\anaconda3\\lib\\site-packages\\ipykernel_launcher.py:7: SettingWithCopyWarning: \n",
      "A value is trying to be set on a copy of a slice from a DataFrame\n",
      "\n",
      "See the caveats in the documentation: https://pandas.pydata.org/pandas-docs/stable/user_guide/indexing.html#returning-a-view-versus-a-copy\n",
      "  import sys\n"
     ]
    }
   ],
   "source": [
    "nrg_df['date_by_hour'] = 'NaN'\n",
    "for i, row in nrg_df.iterrows(): #i is the timestamp index\n",
    "    nrg_df.date_by_hour[i] = pd.datetime(i.year, \n",
    "                                      i.month, \n",
    "                                      i.day, \n",
    "                                      i.hour, \n",
    "                                      tzinfo = i.tzinfo)"
   ]
  },
  {
   "cell_type": "code",
   "execution_count": 19,
   "metadata": {
    "ExecuteTime": {
     "end_time": "2020-07-30T18:57:14.267241Z",
     "start_time": "2020-07-30T18:57:14.261235Z"
    }
   },
   "outputs": [
    {
     "data": {
      "text/plain": [
       "2018-01-01 00:00:00+01:00    2018-01-01 00:00:00+01:00\n",
       "2018-01-01 00:10:00+01:00    2018-01-01 00:00:00+01:00\n",
       "2018-01-01 00:20:00+01:00    2018-01-01 00:00:00+01:00\n",
       "2018-01-01 00:30:00+01:00    2018-01-01 00:00:00+01:00\n",
       "2018-01-01 00:40:00+01:00    2018-01-01 00:00:00+01:00\n",
       "2018-01-01 00:50:00+01:00    2018-01-01 00:00:00+01:00\n",
       "2018-01-01 01:00:00+01:00    2018-01-01 01:00:00+01:00\n",
       "2018-01-01 01:10:00+01:00    2018-01-01 01:00:00+01:00\n",
       "2018-01-01 01:20:00+01:00    2018-01-01 01:00:00+01:00\n",
       "2018-01-01 01:30:00+01:00    2018-01-01 01:00:00+01:00\n",
       "2018-01-01 01:40:00+01:00    2018-01-01 01:00:00+01:00\n",
       "2018-01-01 01:50:00+01:00    2018-01-01 01:00:00+01:00\n",
       "Name: date_by_hour, dtype: object"
      ]
     },
     "execution_count": 19,
     "metadata": {},
     "output_type": "execute_result"
    }
   ],
   "source": [
    "nrg_df.date_by_hour.head(12)"
   ]
  },
  {
   "cell_type": "code",
   "execution_count": 20,
   "metadata": {
    "ExecuteTime": {
     "end_time": "2020-07-30T18:57:14.275755Z",
     "start_time": "2020-07-30T18:57:14.268747Z"
    }
   },
   "outputs": [
    {
     "data": {
      "text/plain": [
       "Timestamp('2019-02-15 00:00:00')"
      ]
     },
     "execution_count": 20,
     "metadata": {},
     "output_type": "execute_result"
    }
   ],
   "source": [
    "pd.Timestamp(2019, 2, 15)"
   ]
  },
  {
   "cell_type": "code",
   "execution_count": 21,
   "metadata": {
    "ExecuteTime": {
     "end_time": "2020-07-30T18:57:14.281761Z",
     "start_time": "2020-07-30T18:57:14.276756Z"
    }
   },
   "outputs": [
    {
     "data": {
      "text/plain": [
       "True"
      ]
     },
     "execution_count": 21,
     "metadata": {},
     "output_type": "execute_result"
    }
   ],
   "source": [
    "pd.Timestamp('2018-01-01 07:00:00+01:00') == pd.Timestamp('2018-01-01 06:00:00+00:00')"
   ]
  },
  {
   "cell_type": "code",
   "execution_count": 22,
   "metadata": {
    "ExecuteTime": {
     "end_time": "2020-07-30T18:57:24.438756Z",
     "start_time": "2020-07-30T18:57:14.283763Z"
    }
   },
   "outputs": [],
   "source": [
    "#mrgd_df = pd.concat([nrg_df.set_index('date_by_hour'), wthr_df], axis=1, join='inner')\n",
    "def increment_wthr_ts(iterator):\n",
    "    j, wrow = next(iterator)\n",
    "    return pd.Timestamp(j), wrow\n",
    "\n",
    "dummy_lst = [[np.nan]*26] * nrg_df.shape[0]\n",
    "wthr_iterator = wthr_df.iterrows()\n",
    "ts_wthr, wrow = increment_wthr_ts(wthr_iterator)\n",
    "\n",
    "for ind, (i, row) in enumerate(nrg_df.iterrows()):\n",
    "    ts_nrg = pd.Timestamp(row.date_by_hour)\n",
    "    if ts_nrg > ts_wthr:\n",
    "        ts_wthr, wrow = increment_wthr_ts(wthr_iterator)\n",
    "    if ts_nrg == ts_wthr:\n",
    "        dummy_lst[ind] = [itm for itm in wrow]\n",
    "    \n",
    "        "
   ]
  },
  {
   "cell_type": "code",
   "execution_count": 23,
   "metadata": {
    "ExecuteTime": {
     "end_time": "2020-07-30T18:57:24.443117Z",
     "start_time": "2020-07-30T18:57:24.440114Z"
    }
   },
   "outputs": [],
   "source": [
    "nrg_df.index = nrg_df.index.tz_convert(None)"
   ]
  },
  {
   "cell_type": "code",
   "execution_count": 24,
   "metadata": {
    "ExecuteTime": {
     "end_time": "2020-07-30T18:57:24.454127Z",
     "start_time": "2020-07-30T18:57:24.444118Z"
    }
   },
   "outputs": [
    {
     "data": {
      "text/html": [
       "<div>\n",
       "<style scoped>\n",
       "    .dataframe tbody tr th:only-of-type {\n",
       "        vertical-align: middle;\n",
       "    }\n",
       "\n",
       "    .dataframe tbody tr th {\n",
       "        vertical-align: top;\n",
       "    }\n",
       "\n",
       "    .dataframe thead th {\n",
       "        text-align: right;\n",
       "    }\n",
       "</style>\n",
       "<table border=\"1\" class=\"dataframe\">\n",
       "  <thead>\n",
       "    <tr style=\"text-align: right;\">\n",
       "      <th></th>\n",
       "      <th>power_mw_obsnorm</th>\n",
       "      <th>power_available_mw_obsnorm</th>\n",
       "      <th>target_losses_norm</th>\n",
       "      <th>date_by_hour</th>\n",
       "    </tr>\n",
       "  </thead>\n",
       "  <tbody>\n",
       "    <tr>\n",
       "      <th>2017-12-31 23:00:00</th>\n",
       "      <td>0.330269</td>\n",
       "      <td>0.450934</td>\n",
       "      <td>0.120665</td>\n",
       "      <td>2018-01-01 00:00:00+01:00</td>\n",
       "    </tr>\n",
       "    <tr>\n",
       "      <th>2017-12-31 23:10:00</th>\n",
       "      <td>0.339204</td>\n",
       "      <td>0.457539</td>\n",
       "      <td>0.118335</td>\n",
       "      <td>2018-01-01 00:00:00+01:00</td>\n",
       "    </tr>\n",
       "    <tr>\n",
       "      <th>2017-12-31 23:20:00</th>\n",
       "      <td>0.336993</td>\n",
       "      <td>0.456577</td>\n",
       "      <td>0.119584</td>\n",
       "      <td>2018-01-01 00:00:00+01:00</td>\n",
       "    </tr>\n",
       "    <tr>\n",
       "      <th>2017-12-31 23:30:00</th>\n",
       "      <td>0.337858</td>\n",
       "      <td>0.462447</td>\n",
       "      <td>0.124589</td>\n",
       "      <td>2018-01-01 00:00:00+01:00</td>\n",
       "    </tr>\n",
       "    <tr>\n",
       "      <th>2017-12-31 23:40:00</th>\n",
       "      <td>0.353646</td>\n",
       "      <td>0.483538</td>\n",
       "      <td>0.129892</td>\n",
       "      <td>2018-01-01 00:00:00+01:00</td>\n",
       "    </tr>\n",
       "  </tbody>\n",
       "</table>\n",
       "</div>"
      ],
      "text/plain": [
       "                     power_mw_obsnorm  power_available_mw_obsnorm  \\\n",
       "2017-12-31 23:00:00          0.330269                    0.450934   \n",
       "2017-12-31 23:10:00          0.339204                    0.457539   \n",
       "2017-12-31 23:20:00          0.336993                    0.456577   \n",
       "2017-12-31 23:30:00          0.337858                    0.462447   \n",
       "2017-12-31 23:40:00          0.353646                    0.483538   \n",
       "\n",
       "                     target_losses_norm               date_by_hour  \n",
       "2017-12-31 23:00:00            0.120665  2018-01-01 00:00:00+01:00  \n",
       "2017-12-31 23:10:00            0.118335  2018-01-01 00:00:00+01:00  \n",
       "2017-12-31 23:20:00            0.119584  2018-01-01 00:00:00+01:00  \n",
       "2017-12-31 23:30:00            0.124589  2018-01-01 00:00:00+01:00  \n",
       "2017-12-31 23:40:00            0.129892  2018-01-01 00:00:00+01:00  "
      ]
     },
     "execution_count": 24,
     "metadata": {},
     "output_type": "execute_result"
    }
   ],
   "source": [
    "nrg_df.head()"
   ]
  },
  {
   "cell_type": "code",
   "execution_count": 25,
   "metadata": {
    "ExecuteTime": {
     "end_time": "2020-07-30T18:57:24.678339Z",
     "start_time": "2020-07-30T18:57:24.455128Z"
    }
   },
   "outputs": [],
   "source": [
    "mrg_df = pd.concat([nrg_df, pd.DataFrame(dummy_lst, index = nrg_df.index, columns = wthr_df.columns)],axis=1)"
   ]
  },
  {
   "cell_type": "code",
   "execution_count": 26,
   "metadata": {
    "ExecuteTime": {
     "end_time": "2020-07-30T18:57:24.685336Z",
     "start_time": "2020-07-30T18:57:24.682342Z"
    }
   },
   "outputs": [
    {
     "data": {
      "text/plain": [
       "(70710, 30)"
      ]
     },
     "execution_count": 26,
     "metadata": {},
     "output_type": "execute_result"
    }
   ],
   "source": [
    "mrg_df.shape"
   ]
  },
  {
   "cell_type": "code",
   "execution_count": 27,
   "metadata": {
    "ExecuteTime": {
     "end_time": "2020-07-30T18:57:24.712361Z",
     "start_time": "2020-07-30T18:57:24.688339Z"
    }
   },
   "outputs": [
    {
     "data": {
      "text/html": [
       "<div>\n",
       "<style scoped>\n",
       "    .dataframe tbody tr th:only-of-type {\n",
       "        vertical-align: middle;\n",
       "    }\n",
       "\n",
       "    .dataframe tbody tr th {\n",
       "        vertical-align: top;\n",
       "    }\n",
       "\n",
       "    .dataframe thead th {\n",
       "        text-align: right;\n",
       "    }\n",
       "</style>\n",
       "<table border=\"1\" class=\"dataframe\">\n",
       "  <thead>\n",
       "    <tr style=\"text-align: right;\">\n",
       "      <th></th>\n",
       "      <th>power_mw_obsnorm</th>\n",
       "      <th>power_available_mw_obsnorm</th>\n",
       "      <th>target_losses_norm</th>\n",
       "      <th>date_by_hour</th>\n",
       "      <th>dswrf_sfc_wm2</th>\n",
       "      <th>gust_sfc_ms</th>\n",
       "      <th>hpbl_sfc_m</th>\n",
       "      <th>msl_ms_pa</th>\n",
       "      <th>pottemp_80mto0m_K</th>\n",
       "      <th>q_2m_1</th>\n",
       "      <th>...</th>\n",
       "      <th>wdir_10m_dn</th>\n",
       "      <th>wdir_pfg30_dn</th>\n",
       "      <th>wdir_pl925_dn</th>\n",
       "      <th>wsp_100m_ms</th>\n",
       "      <th>wsp_10m_ms</th>\n",
       "      <th>wsp_pfg30_ms</th>\n",
       "      <th>wsp_pl925_ms</th>\n",
       "      <th>created_on</th>\n",
       "      <th>azimuth</th>\n",
       "      <th>elevation</th>\n",
       "    </tr>\n",
       "  </thead>\n",
       "  <tbody>\n",
       "    <tr>\n",
       "      <th>2017-12-31 23:00:00</th>\n",
       "      <td>0.330269</td>\n",
       "      <td>0.450934</td>\n",
       "      <td>0.120665</td>\n",
       "      <td>2018-01-01 00:00:00+01:00</td>\n",
       "      <td>NaN</td>\n",
       "      <td>NaN</td>\n",
       "      <td>NaN</td>\n",
       "      <td>NaN</td>\n",
       "      <td>NaN</td>\n",
       "      <td>NaN</td>\n",
       "      <td>...</td>\n",
       "      <td>NaN</td>\n",
       "      <td>NaN</td>\n",
       "      <td>NaN</td>\n",
       "      <td>NaN</td>\n",
       "      <td>NaN</td>\n",
       "      <td>NaN</td>\n",
       "      <td>NaN</td>\n",
       "      <td>NaT</td>\n",
       "      <td>NaN</td>\n",
       "      <td>NaN</td>\n",
       "    </tr>\n",
       "    <tr>\n",
       "      <th>2017-12-31 23:10:00</th>\n",
       "      <td>0.339204</td>\n",
       "      <td>0.457539</td>\n",
       "      <td>0.118335</td>\n",
       "      <td>2018-01-01 00:00:00+01:00</td>\n",
       "      <td>NaN</td>\n",
       "      <td>NaN</td>\n",
       "      <td>NaN</td>\n",
       "      <td>NaN</td>\n",
       "      <td>NaN</td>\n",
       "      <td>NaN</td>\n",
       "      <td>...</td>\n",
       "      <td>NaN</td>\n",
       "      <td>NaN</td>\n",
       "      <td>NaN</td>\n",
       "      <td>NaN</td>\n",
       "      <td>NaN</td>\n",
       "      <td>NaN</td>\n",
       "      <td>NaN</td>\n",
       "      <td>NaT</td>\n",
       "      <td>NaN</td>\n",
       "      <td>NaN</td>\n",
       "    </tr>\n",
       "    <tr>\n",
       "      <th>2017-12-31 23:20:00</th>\n",
       "      <td>0.336993</td>\n",
       "      <td>0.456577</td>\n",
       "      <td>0.119584</td>\n",
       "      <td>2018-01-01 00:00:00+01:00</td>\n",
       "      <td>NaN</td>\n",
       "      <td>NaN</td>\n",
       "      <td>NaN</td>\n",
       "      <td>NaN</td>\n",
       "      <td>NaN</td>\n",
       "      <td>NaN</td>\n",
       "      <td>...</td>\n",
       "      <td>NaN</td>\n",
       "      <td>NaN</td>\n",
       "      <td>NaN</td>\n",
       "      <td>NaN</td>\n",
       "      <td>NaN</td>\n",
       "      <td>NaN</td>\n",
       "      <td>NaN</td>\n",
       "      <td>NaT</td>\n",
       "      <td>NaN</td>\n",
       "      <td>NaN</td>\n",
       "    </tr>\n",
       "    <tr>\n",
       "      <th>2017-12-31 23:30:00</th>\n",
       "      <td>0.337858</td>\n",
       "      <td>0.462447</td>\n",
       "      <td>0.124589</td>\n",
       "      <td>2018-01-01 00:00:00+01:00</td>\n",
       "      <td>NaN</td>\n",
       "      <td>NaN</td>\n",
       "      <td>NaN</td>\n",
       "      <td>NaN</td>\n",
       "      <td>NaN</td>\n",
       "      <td>NaN</td>\n",
       "      <td>...</td>\n",
       "      <td>NaN</td>\n",
       "      <td>NaN</td>\n",
       "      <td>NaN</td>\n",
       "      <td>NaN</td>\n",
       "      <td>NaN</td>\n",
       "      <td>NaN</td>\n",
       "      <td>NaN</td>\n",
       "      <td>NaT</td>\n",
       "      <td>NaN</td>\n",
       "      <td>NaN</td>\n",
       "    </tr>\n",
       "    <tr>\n",
       "      <th>2017-12-31 23:40:00</th>\n",
       "      <td>0.353646</td>\n",
       "      <td>0.483538</td>\n",
       "      <td>0.129892</td>\n",
       "      <td>2018-01-01 00:00:00+01:00</td>\n",
       "      <td>NaN</td>\n",
       "      <td>NaN</td>\n",
       "      <td>NaN</td>\n",
       "      <td>NaN</td>\n",
       "      <td>NaN</td>\n",
       "      <td>NaN</td>\n",
       "      <td>...</td>\n",
       "      <td>NaN</td>\n",
       "      <td>NaN</td>\n",
       "      <td>NaN</td>\n",
       "      <td>NaN</td>\n",
       "      <td>NaN</td>\n",
       "      <td>NaN</td>\n",
       "      <td>NaN</td>\n",
       "      <td>NaT</td>\n",
       "      <td>NaN</td>\n",
       "      <td>NaN</td>\n",
       "    </tr>\n",
       "  </tbody>\n",
       "</table>\n",
       "<p>5 rows × 30 columns</p>\n",
       "</div>"
      ],
      "text/plain": [
       "                     power_mw_obsnorm  power_available_mw_obsnorm  \\\n",
       "2017-12-31 23:00:00          0.330269                    0.450934   \n",
       "2017-12-31 23:10:00          0.339204                    0.457539   \n",
       "2017-12-31 23:20:00          0.336993                    0.456577   \n",
       "2017-12-31 23:30:00          0.337858                    0.462447   \n",
       "2017-12-31 23:40:00          0.353646                    0.483538   \n",
       "\n",
       "                     target_losses_norm               date_by_hour  \\\n",
       "2017-12-31 23:00:00            0.120665  2018-01-01 00:00:00+01:00   \n",
       "2017-12-31 23:10:00            0.118335  2018-01-01 00:00:00+01:00   \n",
       "2017-12-31 23:20:00            0.119584  2018-01-01 00:00:00+01:00   \n",
       "2017-12-31 23:30:00            0.124589  2018-01-01 00:00:00+01:00   \n",
       "2017-12-31 23:40:00            0.129892  2018-01-01 00:00:00+01:00   \n",
       "\n",
       "                     dswrf_sfc_wm2  gust_sfc_ms  hpbl_sfc_m  msl_ms_pa  \\\n",
       "2017-12-31 23:00:00            NaN          NaN         NaN        NaN   \n",
       "2017-12-31 23:10:00            NaN          NaN         NaN        NaN   \n",
       "2017-12-31 23:20:00            NaN          NaN         NaN        NaN   \n",
       "2017-12-31 23:30:00            NaN          NaN         NaN        NaN   \n",
       "2017-12-31 23:40:00            NaN          NaN         NaN        NaN   \n",
       "\n",
       "                     pottemp_80mto0m_K  q_2m_1  ...  wdir_10m_dn  \\\n",
       "2017-12-31 23:00:00                NaN     NaN  ...          NaN   \n",
       "2017-12-31 23:10:00                NaN     NaN  ...          NaN   \n",
       "2017-12-31 23:20:00                NaN     NaN  ...          NaN   \n",
       "2017-12-31 23:30:00                NaN     NaN  ...          NaN   \n",
       "2017-12-31 23:40:00                NaN     NaN  ...          NaN   \n",
       "\n",
       "                     wdir_pfg30_dn  wdir_pl925_dn  wsp_100m_ms  wsp_10m_ms  \\\n",
       "2017-12-31 23:00:00            NaN            NaN          NaN         NaN   \n",
       "2017-12-31 23:10:00            NaN            NaN          NaN         NaN   \n",
       "2017-12-31 23:20:00            NaN            NaN          NaN         NaN   \n",
       "2017-12-31 23:30:00            NaN            NaN          NaN         NaN   \n",
       "2017-12-31 23:40:00            NaN            NaN          NaN         NaN   \n",
       "\n",
       "                     wsp_pfg30_ms  wsp_pl925_ms  created_on  azimuth  \\\n",
       "2017-12-31 23:00:00           NaN           NaN         NaT      NaN   \n",
       "2017-12-31 23:10:00           NaN           NaN         NaT      NaN   \n",
       "2017-12-31 23:20:00           NaN           NaN         NaT      NaN   \n",
       "2017-12-31 23:30:00           NaN           NaN         NaT      NaN   \n",
       "2017-12-31 23:40:00           NaN           NaN         NaT      NaN   \n",
       "\n",
       "                     elevation  \n",
       "2017-12-31 23:00:00        NaN  \n",
       "2017-12-31 23:10:00        NaN  \n",
       "2017-12-31 23:20:00        NaN  \n",
       "2017-12-31 23:30:00        NaN  \n",
       "2017-12-31 23:40:00        NaN  \n",
       "\n",
       "[5 rows x 30 columns]"
      ]
     },
     "execution_count": 27,
     "metadata": {},
     "output_type": "execute_result"
    }
   ],
   "source": [
    "mrg_df.head()"
   ]
  },
  {
   "cell_type": "code",
   "execution_count": 28,
   "metadata": {
    "ExecuteTime": {
     "end_time": "2020-07-30T18:57:24.844481Z",
     "start_time": "2020-07-30T18:57:24.714363Z"
    }
   },
   "outputs": [
    {
     "data": {
      "text/html": [
       "<div>\n",
       "<style scoped>\n",
       "    .dataframe tbody tr th:only-of-type {\n",
       "        vertical-align: middle;\n",
       "    }\n",
       "\n",
       "    .dataframe tbody tr th {\n",
       "        vertical-align: top;\n",
       "    }\n",
       "\n",
       "    .dataframe thead th {\n",
       "        text-align: right;\n",
       "    }\n",
       "</style>\n",
       "<table border=\"1\" class=\"dataframe\">\n",
       "  <thead>\n",
       "    <tr style=\"text-align: right;\">\n",
       "      <th></th>\n",
       "      <th>power_mw_obsnorm</th>\n",
       "      <th>power_available_mw_obsnorm</th>\n",
       "      <th>target_losses_norm</th>\n",
       "      <th>dswrf_sfc_wm2</th>\n",
       "      <th>gust_sfc_ms</th>\n",
       "      <th>hpbl_sfc_m</th>\n",
       "      <th>msl_ms_pa</th>\n",
       "      <th>pottemp_80mto0m_K</th>\n",
       "      <th>q_2m_1</th>\n",
       "      <th>q_pfg30_1</th>\n",
       "      <th>...</th>\n",
       "      <th>wdir_100m_dn</th>\n",
       "      <th>wdir_10m_dn</th>\n",
       "      <th>wdir_pfg30_dn</th>\n",
       "      <th>wdir_pl925_dn</th>\n",
       "      <th>wsp_100m_ms</th>\n",
       "      <th>wsp_10m_ms</th>\n",
       "      <th>wsp_pfg30_ms</th>\n",
       "      <th>wsp_pl925_ms</th>\n",
       "      <th>azimuth</th>\n",
       "      <th>elevation</th>\n",
       "    </tr>\n",
       "  </thead>\n",
       "  <tbody>\n",
       "    <tr>\n",
       "      <th>count</th>\n",
       "      <td>70710.000000</td>\n",
       "      <td>70710.000000</td>\n",
       "      <td>70710.000000</td>\n",
       "      <td>68925.000000</td>\n",
       "      <td>68925.000000</td>\n",
       "      <td>68925.000000</td>\n",
       "      <td>68925.000000</td>\n",
       "      <td>68925.000000</td>\n",
       "      <td>68925.000000</td>\n",
       "      <td>68925.000000</td>\n",
       "      <td>...</td>\n",
       "      <td>68925.000000</td>\n",
       "      <td>68925.000000</td>\n",
       "      <td>68925.000000</td>\n",
       "      <td>68925.000000</td>\n",
       "      <td>68925.000000</td>\n",
       "      <td>68925.000000</td>\n",
       "      <td>68925.000000</td>\n",
       "      <td>68925.000000</td>\n",
       "      <td>68925.000000</td>\n",
       "      <td>68925.000000</td>\n",
       "    </tr>\n",
       "    <tr>\n",
       "      <th>mean</th>\n",
       "      <td>0.204310</td>\n",
       "      <td>0.274691</td>\n",
       "      <td>0.070381</td>\n",
       "      <td>148.898767</td>\n",
       "      <td>8.063103</td>\n",
       "      <td>552.311393</td>\n",
       "      <td>101512.096078</td>\n",
       "      <td>0.759712</td>\n",
       "      <td>0.006147</td>\n",
       "      <td>0.005860</td>\n",
       "      <td>...</td>\n",
       "      <td>166.640849</td>\n",
       "      <td>166.695903</td>\n",
       "      <td>166.148601</td>\n",
       "      <td>158.757565</td>\n",
       "      <td>7.572002</td>\n",
       "      <td>4.439478</td>\n",
       "      <td>7.445676</td>\n",
       "      <td>10.240085</td>\n",
       "      <td>182.913421</td>\n",
       "      <td>1.013614</td>\n",
       "    </tr>\n",
       "    <tr>\n",
       "      <th>std</th>\n",
       "      <td>0.162364</td>\n",
       "      <td>0.264172</td>\n",
       "      <td>0.128426</td>\n",
       "      <td>226.650632</td>\n",
       "      <td>4.164345</td>\n",
       "      <td>432.872553</td>\n",
       "      <td>1019.535638</td>\n",
       "      <td>1.178976</td>\n",
       "      <td>0.002617</td>\n",
       "      <td>0.002450</td>\n",
       "      <td>...</td>\n",
       "      <td>100.403009</td>\n",
       "      <td>100.944043</td>\n",
       "      <td>100.353294</td>\n",
       "      <td>100.033029</td>\n",
       "      <td>3.427723</td>\n",
       "      <td>2.125421</td>\n",
       "      <td>3.384758</td>\n",
       "      <td>5.418360</td>\n",
       "      <td>102.386614</td>\n",
       "      <td>30.425721</td>\n",
       "    </tr>\n",
       "    <tr>\n",
       "      <th>min</th>\n",
       "      <td>0.000000</td>\n",
       "      <td>0.000073</td>\n",
       "      <td>0.000049</td>\n",
       "      <td>0.000000</td>\n",
       "      <td>0.517106</td>\n",
       "      <td>21.333019</td>\n",
       "      <td>97637.887500</td>\n",
       "      <td>-2.431875</td>\n",
       "      <td>0.000993</td>\n",
       "      <td>0.000939</td>\n",
       "      <td>...</td>\n",
       "      <td>1.065702</td>\n",
       "      <td>1.605544</td>\n",
       "      <td>0.878477</td>\n",
       "      <td>1.231885</td>\n",
       "      <td>0.558441</td>\n",
       "      <td>0.389727</td>\n",
       "      <td>0.515088</td>\n",
       "      <td>0.338407</td>\n",
       "      <td>8.330822</td>\n",
       "      <td>-62.201588</td>\n",
       "    </tr>\n",
       "    <tr>\n",
       "      <th>25%</th>\n",
       "      <td>0.065503</td>\n",
       "      <td>0.074167</td>\n",
       "      <td>0.005369</td>\n",
       "      <td>0.000000</td>\n",
       "      <td>4.714689</td>\n",
       "      <td>197.444200</td>\n",
       "      <td>100930.025000</td>\n",
       "      <td>-0.095727</td>\n",
       "      <td>0.004048</td>\n",
       "      <td>0.003888</td>\n",
       "      <td>...</td>\n",
       "      <td>78.666833</td>\n",
       "      <td>77.181492</td>\n",
       "      <td>78.572592</td>\n",
       "      <td>76.467012</td>\n",
       "      <td>5.213719</td>\n",
       "      <td>2.883513</td>\n",
       "      <td>5.116174</td>\n",
       "      <td>6.147295</td>\n",
       "      <td>92.030838</td>\n",
       "      <td>-21.149464</td>\n",
       "    </tr>\n",
       "    <tr>\n",
       "      <th>50%</th>\n",
       "      <td>0.166234</td>\n",
       "      <td>0.181165</td>\n",
       "      <td>0.014100</td>\n",
       "      <td>12.500000</td>\n",
       "      <td>7.749561</td>\n",
       "      <td>449.104587</td>\n",
       "      <td>101579.350000</td>\n",
       "      <td>0.653383</td>\n",
       "      <td>0.005738</td>\n",
       "      <td>0.005536</td>\n",
       "      <td>...</td>\n",
       "      <td>137.023969</td>\n",
       "      <td>137.686530</td>\n",
       "      <td>136.378568</td>\n",
       "      <td>127.371959</td>\n",
       "      <td>7.207236</td>\n",
       "      <td>4.038870</td>\n",
       "      <td>7.079815</td>\n",
       "      <td>9.424974</td>\n",
       "      <td>187.055878</td>\n",
       "      <td>1.115567</td>\n",
       "    </tr>\n",
       "    <tr>\n",
       "      <th>75%</th>\n",
       "      <td>0.320650</td>\n",
       "      <td>0.391951</td>\n",
       "      <td>0.056041</td>\n",
       "      <td>231.500000</td>\n",
       "      <td>10.877142</td>\n",
       "      <td>832.442883</td>\n",
       "      <td>102154.960000</td>\n",
       "      <td>1.517620</td>\n",
       "      <td>0.008019</td>\n",
       "      <td>0.007608</td>\n",
       "      <td>...</td>\n",
       "      <td>263.553165</td>\n",
       "      <td>261.993699</td>\n",
       "      <td>263.640717</td>\n",
       "      <td>262.411752</td>\n",
       "      <td>9.406372</td>\n",
       "      <td>5.686764</td>\n",
       "      <td>9.262976</td>\n",
       "      <td>13.485638</td>\n",
       "      <td>273.092102</td>\n",
       "      <td>23.550364</td>\n",
       "    </tr>\n",
       "    <tr>\n",
       "      <th>max</th>\n",
       "      <td>0.801717</td>\n",
       "      <td>1.019565</td>\n",
       "      <td>0.779721</td>\n",
       "      <td>885.500000</td>\n",
       "      <td>24.316044</td>\n",
       "      <td>2519.267852</td>\n",
       "      <td>104261.237500</td>\n",
       "      <td>4.316991</td>\n",
       "      <td>0.015260</td>\n",
       "      <td>0.013631</td>\n",
       "      <td>...</td>\n",
       "      <td>359.180650</td>\n",
       "      <td>358.364902</td>\n",
       "      <td>359.093417</td>\n",
       "      <td>359.606116</td>\n",
       "      <td>23.256653</td>\n",
       "      <td>14.571061</td>\n",
       "      <td>23.972086</td>\n",
       "      <td>30.798095</td>\n",
       "      <td>358.682526</td>\n",
       "      <td>62.103596</td>\n",
       "    </tr>\n",
       "  </tbody>\n",
       "</table>\n",
       "<p>8 rows × 28 columns</p>\n",
       "</div>"
      ],
      "text/plain": [
       "       power_mw_obsnorm  power_available_mw_obsnorm  target_losses_norm  \\\n",
       "count      70710.000000                70710.000000        70710.000000   \n",
       "mean           0.204310                    0.274691            0.070381   \n",
       "std            0.162364                    0.264172            0.128426   \n",
       "min            0.000000                    0.000073            0.000049   \n",
       "25%            0.065503                    0.074167            0.005369   \n",
       "50%            0.166234                    0.181165            0.014100   \n",
       "75%            0.320650                    0.391951            0.056041   \n",
       "max            0.801717                    1.019565            0.779721   \n",
       "\n",
       "       dswrf_sfc_wm2   gust_sfc_ms    hpbl_sfc_m      msl_ms_pa  \\\n",
       "count   68925.000000  68925.000000  68925.000000   68925.000000   \n",
       "mean      148.898767      8.063103    552.311393  101512.096078   \n",
       "std       226.650632      4.164345    432.872553    1019.535638   \n",
       "min         0.000000      0.517106     21.333019   97637.887500   \n",
       "25%         0.000000      4.714689    197.444200  100930.025000   \n",
       "50%        12.500000      7.749561    449.104587  101579.350000   \n",
       "75%       231.500000     10.877142    832.442883  102154.960000   \n",
       "max       885.500000     24.316044   2519.267852  104261.237500   \n",
       "\n",
       "       pottemp_80mto0m_K        q_2m_1     q_pfg30_1  ...  wdir_100m_dn  \\\n",
       "count       68925.000000  68925.000000  68925.000000  ...  68925.000000   \n",
       "mean            0.759712      0.006147      0.005860  ...    166.640849   \n",
       "std             1.178976      0.002617      0.002450  ...    100.403009   \n",
       "min            -2.431875      0.000993      0.000939  ...      1.065702   \n",
       "25%            -0.095727      0.004048      0.003888  ...     78.666833   \n",
       "50%             0.653383      0.005738      0.005536  ...    137.023969   \n",
       "75%             1.517620      0.008019      0.007608  ...    263.553165   \n",
       "max             4.316991      0.015260      0.013631  ...    359.180650   \n",
       "\n",
       "        wdir_10m_dn  wdir_pfg30_dn  wdir_pl925_dn   wsp_100m_ms    wsp_10m_ms  \\\n",
       "count  68925.000000   68925.000000   68925.000000  68925.000000  68925.000000   \n",
       "mean     166.695903     166.148601     158.757565      7.572002      4.439478   \n",
       "std      100.944043     100.353294     100.033029      3.427723      2.125421   \n",
       "min        1.605544       0.878477       1.231885      0.558441      0.389727   \n",
       "25%       77.181492      78.572592      76.467012      5.213719      2.883513   \n",
       "50%      137.686530     136.378568     127.371959      7.207236      4.038870   \n",
       "75%      261.993699     263.640717     262.411752      9.406372      5.686764   \n",
       "max      358.364902     359.093417     359.606116     23.256653     14.571061   \n",
       "\n",
       "       wsp_pfg30_ms  wsp_pl925_ms       azimuth     elevation  \n",
       "count  68925.000000  68925.000000  68925.000000  68925.000000  \n",
       "mean       7.445676     10.240085    182.913421      1.013614  \n",
       "std        3.384758      5.418360    102.386614     30.425721  \n",
       "min        0.515088      0.338407      8.330822    -62.201588  \n",
       "25%        5.116174      6.147295     92.030838    -21.149464  \n",
       "50%        7.079815      9.424974    187.055878      1.115567  \n",
       "75%        9.262976     13.485638    273.092102     23.550364  \n",
       "max       23.972086     30.798095    358.682526     62.103596  \n",
       "\n",
       "[8 rows x 28 columns]"
      ]
     },
     "execution_count": 28,
     "metadata": {},
     "output_type": "execute_result"
    }
   ],
   "source": [
    "mrg_df.describe()"
   ]
  },
  {
   "cell_type": "markdown",
   "metadata": {},
   "source": [
    "Oh no, zeros! We have to clean that! \n",
    "For some energy values we do not have predictions, so we throw them away."
   ]
  },
  {
   "cell_type": "code",
   "execution_count": 29,
   "metadata": {
    "ExecuteTime": {
     "end_time": "2020-07-30T18:57:24.868504Z",
     "start_time": "2020-07-30T18:57:24.845482Z"
    }
   },
   "outputs": [
    {
     "name": "stdout",
     "output_type": "stream",
     "text": [
      "<class 'pandas.core.frame.DataFrame'>\n",
      "DatetimeIndex: 70710 entries, 2017-12-31 23:00:00 to 2019-06-24 23:50:00\n",
      "Data columns (total 30 columns):\n",
      " #   Column                      Non-Null Count  Dtype              \n",
      "---  ------                      --------------  -----              \n",
      " 0   power_mw_obsnorm            70710 non-null  float64            \n",
      " 1   power_available_mw_obsnorm  70710 non-null  float64            \n",
      " 2   target_losses_norm          70710 non-null  float64            \n",
      " 3   date_by_hour                70710 non-null  object             \n",
      " 4   dswrf_sfc_wm2               68925 non-null  float64            \n",
      " 5   gust_sfc_ms                 68925 non-null  float64            \n",
      " 6   hpbl_sfc_m                  68925 non-null  float64            \n",
      " 7   msl_ms_pa                   68925 non-null  float64            \n",
      " 8   pottemp_80mto0m_K           68925 non-null  float64            \n",
      " 9   q_2m_1                      68925 non-null  float64            \n",
      " 10  q_pfg30_1                   68925 non-null  float64            \n",
      " 11  r_pl925_%                   68925 non-null  float64            \n",
      " 12  r_pl950_%                   68925 non-null  float64            \n",
      " 13  shtfl_sfc_wm2               68925 non-null  float64            \n",
      " 14  t_100m_k                    68925 non-null  float64            \n",
      " 15  t_2m_k                      68925 non-null  float64            \n",
      " 16  t_pfg30_k                   68925 non-null  float64            \n",
      " 17  tcclow_sfc_%                68925 non-null  float64            \n",
      " 18  tccmedium_sfc_%             68925 non-null  float64            \n",
      " 19  wdir_100m_dn                68925 non-null  float64            \n",
      " 20  wdir_10m_dn                 68925 non-null  float64            \n",
      " 21  wdir_pfg30_dn               68925 non-null  float64            \n",
      " 22  wdir_pl925_dn               68925 non-null  float64            \n",
      " 23  wsp_100m_ms                 68925 non-null  float64            \n",
      " 24  wsp_10m_ms                  68925 non-null  float64            \n",
      " 25  wsp_pfg30_ms                68925 non-null  float64            \n",
      " 26  wsp_pl925_ms                68925 non-null  float64            \n",
      " 27  created_on                  68925 non-null  datetime64[ns, UTC]\n",
      " 28  azimuth                     68925 non-null  float64            \n",
      " 29  elevation                   68925 non-null  float64            \n",
      "dtypes: datetime64[ns, UTC](1), float64(28), object(1)\n",
      "memory usage: 16.7+ MB\n"
     ]
    }
   ],
   "source": [
    "mrg_df.info()"
   ]
  },
  {
   "cell_type": "code",
   "execution_count": 30,
   "metadata": {
    "ExecuteTime": {
     "end_time": "2020-07-30T18:57:24.891523Z",
     "start_time": "2020-07-30T18:57:24.869505Z"
    }
   },
   "outputs": [],
   "source": [
    "clean_df = mrg_df[mrg_df.azimuth.isnull() == False].copy()"
   ]
  },
  {
   "cell_type": "code",
   "execution_count": 31,
   "metadata": {
    "ExecuteTime": {
     "end_time": "2020-07-30T18:57:24.916547Z",
     "start_time": "2020-07-30T18:57:24.892525Z"
    }
   },
   "outputs": [
    {
     "name": "stdout",
     "output_type": "stream",
     "text": [
      "<class 'pandas.core.frame.DataFrame'>\n",
      "DatetimeIndex: 68925 entries, 2018-01-01 06:00:00 to 2019-06-24 23:50:00\n",
      "Data columns (total 30 columns):\n",
      " #   Column                      Non-Null Count  Dtype              \n",
      "---  ------                      --------------  -----              \n",
      " 0   power_mw_obsnorm            68925 non-null  float64            \n",
      " 1   power_available_mw_obsnorm  68925 non-null  float64            \n",
      " 2   target_losses_norm          68925 non-null  float64            \n",
      " 3   date_by_hour                68925 non-null  object             \n",
      " 4   dswrf_sfc_wm2               68925 non-null  float64            \n",
      " 5   gust_sfc_ms                 68925 non-null  float64            \n",
      " 6   hpbl_sfc_m                  68925 non-null  float64            \n",
      " 7   msl_ms_pa                   68925 non-null  float64            \n",
      " 8   pottemp_80mto0m_K           68925 non-null  float64            \n",
      " 9   q_2m_1                      68925 non-null  float64            \n",
      " 10  q_pfg30_1                   68925 non-null  float64            \n",
      " 11  r_pl925_%                   68925 non-null  float64            \n",
      " 12  r_pl950_%                   68925 non-null  float64            \n",
      " 13  shtfl_sfc_wm2               68925 non-null  float64            \n",
      " 14  t_100m_k                    68925 non-null  float64            \n",
      " 15  t_2m_k                      68925 non-null  float64            \n",
      " 16  t_pfg30_k                   68925 non-null  float64            \n",
      " 17  tcclow_sfc_%                68925 non-null  float64            \n",
      " 18  tccmedium_sfc_%             68925 non-null  float64            \n",
      " 19  wdir_100m_dn                68925 non-null  float64            \n",
      " 20  wdir_10m_dn                 68925 non-null  float64            \n",
      " 21  wdir_pfg30_dn               68925 non-null  float64            \n",
      " 22  wdir_pl925_dn               68925 non-null  float64            \n",
      " 23  wsp_100m_ms                 68925 non-null  float64            \n",
      " 24  wsp_10m_ms                  68925 non-null  float64            \n",
      " 25  wsp_pfg30_ms                68925 non-null  float64            \n",
      " 26  wsp_pl925_ms                68925 non-null  float64            \n",
      " 27  created_on                  68925 non-null  datetime64[ns, UTC]\n",
      " 28  azimuth                     68925 non-null  float64            \n",
      " 29  elevation                   68925 non-null  float64            \n",
      "dtypes: datetime64[ns, UTC](1), float64(28), object(1)\n",
      "memory usage: 16.3+ MB\n"
     ]
    }
   ],
   "source": [
    "clean_df.info()"
   ]
  },
  {
   "cell_type": "markdown",
   "metadata": {},
   "source": [
    "Finally time to plot something!"
   ]
  },
  {
   "cell_type": "markdown",
   "metadata": {},
   "source": [
    "For easier access, I will create list with column names. The three energy column names wil get on list, because we want to predict these. Another list will contain all numerical values from the weather predicitons."
   ]
  },
  {
   "cell_type": "code",
   "execution_count": 32,
   "metadata": {
    "ExecuteTime": {
     "end_time": "2020-07-30T18:57:24.920550Z",
     "start_time": "2020-07-30T18:57:24.917548Z"
    }
   },
   "outputs": [],
   "source": [
    "nrg_columns = list(nrg_df.columns.drop('date_by_hour')) # sinister, evil guy voice: \"date_by_hour has outlived its usefulness. Drop it!"
   ]
  },
  {
   "cell_type": "code",
   "execution_count": 33,
   "metadata": {
    "ExecuteTime": {
     "end_time": "2020-07-30T18:57:24.926556Z",
     "start_time": "2020-07-30T18:57:24.921551Z"
    }
   },
   "outputs": [
    {
     "data": {
      "text/plain": [
       "['power_mw_obsnorm', 'power_available_mw_obsnorm', 'target_losses_norm']"
      ]
     },
     "execution_count": 33,
     "metadata": {},
     "output_type": "execute_result"
    }
   ],
   "source": [
    "nrg_columns"
   ]
  },
  {
   "cell_type": "code",
   "execution_count": 34,
   "metadata": {
    "ExecuteTime": {
     "end_time": "2020-07-30T18:57:24.941570Z",
     "start_time": "2020-07-30T18:57:24.927557Z"
    }
   },
   "outputs": [],
   "source": [
    "wthr_columns = clean_df.select_dtypes(include=np.number).columns.tolist()"
   ]
  },
  {
   "cell_type": "code",
   "execution_count": 35,
   "metadata": {
    "ExecuteTime": {
     "end_time": "2020-07-30T18:57:24.947575Z",
     "start_time": "2020-07-30T18:57:24.942571Z"
    }
   },
   "outputs": [
    {
     "data": {
      "text/plain": [
       "['dswrf_sfc_wm2',\n",
       " 'gust_sfc_ms',\n",
       " 'hpbl_sfc_m',\n",
       " 'msl_ms_pa',\n",
       " 'pottemp_80mto0m_K',\n",
       " 'q_2m_1',\n",
       " 'q_pfg30_1',\n",
       " 'r_pl925_%',\n",
       " 'r_pl950_%',\n",
       " 'shtfl_sfc_wm2',\n",
       " 't_100m_k',\n",
       " 't_2m_k',\n",
       " 't_pfg30_k',\n",
       " 'tcclow_sfc_%',\n",
       " 'tccmedium_sfc_%',\n",
       " 'wdir_100m_dn',\n",
       " 'wdir_10m_dn',\n",
       " 'wdir_pfg30_dn',\n",
       " 'wdir_pl925_dn',\n",
       " 'wsp_100m_ms',\n",
       " 'wsp_10m_ms',\n",
       " 'wsp_pfg30_ms',\n",
       " 'wsp_pl925_ms',\n",
       " 'azimuth',\n",
       " 'elevation']"
      ]
     },
     "execution_count": 35,
     "metadata": {},
     "output_type": "execute_result"
    }
   ],
   "source": [
    "wthr_columns = wthr_columns[3:]\n",
    "wthr_columns"
   ]
  },
  {
   "cell_type": "code",
   "execution_count": 36,
   "metadata": {
    "ExecuteTime": {
     "end_time": "2020-07-30T18:57:24.952579Z",
     "start_time": "2020-07-30T18:57:24.948576Z"
    }
   },
   "outputs": [
    {
     "data": {
      "text/plain": [
       "25"
      ]
     },
     "execution_count": 36,
     "metadata": {},
     "output_type": "execute_result"
    }
   ],
   "source": [
    "len(wthr_columns)"
   ]
  },
  {
   "cell_type": "code",
   "execution_count": 37,
   "metadata": {
    "ExecuteTime": {
     "end_time": "2020-07-30T18:57:28.183555Z",
     "start_time": "2020-07-30T18:57:24.954583Z"
    }
   },
   "outputs": [
    {
     "data": {
      "image/png": "[encoded data removed]",
      "text/plain": [
       "<Figure size 432x288 with 25 Axes>"
      ]
     },
     "metadata": {
      "needs_background": "light"
     },
     "output_type": "display_data"
    }
   ],
   "source": [
    "figure, axes = plt.subplots(nrows = 5, ncols = 5)\n",
    "\n",
    "for i, title in enumerate(wthr_columns):\n",
    "    axes[i%5][int(i/5)].plot(clean_df.target_losses_norm, clean_df[title])\n",
    "\n",
    "figure.tight_layout()"
   ]
  },
  {
   "cell_type": "code",
   "execution_count": 38,
   "metadata": {
    "ExecuteTime": {
     "end_time": "2020-07-30T18:57:29.848575Z",
     "start_time": "2020-07-30T18:57:28.184547Z"
    }
   },
   "outputs": [
    {
     "data": {
      "image/png": "[encoded data removed]",
      "text/plain": [
       "<Figure size 1152x720 with 2 Axes>"
      ]
     },
     "metadata": {
      "needs_background": "light"
     },
     "output_type": "display_data"
    }
   ],
   "source": [
    "mask = np.triu(clean_df.corr())\n",
    "plt.figure(figsize = (16,10))\n",
    "ax = sns.heatmap(round(clean_df.corr()*100,0)\n",
    "                 ,annot=True\n",
    "                 ,mask=mask\n",
    "                 ,cmap='coolwarm')\n",
    "\n"
   ]
  },
  {
   "cell_type": "code",
   "execution_count": 39,
   "metadata": {
    "ExecuteTime": {
     "end_time": "2020-07-30T18:57:29.851578Z",
     "start_time": "2020-07-30T18:57:29.849576Z"
    }
   },
   "outputs": [],
   "source": [
    " #_ =sns.pairplot(clean_df)\n",
    " #plt.savefig('figures/pairplot.png')"
   ]
  },
  {
   "cell_type": "code",
   "execution_count": 40,
   "metadata": {
    "ExecuteTime": {
     "end_time": "2020-07-30T18:57:30.865521Z",
     "start_time": "2020-07-30T18:57:29.852579Z"
    }
   },
   "outputs": [
    {
     "data": {
      "image/png": "[encoded data removed]",
      "text/plain": [
       "<Figure size 432x288 with 1 Axes>"
      ]
     },
     "metadata": {
      "needs_background": "light"
     },
     "output_type": "display_data"
    }
   ],
   "source": [
    "sns.scatterplot(clean_df.azimuth, clean_df.elevation)\n",
    "plt.savefig('figures/azimut.png')"
   ]
  },
  {
   "cell_type": "markdown",
   "metadata": {},
   "source": [
    "So I guess [azimuth and elevation](https://en.wikipedia.org/wiki/Azimuth \"Wikipedia\") are correlated in a special way... (in the link, elevation is altitude)"
   ]
  },
  {
   "cell_type": "markdown",
   "metadata": {
    "ExecuteTime": {
     "end_time": "2020-07-22T10:38:46.233707Z",
     "start_time": "2020-07-22T10:38:46.229703Z"
    }
   },
   "source": [
    "Anyway, for prediction only the correlations in the firs three rows matter."
   ]
  },
  {
   "cell_type": "markdown",
   "metadata": {},
   "source": [
    "## Looking at the energy levels"
   ]
  },
  {
   "cell_type": "code",
   "execution_count": 41,
   "metadata": {
    "ExecuteTime": {
     "end_time": "2020-07-30T18:57:31.116272Z",
     "start_time": "2020-07-30T18:57:30.866531Z"
    }
   },
   "outputs": [
    {
     "data": {
      "text/plain": [
       "<matplotlib.axes._subplots.AxesSubplot at 0x22c60b5d748>"
      ]
     },
     "execution_count": 41,
     "metadata": {},
     "output_type": "execute_result"
    },
    {
     "data": {
      "image/png": "[encoded data removed]",
      "text/plain": [
       "<Figure size 432x288 with 1 Axes>"
      ]
     },
     "metadata": {
      "needs_background": "light"
     },
     "output_type": "display_data"
    }
   ],
   "source": [
    "clean_df[:10000].target_losses_norm.plot()"
   ]
  },
  {
   "cell_type": "code",
   "execution_count": 42,
   "metadata": {
    "ExecuteTime": {
     "end_time": "2020-07-30T18:57:31.295435Z",
     "start_time": "2020-07-30T18:57:31.117273Z"
    }
   },
   "outputs": [
    {
     "data": {
      "text/plain": [
       "<matplotlib.axes._subplots.AxesSubplot at 0x22c605444c8>"
      ]
     },
     "execution_count": 42,
     "metadata": {},
     "output_type": "execute_result"
    },
    {
     "data": {
      "image/png": "[encoded data removed]",
      "text/plain": [
       "<Figure size 432x288 with 1 Axes>"
      ]
     },
     "metadata": {
      "needs_background": "light"
     },
     "output_type": "display_data"
    }
   ],
   "source": [
    "clean_df[:10000].power_mw_obsnorm.plot()"
   ]
  },
  {
   "cell_type": "code",
   "execution_count": 43,
   "metadata": {
    "ExecuteTime": {
     "end_time": "2020-07-30T18:57:31.462587Z",
     "start_time": "2020-07-30T18:57:31.296427Z"
    }
   },
   "outputs": [
    {
     "data": {
      "text/plain": [
       "<matplotlib.axes._subplots.AxesSubplot at 0x22c6061d588>"
      ]
     },
     "execution_count": 43,
     "metadata": {},
     "output_type": "execute_result"
    },
    {
     "data": {
      "image/png": "[encoded data removed]",
      "text/plain": [
       "<Figure size 432x288 with 1 Axes>"
      ]
     },
     "metadata": {
      "needs_background": "light"
     },
     "output_type": "display_data"
    }
   ],
   "source": [
    "clean_df[:10000].power_available_mw_obsnorm.plot()"
   ]
  },
  {
   "cell_type": "code",
   "execution_count": 44,
   "metadata": {
    "ExecuteTime": {
     "end_time": "2020-07-30T18:57:31.474590Z",
     "start_time": "2020-07-30T18:57:31.463579Z"
    }
   },
   "outputs": [
    {
     "data": {
      "text/plain": [
       "0.7797212303721229"
      ]
     },
     "execution_count": 44,
     "metadata": {},
     "output_type": "execute_result"
    }
   ],
   "source": [
    "max(nrg_df.target_losses_norm)"
   ]
  },
  {
   "cell_type": "code",
   "execution_count": 45,
   "metadata": {
    "ExecuteTime": {
     "end_time": "2020-07-30T18:57:31.563321Z",
     "start_time": "2020-07-30T18:57:31.475590Z"
    }
   },
   "outputs": [],
   "source": [
    "loss_above_p = {}\n",
    "max_loss = max(nrg_df.target_losses_norm)\n",
    "for p in range(0, 100):\n",
    "    loss_above_p[p] = nrg_df[nrg_df.target_losses_norm >= max_loss * p /100].shape[0]"
   ]
  },
  {
   "cell_type": "markdown",
   "metadata": {
    "ExecuteTime": {
     "end_time": "2020-07-27T13:56:11.682473Z",
     "start_time": "2020-07-27T13:56:11.673959Z"
    }
   },
   "source": [
    "What percentage of the maximum loss work does occur how often?"
   ]
  },
  {
   "cell_type": "code",
   "execution_count": 46,
   "metadata": {
    "ExecuteTime": {
     "end_time": "2020-07-30T18:57:32.046118Z",
     "start_time": "2020-07-30T18:57:31.564672Z"
    }
   },
   "outputs": [
    {
     "data": {
      "image/png": "[encoded data removed]",
      "text/plain": [
       "<Figure size 1152x720 with 1 Axes>"
      ]
     },
     "metadata": {
      "needs_background": "light"
     },
     "output_type": "display_data"
    }
   ],
   "source": [
    "loss_above_p_hours = {k: v/6 for k,v in enumerate(loss_above_p.values())}\n",
    "plt.figure(figsize = (16,10))\n",
    "plt.bar(loss_above_p.keys(), loss_above_p_hours.values())\n",
    "plt.ylabel('Hours')\n",
    "plt.xlabel('% of maximum loss')\n",
    "plt.title('How many hours did we lose what percentage of the maximum loss or more?\\n(Percentage of maximum loss is a certain, unknown wattage. How often do we lose that wattage or more?)')\n",
    "\n",
    "plt.savefig('figures/work_hours_over_p_of_loss')"
   ]
  },
  {
   "cell_type": "code",
   "execution_count": 47,
   "metadata": {
    "ExecuteTime": {
     "end_time": "2020-07-30T18:57:32.450485Z",
     "start_time": "2020-07-30T18:57:32.047110Z"
    }
   },
   "outputs": [
    {
     "data": {
      "image/png": "[encoded data removed]",
      "text/plain": [
       "<Figure size 720x432 with 1 Axes>"
      ]
     },
     "metadata": {
      "needs_background": "light"
     },
     "output_type": "display_data"
    }
   ],
   "source": [
    "loss_above_p_ratio = {k: v*100/nrg_df.shape[0] for k,v in enumerate(loss_above_p.values())}\n",
    "plt.figure(figsize = (10,6))\n",
    "plt.bar(loss_above_p.keys(), loss_above_p_ratio.values())\n",
    "plt.ylabel('% of observed time')\n",
    "plt.xlabel('% of maximum loss')\n",
    "plt.title('What percentage of the time did we lose what percentage of the maximum loss or more?\\n(Percentage of maximum loss is a certain, unknown wattage. How often do we lose that wattage or more?)')\n",
    "\n",
    "plt.savefig('figures/percent_of_time_over_p_of_loss')"
   ]
  },
  {
   "cell_type": "code",
   "execution_count": 48,
   "metadata": {
    "ExecuteTime": {
     "end_time": "2020-07-30T18:57:32.463497Z",
     "start_time": "2020-07-30T18:57:32.451486Z"
    }
   },
   "outputs": [
    {
     "data": {
      "text/plain": [
       "0.8017171066752521"
      ]
     },
     "execution_count": 48,
     "metadata": {},
     "output_type": "execute_result"
    }
   ],
   "source": [
    "max(nrg_df.power_mw_obsnorm)"
   ]
  },
  {
   "cell_type": "code",
   "execution_count": 49,
   "metadata": {
    "ExecuteTime": {
     "end_time": "2020-07-30T18:57:34.532905Z",
     "start_time": "2020-07-30T18:57:32.464489Z"
    }
   },
   "outputs": [],
   "source": [
    "used_above_p_ratio = {}\n",
    "max_use = max(nrg_df.power_mw_obsnorm)\n",
    "occupation = (nrg_df.power_available_mw_obsnorm >= nrg_df.power_mw_obsnorm)\n",
    "for p in range(0, 100):\n",
    "    in_range = (nrg_df.power_mw_obsnorm >= max_use * p /100)\n",
    "    used_above_p_ratio[p] = nrg_df[[rb and ob for rb, ob in zip(in_range, occupation)]].shape[0]*100/nrg_df.shape[0]"
   ]
  },
  {
   "cell_type": "code",
   "execution_count": 50,
   "metadata": {
    "ExecuteTime": {
     "end_time": "2020-07-30T18:57:34.942286Z",
     "start_time": "2020-07-30T18:57:34.533905Z"
    }
   },
   "outputs": [
    {
     "data": {
      "image/png": "[encoded data removed]",
      "text/plain": [
       "<Figure size 720x432 with 1 Axes>"
      ]
     },
     "metadata": {
      "needs_background": "light"
     },
     "output_type": "display_data"
    }
   ],
   "source": [
    "plt.figure(figsize = (10,6))\n",
    "plt.bar(used_above_p_ratio.keys(), used_above_p_ratio.values())\n",
    "plt.ylabel('% of observed time')\n",
    "plt.xlabel('% of maximum used')\n",
    "plt.title('There\\'s a certain wattage that can be fed into the grid. A naive assumption would be, that it is the maximum of the used power.\\nHere you see how often a percentage of that maximum wattage, or more, is fed into the grid.')\n",
    "\n",
    "plt.savefig('figures/percent_of_time_over_percent_of_used')"
   ]
  },
  {
   "cell_type": "markdown",
   "metadata": {},
   "source": [
    "So how many batteries do I install? Well, it's not that easy.  \n",
    "Why do you want batteries? So you can save loss energy for later! But batteries don't save Watts, they save Watt\\*hours. So if you have a long time with high loss your batteries will be full. And what if the next high loss period begins before your battery is depleted? For that, we have to look at the time line and simulate real batteries.  \n",
    "We will do that, but first let's get a simpler model: Hydrogen production! Given unlimited storage for hydrogen, a hydrogen plant could, at any given moment take the maximum work it is laid out for. Even though technically complicated, it makes for an easier model."
   ]
  },
  {
   "cell_type": "code",
   "execution_count": 51,
   "metadata": {
    "ExecuteTime": {
     "end_time": "2020-07-30T18:57:34.946281Z",
     "start_time": "2020-07-30T18:57:34.943278Z"
    }
   },
   "outputs": [],
   "source": [
    "used_p_ratio = dict(enumerate(np.diff(list(used_above_p_ratio.values()))*(-1)))"
   ]
  },
  {
   "cell_type": "code",
   "execution_count": 52,
   "metadata": {
    "ExecuteTime": {
     "end_time": "2020-07-30T18:57:35.364670Z",
     "start_time": "2020-07-30T18:57:34.947282Z"
    }
   },
   "outputs": [
    {
     "data": {
      "image/png": "[encoded data removed]",
      "text/plain": [
       "<Figure size 720x432 with 1 Axes>"
      ]
     },
     "metadata": {
      "needs_background": "light"
     },
     "output_type": "display_data"
    }
   ],
   "source": [
    "plt.figure(figsize = (10,6))\n",
    "plt.bar(used_p_ratio.keys(), used_p_ratio.values())\n",
    "plt.ylabel('% of observed time')\n",
    "plt.xlabel('% of maximum used')\n",
    "plt.title('There\\'s a certain wattage that can be fed into the grid. A naive assumption would be, that it is the maximum of the used power.\\nHere you see how often a percentage of that maximum wattage, is fed into the grid.')\n",
    "\n",
    "plt.savefig('figures/percent_of_time_over_percent_of_used')"
   ]
  },
  {
   "cell_type": "code",
   "execution_count": 53,
   "metadata": {
    "ExecuteTime": {
     "end_time": "2020-07-30T18:57:35.373669Z",
     "start_time": "2020-07-30T18:57:35.365662Z"
    }
   },
   "outputs": [],
   "source": [
    "def bat_sim(loss_ts, b = 0.5, c = 0.05, initial_charge = 0.5):\n",
    "    '''\n",
    "    No pun intended. This simulates batterries.\n",
    "    \n",
    "    In: \n",
    "    loss_ts: time series with loss energy\n",
    "    b: battery capacity as ratio of maximum value in loss_ts\n",
    "    c: consumption as ratio of maximum value in loss_ts, how moch work can be used at any given time\n",
    "    \n",
    "    Out:\n",
    "    DataFrame Index = Timestamps/ columns = batterry_charge, consumption\n",
    "    \n",
    "    '''\n",
    "    loss_ts = dict(loss_ts)\n",
    "    max_loss = max(loss_ts.values())\n",
    "    max_charge = max_loss * b\n",
    "    consumption = max_loss * c\n",
    "    charge = max_loss * initial_charge\n",
    "    \n",
    "    print(max_loss, max_charge, consumption)\n",
    "    \n",
    "    \n",
    "    result = {}\n",
    "    \n",
    "    for k, v in loss_ts.items(): #zip(loss_ts.keys(), loss_ts.values()):\n",
    "        delta = v - consumption\n",
    "        if charge + delta >= max_charge:\n",
    "            result[k] = (1, 1)\n",
    "            charge = max_charge\n",
    "        elif charge + delta <= 0:\n",
    "            result[k] = (0,(charge + v)/consumption)\n",
    "            charge = 0\n",
    "        else:\n",
    "            result[k] = ((charge + delta)/(b*max_loss), 1)\n",
    "            charge = charge + delta\n",
    "    \n",
    "    ret = pd.DataFrame(data = result).T\n",
    "    ret.columns = ['battery_charge', 'consumption']\n",
    "    return ret\n",
    "    "
   ]
  },
  {
   "cell_type": "code",
   "execution_count": 54,
   "metadata": {
    "ExecuteTime": {
     "end_time": "2020-07-30T18:57:41.763077Z",
     "start_time": "2020-07-30T18:57:35.374670Z"
    }
   },
   "outputs": [
    {
     "name": "stdout",
     "output_type": "stream",
     "text": [
      "0.7797212303721229 1091.6097225209721 0.06237769842976983\n"
     ]
    },
    {
     "data": {
      "text/plain": [
       "<matplotlib.axes._subplots.AxesSubplot at 0x22c616c96c8>"
      ]
     },
     "execution_count": 54,
     "metadata": {},
     "output_type": "execute_result"
    },
    {
     "data": {
      "image/png": "[encoded data removed]",
      "text/plain": [
       "<Figure size 432x288 with 1 Axes>"
      ]
     },
     "metadata": {
      "needs_background": "light"
     },
     "output_type": "display_data"
    }
   ],
   "source": [
    "bs = bat_sim(nrg_df.target_losses_norm, b = 1400, c = 0.08, initial_charge=0.5)\n",
    "bs.battery_charge.plot()"
   ]
  },
  {
   "cell_type": "code",
   "execution_count": 55,
   "metadata": {
    "ExecuteTime": {
     "end_time": "2020-07-30T18:57:41.970763Z",
     "start_time": "2020-07-30T18:57:41.764069Z"
    }
   },
   "outputs": [
    {
     "data": {
      "text/plain": [
       "<matplotlib.axes._subplots.AxesSubplot at 0x22c60701408>"
      ]
     },
     "execution_count": 55,
     "metadata": {},
     "output_type": "execute_result"
    },
    {
     "data": {
      "image/png": "[encoded data removed]",
      "text/plain": [
       "<Figure size 432x288 with 1 Axes>"
      ]
     },
     "metadata": {
      "needs_background": "light"
     },
     "output_type": "display_data"
    }
   ],
   "source": [
    "bs.consumption.plot()"
   ]
  },
  {
   "cell_type": "code",
   "execution_count": 56,
   "metadata": {
    "ExecuteTime": {
     "end_time": "2020-07-30T18:57:41.979771Z",
     "start_time": "2020-07-30T18:57:41.971764Z"
    }
   },
   "outputs": [
    {
     "data": {
      "text/html": [
       "<div>\n",
       "<style scoped>\n",
       "    .dataframe tbody tr th:only-of-type {\n",
       "        vertical-align: middle;\n",
       "    }\n",
       "\n",
       "    .dataframe tbody tr th {\n",
       "        vertical-align: top;\n",
       "    }\n",
       "\n",
       "    .dataframe thead th {\n",
       "        text-align: right;\n",
       "    }\n",
       "</style>\n",
       "<table border=\"1\" class=\"dataframe\">\n",
       "  <thead>\n",
       "    <tr style=\"text-align: right;\">\n",
       "      <th></th>\n",
       "      <th>battery_charge</th>\n",
       "      <th>consumption</th>\n",
       "    </tr>\n",
       "  </thead>\n",
       "  <tbody>\n",
       "    <tr>\n",
       "      <th>2017-12-31 23:00:00</th>\n",
       "      <td>0.000411</td>\n",
       "      <td>1.0</td>\n",
       "    </tr>\n",
       "    <tr>\n",
       "      <th>2017-12-31 23:10:00</th>\n",
       "      <td>0.000462</td>\n",
       "      <td>1.0</td>\n",
       "    </tr>\n",
       "    <tr>\n",
       "      <th>2017-12-31 23:20:00</th>\n",
       "      <td>0.000514</td>\n",
       "      <td>1.0</td>\n",
       "    </tr>\n",
       "    <tr>\n",
       "      <th>2017-12-31 23:30:00</th>\n",
       "      <td>0.000571</td>\n",
       "      <td>1.0</td>\n",
       "    </tr>\n",
       "    <tr>\n",
       "      <th>2017-12-31 23:40:00</th>\n",
       "      <td>0.000633</td>\n",
       "      <td>1.0</td>\n",
       "    </tr>\n",
       "  </tbody>\n",
       "</table>\n",
       "</div>"
      ],
      "text/plain": [
       "                     battery_charge  consumption\n",
       "2017-12-31 23:00:00        0.000411          1.0\n",
       "2017-12-31 23:10:00        0.000462          1.0\n",
       "2017-12-31 23:20:00        0.000514          1.0\n",
       "2017-12-31 23:30:00        0.000571          1.0\n",
       "2017-12-31 23:40:00        0.000633          1.0"
      ]
     },
     "execution_count": 56,
     "metadata": {},
     "output_type": "execute_result"
    }
   ],
   "source": [
    "bs.head()"
   ]
  },
  {
   "cell_type": "code",
   "execution_count": 68,
   "metadata": {
    "ExecuteTime": {
     "end_time": "2020-07-30T20:24:10.578191Z",
     "start_time": "2020-07-30T19:28:30.870856Z"
    }
   },
   "outputs": [
    {
     "name": "stdout",
     "output_type": "stream",
     "text": [
      "0.7797212303721229 0.0 0.0038986061518606146\n",
      "0.7797212303721229 0.0 0.007797212303721229\n",
      "0.7797212303721229 0.0 0.011695818455581843\n",
      "0.7797212303721229 0.0 0.015594424607442458\n",
      "0.7797212303721229 0.0 0.019493030759303073\n",
      "0.7797212303721229 0.0 0.02339163691116369\n",
      "0.7797212303721229 0.0 0.0272902430630243\n",
      "0.7797212303721229 0.0 0.031188849214884917\n",
      "0.7797212303721229 0.0 0.03508745536674553\n",
      "0.7797212303721229 0.0 0.03898606151860615\n",
      "0.7797212303721229 0.0 0.04288466767046676\n",
      "0.7797212303721229 0.0 0.04678327382232737\n",
      "0.7797212303721229 0.0 0.05068187997418799\n",
      "0.7797212303721229 0.0 0.054580486126048613\n",
      "0.7797212303721229 0.0 0.05847909227790923\n",
      "0.7797212303721229 0.0 0.06237769842976983\n",
      "0.7797212303721229 0.0 0.06627630458163046\n",
      "0.7797212303721229 0.0 0.07017491073349107\n",
      "0.7797212303721229 0.0 0.07407351688535167\n",
      "0.7797212303721229 0.0 0.0779721230372123\n",
      "0.7797212303721229 0.0 0.08187072918907291\n",
      "0.7797212303721229 0.0 0.08576933534093352\n",
      "0.7797212303721229 0.0 0.08966794149279414\n",
      "0.7797212303721229 0.0 0.09356654764465476\n",
      "0.7797212303721229 0.0 0.09746515379651537\n",
      "0.7797212303721229 0.0 0.10136375994837599\n",
      "0.7797212303721229 0.0 0.1052623661002366\n",
      "0.7797212303721229 0.0 0.10916097225209723\n",
      "0.7797212303721229 0.0 0.11305957840395783\n",
      "0.7797212303721229 0.0 0.11695818455581844\n",
      "0.7797212303721229 0.0 0.12085679070767906\n",
      "0.7797212303721229 0.0 0.12475539685953967\n",
      "0.7797212303721229 0.0 0.1286540030114003\n",
      "0.7797212303721229 0.0 0.13255260916326092\n",
      "0.7797212303721229 0.0 0.13645121531512153\n",
      "0.7797212303721229 0.0 0.14034982146698213\n",
      "0.7797212303721229 0.0 0.14424842761884274\n",
      "0.7797212303721229 0.0 0.14814703377070335\n",
      "0.7797212303721229 0.0 0.15204563992256398\n",
      "0.7797212303721229 77.9721230372123 0.0038986061518606146\n",
      "0.7797212303721229 77.9721230372123 0.007797212303721229\n",
      "0.7797212303721229 77.9721230372123 0.011695818455581843\n",
      "0.7797212303721229 77.9721230372123 0.015594424607442458\n",
      "0.7797212303721229 77.9721230372123 0.019493030759303073\n",
      "0.7797212303721229 77.9721230372123 0.02339163691116369\n",
      "0.7797212303721229 77.9721230372123 0.0272902430630243\n",
      "0.7797212303721229 77.9721230372123 0.031188849214884917\n",
      "0.7797212303721229 77.9721230372123 0.03508745536674553\n",
      "0.7797212303721229 77.9721230372123 0.03898606151860615\n",
      "0.7797212303721229 77.9721230372123 0.04288466767046676\n",
      "0.7797212303721229 77.9721230372123 0.04678327382232737\n",
      "0.7797212303721229 77.9721230372123 0.05068187997418799\n",
      "0.7797212303721229 77.9721230372123 0.054580486126048613\n",
      "0.7797212303721229 77.9721230372123 0.05847909227790923\n",
      "0.7797212303721229 77.9721230372123 0.06237769842976983\n",
      "0.7797212303721229 77.9721230372123 0.06627630458163046\n",
      "0.7797212303721229 77.9721230372123 0.07017491073349107\n",
      "0.7797212303721229 77.9721230372123 0.07407351688535167\n",
      "0.7797212303721229 77.9721230372123 0.0779721230372123\n",
      "0.7797212303721229 77.9721230372123 0.08187072918907291\n",
      "0.7797212303721229 77.9721230372123 0.08576933534093352\n",
      "0.7797212303721229 77.9721230372123 0.08966794149279414\n",
      "0.7797212303721229 77.9721230372123 0.09356654764465476\n",
      "0.7797212303721229 77.9721230372123 0.09746515379651537\n",
      "0.7797212303721229 77.9721230372123 0.10136375994837599\n",
      "0.7797212303721229 77.9721230372123 0.1052623661002366\n",
      "0.7797212303721229 77.9721230372123 0.10916097225209723\n",
      "0.7797212303721229 77.9721230372123 0.11305957840395783\n",
      "0.7797212303721229 77.9721230372123 0.11695818455581844\n",
      "0.7797212303721229 77.9721230372123 0.12085679070767906\n",
      "0.7797212303721229 77.9721230372123 0.12475539685953967\n",
      "0.7797212303721229 77.9721230372123 0.1286540030114003\n",
      "0.7797212303721229 77.9721230372123 0.13255260916326092\n",
      "0.7797212303721229 77.9721230372123 0.13645121531512153\n",
      "0.7797212303721229 77.9721230372123 0.14034982146698213\n",
      "0.7797212303721229 77.9721230372123 0.14424842761884274\n",
      "0.7797212303721229 77.9721230372123 0.14814703377070335\n",
      "0.7797212303721229 77.9721230372123 0.15204563992256398\n",
      "0.7797212303721229 155.9442460744246 0.0038986061518606146\n",
      "0.7797212303721229 155.9442460744246 0.007797212303721229\n",
      "0.7797212303721229 155.9442460744246 0.011695818455581843\n",
      "0.7797212303721229 155.9442460744246 0.015594424607442458\n",
      "0.7797212303721229 155.9442460744246 0.019493030759303073\n",
      "0.7797212303721229 155.9442460744246 0.02339163691116369\n",
      "0.7797212303721229 155.9442460744246 0.0272902430630243\n",
      "0.7797212303721229 155.9442460744246 0.031188849214884917\n",
      "0.7797212303721229 155.9442460744246 0.03508745536674553\n",
      "0.7797212303721229 155.9442460744246 0.03898606151860615\n",
      "0.7797212303721229 155.9442460744246 0.04288466767046676\n",
      "0.7797212303721229 155.9442460744246 0.04678327382232737\n",
      "0.7797212303721229 155.9442460744246 0.05068187997418799\n",
      "0.7797212303721229 155.9442460744246 0.054580486126048613\n",
      "0.7797212303721229 155.9442460744246 0.05847909227790923\n",
      "0.7797212303721229 155.9442460744246 0.06237769842976983\n",
      "0.7797212303721229 155.9442460744246 0.06627630458163046\n",
      "0.7797212303721229 155.9442460744246 0.07017491073349107\n",
      "0.7797212303721229 155.9442460744246 0.07407351688535167\n",
      "0.7797212303721229 155.9442460744246 0.0779721230372123\n",
      "0.7797212303721229 155.9442460744246 0.08187072918907291\n",
      "0.7797212303721229 155.9442460744246 0.08576933534093352\n",
      "0.7797212303721229 155.9442460744246 0.08966794149279414\n",
      "0.7797212303721229 155.9442460744246 0.09356654764465476\n",
      "0.7797212303721229 155.9442460744246 0.09746515379651537\n",
      "0.7797212303721229 155.9442460744246 0.10136375994837599\n",
      "0.7797212303721229 155.9442460744246 0.1052623661002366\n",
      "0.7797212303721229 155.9442460744246 0.10916097225209723\n",
      "0.7797212303721229 155.9442460744246 0.11305957840395783\n",
      "0.7797212303721229 155.9442460744246 0.11695818455581844\n",
      "0.7797212303721229 155.9442460744246 0.12085679070767906\n",
      "0.7797212303721229 155.9442460744246 0.12475539685953967\n",
      "0.7797212303721229 155.9442460744246 0.1286540030114003\n",
      "0.7797212303721229 155.9442460744246 0.13255260916326092\n",
      "0.7797212303721229 155.9442460744246 0.13645121531512153\n",
      "0.7797212303721229 155.9442460744246 0.14034982146698213\n",
      "0.7797212303721229 155.9442460744246 0.14424842761884274\n",
      "0.7797212303721229 155.9442460744246 0.14814703377070335\n",
      "0.7797212303721229 155.9442460744246 0.15204563992256398\n",
      "0.7797212303721229 233.91636911163687 0.0038986061518606146\n",
      "0.7797212303721229 233.91636911163687 0.007797212303721229\n",
      "0.7797212303721229 233.91636911163687 0.011695818455581843\n",
      "0.7797212303721229 233.91636911163687 0.015594424607442458\n",
      "0.7797212303721229 233.91636911163687 0.019493030759303073\n",
      "0.7797212303721229 233.91636911163687 0.02339163691116369\n",
      "0.7797212303721229 233.91636911163687 0.0272902430630243\n",
      "0.7797212303721229 233.91636911163687 0.031188849214884917\n",
      "0.7797212303721229 233.91636911163687 0.03508745536674553\n",
      "0.7797212303721229 233.91636911163687 0.03898606151860615\n",
      "0.7797212303721229 233.91636911163687 0.04288466767046676\n",
      "0.7797212303721229 233.91636911163687 0.04678327382232737\n",
      "0.7797212303721229 233.91636911163687 0.05068187997418799\n",
      "0.7797212303721229 233.91636911163687 0.054580486126048613\n",
      "0.7797212303721229 233.91636911163687 0.05847909227790923\n",
      "0.7797212303721229 233.91636911163687 0.06237769842976983\n",
      "0.7797212303721229 233.91636911163687 0.06627630458163046\n",
      "0.7797212303721229 233.91636911163687 0.07017491073349107\n",
      "0.7797212303721229 233.91636911163687 0.07407351688535167\n",
      "0.7797212303721229 233.91636911163687 0.0779721230372123\n",
      "0.7797212303721229 233.91636911163687 0.08187072918907291\n",
      "0.7797212303721229 233.91636911163687 0.08576933534093352\n",
      "0.7797212303721229 233.91636911163687 0.08966794149279414\n",
      "0.7797212303721229 233.91636911163687 0.09356654764465476\n",
      "0.7797212303721229 233.91636911163687 0.09746515379651537\n",
      "0.7797212303721229 233.91636911163687 0.10136375994837599\n",
      "0.7797212303721229 233.91636911163687 0.1052623661002366\n",
      "0.7797212303721229 233.91636911163687 0.10916097225209723\n",
      "0.7797212303721229 233.91636911163687 0.11305957840395783\n",
      "0.7797212303721229 233.91636911163687 0.11695818455581844\n",
      "0.7797212303721229 233.91636911163687 0.12085679070767906\n",
      "0.7797212303721229 233.91636911163687 0.12475539685953967\n",
      "0.7797212303721229 233.91636911163687 0.1286540030114003\n",
      "0.7797212303721229 233.91636911163687 0.13255260916326092\n",
      "0.7797212303721229 233.91636911163687 0.13645121531512153\n",
      "0.7797212303721229 233.91636911163687 0.14034982146698213\n",
      "0.7797212303721229 233.91636911163687 0.14424842761884274\n"
     ]
    },
    {
     "name": "stdout",
     "output_type": "stream",
     "text": [
      "0.7797212303721229 233.91636911163687 0.14814703377070335\n",
      "0.7797212303721229 233.91636911163687 0.15204563992256398\n",
      "0.7797212303721229 311.8884921488492 0.0038986061518606146\n",
      "0.7797212303721229 311.8884921488492 0.007797212303721229\n",
      "0.7797212303721229 311.8884921488492 0.011695818455581843\n",
      "0.7797212303721229 311.8884921488492 0.015594424607442458\n",
      "0.7797212303721229 311.8884921488492 0.019493030759303073\n",
      "0.7797212303721229 311.8884921488492 0.02339163691116369\n",
      "0.7797212303721229 311.8884921488492 0.0272902430630243\n",
      "0.7797212303721229 311.8884921488492 0.031188849214884917\n",
      "0.7797212303721229 311.8884921488492 0.03508745536674553\n",
      "0.7797212303721229 311.8884921488492 0.03898606151860615\n",
      "0.7797212303721229 311.8884921488492 0.04288466767046676\n",
      "0.7797212303721229 311.8884921488492 0.04678327382232737\n",
      "0.7797212303721229 311.8884921488492 0.05068187997418799\n",
      "0.7797212303721229 311.8884921488492 0.054580486126048613\n",
      "0.7797212303721229 311.8884921488492 0.05847909227790923\n",
      "0.7797212303721229 311.8884921488492 0.06237769842976983\n",
      "0.7797212303721229 311.8884921488492 0.06627630458163046\n",
      "0.7797212303721229 311.8884921488492 0.07017491073349107\n",
      "0.7797212303721229 311.8884921488492 0.07407351688535167\n",
      "0.7797212303721229 311.8884921488492 0.0779721230372123\n",
      "0.7797212303721229 311.8884921488492 0.08187072918907291\n",
      "0.7797212303721229 311.8884921488492 0.08576933534093352\n",
      "0.7797212303721229 311.8884921488492 0.08966794149279414\n",
      "0.7797212303721229 311.8884921488492 0.09356654764465476\n",
      "0.7797212303721229 311.8884921488492 0.09746515379651537\n",
      "0.7797212303721229 311.8884921488492 0.10136375994837599\n",
      "0.7797212303721229 311.8884921488492 0.1052623661002366\n",
      "0.7797212303721229 311.8884921488492 0.10916097225209723\n",
      "0.7797212303721229 311.8884921488492 0.11305957840395783\n",
      "0.7797212303721229 311.8884921488492 0.11695818455581844\n",
      "0.7797212303721229 311.8884921488492 0.12085679070767906\n",
      "0.7797212303721229 311.8884921488492 0.12475539685953967\n",
      "0.7797212303721229 311.8884921488492 0.1286540030114003\n",
      "0.7797212303721229 311.8884921488492 0.13255260916326092\n",
      "0.7797212303721229 311.8884921488492 0.13645121531512153\n",
      "0.7797212303721229 311.8884921488492 0.14034982146698213\n",
      "0.7797212303721229 311.8884921488492 0.14424842761884274\n",
      "0.7797212303721229 311.8884921488492 0.14814703377070335\n",
      "0.7797212303721229 311.8884921488492 0.15204563992256398\n",
      "0.7797212303721229 389.86061518606147 0.0038986061518606146\n",
      "0.7797212303721229 389.86061518606147 0.007797212303721229\n",
      "0.7797212303721229 389.86061518606147 0.011695818455581843\n",
      "0.7797212303721229 389.86061518606147 0.015594424607442458\n",
      "0.7797212303721229 389.86061518606147 0.019493030759303073\n",
      "0.7797212303721229 389.86061518606147 0.02339163691116369\n",
      "0.7797212303721229 389.86061518606147 0.0272902430630243\n",
      "0.7797212303721229 389.86061518606147 0.031188849214884917\n",
      "0.7797212303721229 389.86061518606147 0.03508745536674553\n",
      "0.7797212303721229 389.86061518606147 0.03898606151860615\n",
      "0.7797212303721229 389.86061518606147 0.04288466767046676\n",
      "0.7797212303721229 389.86061518606147 0.04678327382232737\n",
      "0.7797212303721229 389.86061518606147 0.05068187997418799\n",
      "0.7797212303721229 389.86061518606147 0.054580486126048613\n",
      "0.7797212303721229 389.86061518606147 0.05847909227790923\n",
      "0.7797212303721229 389.86061518606147 0.06237769842976983\n",
      "0.7797212303721229 389.86061518606147 0.06627630458163046\n",
      "0.7797212303721229 389.86061518606147 0.07017491073349107\n",
      "0.7797212303721229 389.86061518606147 0.07407351688535167\n",
      "0.7797212303721229 389.86061518606147 0.0779721230372123\n",
      "0.7797212303721229 389.86061518606147 0.08187072918907291\n",
      "0.7797212303721229 389.86061518606147 0.08576933534093352\n",
      "0.7797212303721229 389.86061518606147 0.08966794149279414\n",
      "0.7797212303721229 389.86061518606147 0.09356654764465476\n",
      "0.7797212303721229 389.86061518606147 0.09746515379651537\n",
      "0.7797212303721229 389.86061518606147 0.10136375994837599\n",
      "0.7797212303721229 389.86061518606147 0.1052623661002366\n",
      "0.7797212303721229 389.86061518606147 0.10916097225209723\n",
      "0.7797212303721229 389.86061518606147 0.11305957840395783\n",
      "0.7797212303721229 389.86061518606147 0.11695818455581844\n",
      "0.7797212303721229 389.86061518606147 0.12085679070767906\n",
      "0.7797212303721229 389.86061518606147 0.12475539685953967\n",
      "0.7797212303721229 389.86061518606147 0.1286540030114003\n",
      "0.7797212303721229 389.86061518606147 0.13255260916326092\n",
      "0.7797212303721229 389.86061518606147 0.13645121531512153\n",
      "0.7797212303721229 389.86061518606147 0.14034982146698213\n",
      "0.7797212303721229 389.86061518606147 0.14424842761884274\n",
      "0.7797212303721229 389.86061518606147 0.14814703377070335\n",
      "0.7797212303721229 389.86061518606147 0.15204563992256398\n",
      "0.7797212303721229 467.83273822327374 0.0038986061518606146\n",
      "0.7797212303721229 467.83273822327374 0.007797212303721229\n",
      "0.7797212303721229 467.83273822327374 0.011695818455581843\n",
      "0.7797212303721229 467.83273822327374 0.015594424607442458\n",
      "0.7797212303721229 467.83273822327374 0.019493030759303073\n",
      "0.7797212303721229 467.83273822327374 0.02339163691116369\n",
      "0.7797212303721229 467.83273822327374 0.0272902430630243\n",
      "0.7797212303721229 467.83273822327374 0.031188849214884917\n",
      "0.7797212303721229 467.83273822327374 0.03508745536674553\n",
      "0.7797212303721229 467.83273822327374 0.03898606151860615\n",
      "0.7797212303721229 467.83273822327374 0.04288466767046676\n",
      "0.7797212303721229 467.83273822327374 0.04678327382232737\n",
      "0.7797212303721229 467.83273822327374 0.05068187997418799\n",
      "0.7797212303721229 467.83273822327374 0.054580486126048613\n",
      "0.7797212303721229 467.83273822327374 0.05847909227790923\n",
      "0.7797212303721229 467.83273822327374 0.06237769842976983\n",
      "0.7797212303721229 467.83273822327374 0.06627630458163046\n",
      "0.7797212303721229 467.83273822327374 0.07017491073349107\n",
      "0.7797212303721229 467.83273822327374 0.07407351688535167\n",
      "0.7797212303721229 467.83273822327374 0.0779721230372123\n",
      "0.7797212303721229 467.83273822327374 0.08187072918907291\n",
      "0.7797212303721229 467.83273822327374 0.08576933534093352\n",
      "0.7797212303721229 467.83273822327374 0.08966794149279414\n",
      "0.7797212303721229 467.83273822327374 0.09356654764465476\n",
      "0.7797212303721229 467.83273822327374 0.09746515379651537\n",
      "0.7797212303721229 467.83273822327374 0.10136375994837599\n",
      "0.7797212303721229 467.83273822327374 0.1052623661002366\n",
      "0.7797212303721229 467.83273822327374 0.10916097225209723\n",
      "0.7797212303721229 467.83273822327374 0.11305957840395783\n",
      "0.7797212303721229 467.83273822327374 0.11695818455581844\n",
      "0.7797212303721229 467.83273822327374 0.12085679070767906\n",
      "0.7797212303721229 467.83273822327374 0.12475539685953967\n",
      "0.7797212303721229 467.83273822327374 0.1286540030114003\n",
      "0.7797212303721229 467.83273822327374 0.13255260916326092\n",
      "0.7797212303721229 467.83273822327374 0.13645121531512153\n",
      "0.7797212303721229 467.83273822327374 0.14034982146698213\n",
      "0.7797212303721229 467.83273822327374 0.14424842761884274\n",
      "0.7797212303721229 467.83273822327374 0.14814703377070335\n",
      "0.7797212303721229 467.83273822327374 0.15204563992256398\n",
      "0.7797212303721229 545.8048612604861 0.0038986061518606146\n",
      "0.7797212303721229 545.8048612604861 0.007797212303721229\n",
      "0.7797212303721229 545.8048612604861 0.011695818455581843\n",
      "0.7797212303721229 545.8048612604861 0.015594424607442458\n",
      "0.7797212303721229 545.8048612604861 0.019493030759303073\n",
      "0.7797212303721229 545.8048612604861 0.02339163691116369\n",
      "0.7797212303721229 545.8048612604861 0.0272902430630243\n",
      "0.7797212303721229 545.8048612604861 0.031188849214884917\n",
      "0.7797212303721229 545.8048612604861 0.03508745536674553\n",
      "0.7797212303721229 545.8048612604861 0.03898606151860615\n",
      "0.7797212303721229 545.8048612604861 0.04288466767046676\n",
      "0.7797212303721229 545.8048612604861 0.04678327382232737\n",
      "0.7797212303721229 545.8048612604861 0.05068187997418799\n",
      "0.7797212303721229 545.8048612604861 0.054580486126048613\n",
      "0.7797212303721229 545.8048612604861 0.05847909227790923\n",
      "0.7797212303721229 545.8048612604861 0.06237769842976983\n",
      "0.7797212303721229 545.8048612604861 0.06627630458163046\n",
      "0.7797212303721229 545.8048612604861 0.07017491073349107\n",
      "0.7797212303721229 545.8048612604861 0.07407351688535167\n",
      "0.7797212303721229 545.8048612604861 0.0779721230372123\n",
      "0.7797212303721229 545.8048612604861 0.08187072918907291\n",
      "0.7797212303721229 545.8048612604861 0.08576933534093352\n",
      "0.7797212303721229 545.8048612604861 0.08966794149279414\n",
      "0.7797212303721229 545.8048612604861 0.09356654764465476\n"
     ]
    },
    {
     "name": "stdout",
     "output_type": "stream",
     "text": [
      "0.7797212303721229 545.8048612604861 0.09746515379651537\n",
      "0.7797212303721229 545.8048612604861 0.10136375994837599\n",
      "0.7797212303721229 545.8048612604861 0.1052623661002366\n",
      "0.7797212303721229 545.8048612604861 0.10916097225209723\n",
      "0.7797212303721229 545.8048612604861 0.11305957840395783\n",
      "0.7797212303721229 545.8048612604861 0.11695818455581844\n",
      "0.7797212303721229 545.8048612604861 0.12085679070767906\n",
      "0.7797212303721229 545.8048612604861 0.12475539685953967\n",
      "0.7797212303721229 545.8048612604861 0.1286540030114003\n",
      "0.7797212303721229 545.8048612604861 0.13255260916326092\n",
      "0.7797212303721229 545.8048612604861 0.13645121531512153\n",
      "0.7797212303721229 545.8048612604861 0.14034982146698213\n",
      "0.7797212303721229 545.8048612604861 0.14424842761884274\n",
      "0.7797212303721229 545.8048612604861 0.14814703377070335\n",
      "0.7797212303721229 545.8048612604861 0.15204563992256398\n",
      "0.7797212303721229 623.7769842976984 0.0038986061518606146\n",
      "0.7797212303721229 623.7769842976984 0.007797212303721229\n",
      "0.7797212303721229 623.7769842976984 0.011695818455581843\n",
      "0.7797212303721229 623.7769842976984 0.015594424607442458\n",
      "0.7797212303721229 623.7769842976984 0.019493030759303073\n",
      "0.7797212303721229 623.7769842976984 0.02339163691116369\n",
      "0.7797212303721229 623.7769842976984 0.0272902430630243\n",
      "0.7797212303721229 623.7769842976984 0.031188849214884917\n",
      "0.7797212303721229 623.7769842976984 0.03508745536674553\n",
      "0.7797212303721229 623.7769842976984 0.03898606151860615\n",
      "0.7797212303721229 623.7769842976984 0.04288466767046676\n",
      "0.7797212303721229 623.7769842976984 0.04678327382232737\n",
      "0.7797212303721229 623.7769842976984 0.05068187997418799\n",
      "0.7797212303721229 623.7769842976984 0.054580486126048613\n",
      "0.7797212303721229 623.7769842976984 0.05847909227790923\n",
      "0.7797212303721229 623.7769842976984 0.06237769842976983\n",
      "0.7797212303721229 623.7769842976984 0.06627630458163046\n",
      "0.7797212303721229 623.7769842976984 0.07017491073349107\n",
      "0.7797212303721229 623.7769842976984 0.07407351688535167\n",
      "0.7797212303721229 623.7769842976984 0.0779721230372123\n",
      "0.7797212303721229 623.7769842976984 0.08187072918907291\n",
      "0.7797212303721229 623.7769842976984 0.08576933534093352\n",
      "0.7797212303721229 623.7769842976984 0.08966794149279414\n",
      "0.7797212303721229 623.7769842976984 0.09356654764465476\n",
      "0.7797212303721229 623.7769842976984 0.09746515379651537\n",
      "0.7797212303721229 623.7769842976984 0.10136375994837599\n",
      "0.7797212303721229 623.7769842976984 0.1052623661002366\n",
      "0.7797212303721229 623.7769842976984 0.10916097225209723\n",
      "0.7797212303721229 623.7769842976984 0.11305957840395783\n",
      "0.7797212303721229 623.7769842976984 0.11695818455581844\n",
      "0.7797212303721229 623.7769842976984 0.12085679070767906\n",
      "0.7797212303721229 623.7769842976984 0.12475539685953967\n",
      "0.7797212303721229 623.7769842976984 0.1286540030114003\n",
      "0.7797212303721229 623.7769842976984 0.13255260916326092\n",
      "0.7797212303721229 623.7769842976984 0.13645121531512153\n",
      "0.7797212303721229 623.7769842976984 0.14034982146698213\n",
      "0.7797212303721229 623.7769842976984 0.14424842761884274\n",
      "0.7797212303721229 623.7769842976984 0.14814703377070335\n",
      "0.7797212303721229 623.7769842976984 0.15204563992256398\n",
      "0.7797212303721229 701.7491073349106 0.0038986061518606146\n",
      "0.7797212303721229 701.7491073349106 0.007797212303721229\n",
      "0.7797212303721229 701.7491073349106 0.011695818455581843\n",
      "0.7797212303721229 701.7491073349106 0.015594424607442458\n",
      "0.7797212303721229 701.7491073349106 0.019493030759303073\n",
      "0.7797212303721229 701.7491073349106 0.02339163691116369\n",
      "0.7797212303721229 701.7491073349106 0.0272902430630243\n",
      "0.7797212303721229 701.7491073349106 0.031188849214884917\n",
      "0.7797212303721229 701.7491073349106 0.03508745536674553\n",
      "0.7797212303721229 701.7491073349106 0.03898606151860615\n",
      "0.7797212303721229 701.7491073349106 0.04288466767046676\n",
      "0.7797212303721229 701.7491073349106 0.04678327382232737\n",
      "0.7797212303721229 701.7491073349106 0.05068187997418799\n",
      "0.7797212303721229 701.7491073349106 0.054580486126048613\n",
      "0.7797212303721229 701.7491073349106 0.05847909227790923\n",
      "0.7797212303721229 701.7491073349106 0.06237769842976983\n",
      "0.7797212303721229 701.7491073349106 0.06627630458163046\n",
      "0.7797212303721229 701.7491073349106 0.07017491073349107\n",
      "0.7797212303721229 701.7491073349106 0.07407351688535167\n",
      "0.7797212303721229 701.7491073349106 0.0779721230372123\n",
      "0.7797212303721229 701.7491073349106 0.08187072918907291\n",
      "0.7797212303721229 701.7491073349106 0.08576933534093352\n",
      "0.7797212303721229 701.7491073349106 0.08966794149279414\n",
      "0.7797212303721229 701.7491073349106 0.09356654764465476\n",
      "0.7797212303721229 701.7491073349106 0.09746515379651537\n",
      "0.7797212303721229 701.7491073349106 0.10136375994837599\n",
      "0.7797212303721229 701.7491073349106 0.1052623661002366\n",
      "0.7797212303721229 701.7491073349106 0.10916097225209723\n",
      "0.7797212303721229 701.7491073349106 0.11305957840395783\n",
      "0.7797212303721229 701.7491073349106 0.11695818455581844\n",
      "0.7797212303721229 701.7491073349106 0.12085679070767906\n",
      "0.7797212303721229 701.7491073349106 0.12475539685953967\n",
      "0.7797212303721229 701.7491073349106 0.1286540030114003\n",
      "0.7797212303721229 701.7491073349106 0.13255260916326092\n",
      "0.7797212303721229 701.7491073349106 0.13645121531512153\n",
      "0.7797212303721229 701.7491073349106 0.14034982146698213\n",
      "0.7797212303721229 701.7491073349106 0.14424842761884274\n",
      "0.7797212303721229 701.7491073349106 0.14814703377070335\n",
      "0.7797212303721229 701.7491073349106 0.15204563992256398\n",
      "0.7797212303721229 779.7212303721229 0.0038986061518606146\n",
      "0.7797212303721229 779.7212303721229 0.007797212303721229\n",
      "0.7797212303721229 779.7212303721229 0.011695818455581843\n",
      "0.7797212303721229 779.7212303721229 0.015594424607442458\n",
      "0.7797212303721229 779.7212303721229 0.019493030759303073\n",
      "0.7797212303721229 779.7212303721229 0.02339163691116369\n",
      "0.7797212303721229 779.7212303721229 0.0272902430630243\n",
      "0.7797212303721229 779.7212303721229 0.031188849214884917\n",
      "0.7797212303721229 779.7212303721229 0.03508745536674553\n",
      "0.7797212303721229 779.7212303721229 0.03898606151860615\n",
      "0.7797212303721229 779.7212303721229 0.04288466767046676\n",
      "0.7797212303721229 779.7212303721229 0.04678327382232737\n",
      "0.7797212303721229 779.7212303721229 0.05068187997418799\n",
      "0.7797212303721229 779.7212303721229 0.054580486126048613\n",
      "0.7797212303721229 779.7212303721229 0.05847909227790923\n",
      "0.7797212303721229 779.7212303721229 0.06237769842976983\n",
      "0.7797212303721229 779.7212303721229 0.06627630458163046\n",
      "0.7797212303721229 779.7212303721229 0.07017491073349107\n",
      "0.7797212303721229 779.7212303721229 0.07407351688535167\n",
      "0.7797212303721229 779.7212303721229 0.0779721230372123\n",
      "0.7797212303721229 779.7212303721229 0.08187072918907291\n",
      "0.7797212303721229 779.7212303721229 0.08576933534093352\n",
      "0.7797212303721229 779.7212303721229 0.08966794149279414\n",
      "0.7797212303721229 779.7212303721229 0.09356654764465476\n",
      "0.7797212303721229 779.7212303721229 0.09746515379651537\n",
      "0.7797212303721229 779.7212303721229 0.10136375994837599\n",
      "0.7797212303721229 779.7212303721229 0.1052623661002366\n",
      "0.7797212303721229 779.7212303721229 0.10916097225209723\n",
      "0.7797212303721229 779.7212303721229 0.11305957840395783\n",
      "0.7797212303721229 779.7212303721229 0.11695818455581844\n",
      "0.7797212303721229 779.7212303721229 0.12085679070767906\n",
      "0.7797212303721229 779.7212303721229 0.12475539685953967\n",
      "0.7797212303721229 779.7212303721229 0.1286540030114003\n",
      "0.7797212303721229 779.7212303721229 0.13255260916326092\n",
      "0.7797212303721229 779.7212303721229 0.13645121531512153\n",
      "0.7797212303721229 779.7212303721229 0.14034982146698213\n",
      "0.7797212303721229 779.7212303721229 0.14424842761884274\n",
      "0.7797212303721229 779.7212303721229 0.14814703377070335\n",
      "0.7797212303721229 779.7212303721229 0.15204563992256398\n",
      "0.7797212303721229 857.6933534093353 0.0038986061518606146\n",
      "0.7797212303721229 857.6933534093353 0.007797212303721229\n",
      "0.7797212303721229 857.6933534093353 0.011695818455581843\n",
      "0.7797212303721229 857.6933534093353 0.015594424607442458\n",
      "0.7797212303721229 857.6933534093353 0.019493030759303073\n",
      "0.7797212303721229 857.6933534093353 0.02339163691116369\n",
      "0.7797212303721229 857.6933534093353 0.0272902430630243\n",
      "0.7797212303721229 857.6933534093353 0.031188849214884917\n",
      "0.7797212303721229 857.6933534093353 0.03508745536674553\n",
      "0.7797212303721229 857.6933534093353 0.03898606151860615\n",
      "0.7797212303721229 857.6933534093353 0.04288466767046676\n",
      "0.7797212303721229 857.6933534093353 0.04678327382232737\n"
     ]
    },
    {
     "name": "stdout",
     "output_type": "stream",
     "text": [
      "0.7797212303721229 857.6933534093353 0.05068187997418799\n",
      "0.7797212303721229 857.6933534093353 0.054580486126048613\n",
      "0.7797212303721229 857.6933534093353 0.05847909227790923\n",
      "0.7797212303721229 857.6933534093353 0.06237769842976983\n",
      "0.7797212303721229 857.6933534093353 0.06627630458163046\n",
      "0.7797212303721229 857.6933534093353 0.07017491073349107\n",
      "0.7797212303721229 857.6933534093353 0.07407351688535167\n",
      "0.7797212303721229 857.6933534093353 0.0779721230372123\n",
      "0.7797212303721229 857.6933534093353 0.08187072918907291\n",
      "0.7797212303721229 857.6933534093353 0.08576933534093352\n",
      "0.7797212303721229 857.6933534093353 0.08966794149279414\n",
      "0.7797212303721229 857.6933534093353 0.09356654764465476\n",
      "0.7797212303721229 857.6933534093353 0.09746515379651537\n",
      "0.7797212303721229 857.6933534093353 0.10136375994837599\n",
      "0.7797212303721229 857.6933534093353 0.1052623661002366\n",
      "0.7797212303721229 857.6933534093353 0.10916097225209723\n",
      "0.7797212303721229 857.6933534093353 0.11305957840395783\n",
      "0.7797212303721229 857.6933534093353 0.11695818455581844\n",
      "0.7797212303721229 857.6933534093353 0.12085679070767906\n",
      "0.7797212303721229 857.6933534093353 0.12475539685953967\n",
      "0.7797212303721229 857.6933534093353 0.1286540030114003\n",
      "0.7797212303721229 857.6933534093353 0.13255260916326092\n",
      "0.7797212303721229 857.6933534093353 0.13645121531512153\n",
      "0.7797212303721229 857.6933534093353 0.14034982146698213\n",
      "0.7797212303721229 857.6933534093353 0.14424842761884274\n",
      "0.7797212303721229 857.6933534093353 0.14814703377070335\n",
      "0.7797212303721229 857.6933534093353 0.15204563992256398\n",
      "0.7797212303721229 935.6654764465475 0.0038986061518606146\n",
      "0.7797212303721229 935.6654764465475 0.007797212303721229\n",
      "0.7797212303721229 935.6654764465475 0.011695818455581843\n",
      "0.7797212303721229 935.6654764465475 0.015594424607442458\n",
      "0.7797212303721229 935.6654764465475 0.019493030759303073\n",
      "0.7797212303721229 935.6654764465475 0.02339163691116369\n",
      "0.7797212303721229 935.6654764465475 0.0272902430630243\n",
      "0.7797212303721229 935.6654764465475 0.031188849214884917\n",
      "0.7797212303721229 935.6654764465475 0.03508745536674553\n",
      "0.7797212303721229 935.6654764465475 0.03898606151860615\n",
      "0.7797212303721229 935.6654764465475 0.04288466767046676\n",
      "0.7797212303721229 935.6654764465475 0.04678327382232737\n",
      "0.7797212303721229 935.6654764465475 0.05068187997418799\n",
      "0.7797212303721229 935.6654764465475 0.054580486126048613\n",
      "0.7797212303721229 935.6654764465475 0.05847909227790923\n",
      "0.7797212303721229 935.6654764465475 0.06237769842976983\n",
      "0.7797212303721229 935.6654764465475 0.06627630458163046\n",
      "0.7797212303721229 935.6654764465475 0.07017491073349107\n",
      "0.7797212303721229 935.6654764465475 0.07407351688535167\n",
      "0.7797212303721229 935.6654764465475 0.0779721230372123\n",
      "0.7797212303721229 935.6654764465475 0.08187072918907291\n",
      "0.7797212303721229 935.6654764465475 0.08576933534093352\n",
      "0.7797212303721229 935.6654764465475 0.08966794149279414\n",
      "0.7797212303721229 935.6654764465475 0.09356654764465476\n",
      "0.7797212303721229 935.6654764465475 0.09746515379651537\n",
      "0.7797212303721229 935.6654764465475 0.10136375994837599\n",
      "0.7797212303721229 935.6654764465475 0.1052623661002366\n",
      "0.7797212303721229 935.6654764465475 0.10916097225209723\n",
      "0.7797212303721229 935.6654764465475 0.11305957840395783\n",
      "0.7797212303721229 935.6654764465475 0.11695818455581844\n",
      "0.7797212303721229 935.6654764465475 0.12085679070767906\n",
      "0.7797212303721229 935.6654764465475 0.12475539685953967\n",
      "0.7797212303721229 935.6654764465475 0.1286540030114003\n",
      "0.7797212303721229 935.6654764465475 0.13255260916326092\n",
      "0.7797212303721229 935.6654764465475 0.13645121531512153\n",
      "0.7797212303721229 935.6654764465475 0.14034982146698213\n",
      "0.7797212303721229 935.6654764465475 0.14424842761884274\n",
      "0.7797212303721229 935.6654764465475 0.14814703377070335\n",
      "0.7797212303721229 935.6654764465475 0.15204563992256398\n",
      "0.7797212303721229 1013.6375994837598 0.0038986061518606146\n",
      "0.7797212303721229 1013.6375994837598 0.007797212303721229\n",
      "0.7797212303721229 1013.6375994837598 0.011695818455581843\n",
      "0.7797212303721229 1013.6375994837598 0.015594424607442458\n",
      "0.7797212303721229 1013.6375994837598 0.019493030759303073\n",
      "0.7797212303721229 1013.6375994837598 0.02339163691116369\n",
      "0.7797212303721229 1013.6375994837598 0.0272902430630243\n",
      "0.7797212303721229 1013.6375994837598 0.031188849214884917\n",
      "0.7797212303721229 1013.6375994837598 0.03508745536674553\n",
      "0.7797212303721229 1013.6375994837598 0.03898606151860615\n",
      "0.7797212303721229 1013.6375994837598 0.04288466767046676\n",
      "0.7797212303721229 1013.6375994837598 0.04678327382232737\n",
      "0.7797212303721229 1013.6375994837598 0.05068187997418799\n",
      "0.7797212303721229 1013.6375994837598 0.054580486126048613\n",
      "0.7797212303721229 1013.6375994837598 0.05847909227790923\n",
      "0.7797212303721229 1013.6375994837598 0.06237769842976983\n",
      "0.7797212303721229 1013.6375994837598 0.06627630458163046\n",
      "0.7797212303721229 1013.6375994837598 0.07017491073349107\n",
      "0.7797212303721229 1013.6375994837598 0.07407351688535167\n",
      "0.7797212303721229 1013.6375994837598 0.0779721230372123\n",
      "0.7797212303721229 1013.6375994837598 0.08187072918907291\n",
      "0.7797212303721229 1013.6375994837598 0.08576933534093352\n",
      "0.7797212303721229 1013.6375994837598 0.08966794149279414\n",
      "0.7797212303721229 1013.6375994837598 0.09356654764465476\n",
      "0.7797212303721229 1013.6375994837598 0.09746515379651537\n",
      "0.7797212303721229 1013.6375994837598 0.10136375994837599\n",
      "0.7797212303721229 1013.6375994837598 0.1052623661002366\n",
      "0.7797212303721229 1013.6375994837598 0.10916097225209723\n",
      "0.7797212303721229 1013.6375994837598 0.11305957840395783\n",
      "0.7797212303721229 1013.6375994837598 0.11695818455581844\n",
      "0.7797212303721229 1013.6375994837598 0.12085679070767906\n",
      "0.7797212303721229 1013.6375994837598 0.12475539685953967\n",
      "0.7797212303721229 1013.6375994837598 0.1286540030114003\n",
      "0.7797212303721229 1013.6375994837598 0.13255260916326092\n",
      "0.7797212303721229 1013.6375994837598 0.13645121531512153\n",
      "0.7797212303721229 1013.6375994837598 0.14034982146698213\n",
      "0.7797212303721229 1013.6375994837598 0.14424842761884274\n",
      "0.7797212303721229 1013.6375994837598 0.14814703377070335\n",
      "0.7797212303721229 1013.6375994837598 0.15204563992256398\n"
     ]
    }
   ],
   "source": [
    "results = []\n",
    "for b in range(0, 1400, 100):\n",
    "    for c in np.arange(0.005, 0.2, 0.005):\n",
    "        results.append(bat_sim(nrg_df.target_losses_norm, b = b, c = c, initial_charge=b/4))"
   ]
  },
  {
   "cell_type": "code",
   "execution_count": 62,
   "metadata": {
    "ExecuteTime": {
     "end_time": "2020-07-30T19:26:03.055619Z",
     "start_time": "2020-07-30T19:26:02.199324Z"
    }
   },
   "outputs": [],
   "source": [
    "# with open('files/battery_overview.p', 'wb') as f:\n",
    "#     pickle.dump(results, f)"
   ]
  },
  {
   "cell_type": "code",
   "execution_count": 60,
   "metadata": {
    "ExecuteTime": {
     "end_time": "2020-07-30T19:25:51.521075Z",
     "start_time": "2020-07-30T19:25:50.750852Z"
    }
   },
   "outputs": [],
   "source": [
    "with open('files/battery_overview.p', 'rb') as f:\n",
    "    results = pickle.load(f)"
   ]
  },
  {
   "cell_type": "code",
   "execution_count": 69,
   "metadata": {
    "ExecuteTime": {
     "end_time": "2020-07-30T21:09:01.907009Z",
     "start_time": "2020-07-30T21:09:01.903006Z"
    }
   },
   "outputs": [
    {
     "data": {
      "text/plain": [
       "True"
      ]
     },
     "execution_count": 69,
     "metadata": {},
     "output_type": "execute_result"
    }
   ],
   "source": [
    "14*39 == len(results)"
   ]
  },
  {
   "cell_type": "code",
   "execution_count": 70,
   "metadata": {
    "ExecuteTime": {
     "end_time": "2020-07-30T21:09:05.665964Z",
     "start_time": "2020-07-30T21:09:05.660950Z"
    }
   },
   "outputs": [
    {
     "data": {
      "text/plain": [
       "0.8341111582520153"
      ]
     },
     "execution_count": 70,
     "metadata": {},
     "output_type": "execute_result"
    }
   ],
   "source": [
    "results[0].battery_charge.mean()"
   ]
  },
  {
   "cell_type": "code",
   "execution_count": 71,
   "metadata": {
    "ExecuteTime": {
     "end_time": "2020-07-30T21:09:09.555489Z",
     "start_time": "2020-07-30T21:09:09.357856Z"
    }
   },
   "outputs": [],
   "source": [
    "overview_battery_charge = []\n",
    "overview_consumption = []\n",
    "for i in range(14):\n",
    "    overview_battery_charge.append([results[j].battery_charge.mean() for j in range(i*39, (i+1)*39)])\n",
    "    overview_consumption.append([results[j].consumption.mean() for j in range(i*39, (i+1)*39)])"
   ]
  },
  {
   "cell_type": "code",
   "execution_count": 84,
   "metadata": {
    "ExecuteTime": {
     "end_time": "2020-07-30T21:20:00.055839Z",
     "start_time": "2020-07-30T21:19:59.807099Z"
    }
   },
   "outputs": [
    {
     "data": {
      "text/plain": [
       "<matplotlib.axes._subplots.AxesSubplot at 0x22c012a9a48>"
      ]
     },
     "execution_count": 84,
     "metadata": {},
     "output_type": "execute_result"
    },
    {
     "data": {
      "image/png": "[encoded data removed]",
      "text/plain": [
       "<Figure size 432x288 with 2 Axes>"
      ]
     },
     "metadata": {
      "needs_background": "light"
     },
     "output_type": "display_data"
    }
   ],
   "source": [
    "sns.heatmap(overview_battery_charge[1:], vmin = 0, vmax = 1)"
   ]
  },
  {
   "cell_type": "code",
   "execution_count": 81,
   "metadata": {
    "ExecuteTime": {
     "end_time": "2020-07-30T21:18:35.205072Z",
     "start_time": "2020-07-30T21:18:35.015901Z"
    }
   },
   "outputs": [
    {
     "data": {
      "text/plain": [
       "<matplotlib.axes._subplots.AxesSubplot at 0x22c07a5f788>"
      ]
     },
     "execution_count": 81,
     "metadata": {},
     "output_type": "execute_result"
    },
    {
     "data": {
      "image/png": "[encoded data removed]",
      "text/plain": [
       "<Figure size 432x288 with 1 Axes>"
      ]
     },
     "metadata": {
      "needs_background": "light"
     },
     "output_type": "display_data"
    }
   ],
   "source": [
    "results[5].consumption[:10000].plot()"
   ]
  },
  {
   "cell_type": "code",
   "execution_count": 85,
   "metadata": {
    "ExecuteTime": {
     "end_time": "2020-07-30T21:26:56.968158Z",
     "start_time": "2020-07-30T21:26:56.799498Z"
    }
   },
   "outputs": [
    {
     "data": {
      "text/plain": [
       "<matplotlib.axes._subplots.AxesSubplot at 0x22c657fd448>"
      ]
     },
     "execution_count": 85,
     "metadata": {},
     "output_type": "execute_result"
    },
    {
     "data": {
      "image/png": "[encoded data removed]",
      "text/plain": [
       "<Figure size 432x288 with 1 Axes>"
      ]
     },
     "metadata": {
      "needs_background": "light"
     },
     "output_type": "display_data"
    }
   ],
   "source": [
    "results[10].consumption[:10000].plot()"
   ]
  },
  {
   "cell_type": "code",
   "execution_count": 86,
   "metadata": {
    "ExecuteTime": {
     "end_time": "2020-07-30T21:27:10.749647Z",
     "start_time": "2020-07-30T21:27:10.582980Z"
    }
   },
   "outputs": [
    {
     "data": {
      "text/plain": [
       "<matplotlib.axes._subplots.AxesSubplot at 0x22c695d3dc8>"
      ]
     },
     "execution_count": 86,
     "metadata": {},
     "output_type": "execute_result"
    },
    {
     "data": {
      "image/png": "[encoded data removed]",
      "text/plain": [
       "<Figure size 432x288 with 1 Axes>"
      ]
     },
     "metadata": {
      "needs_background": "light"
     },
     "output_type": "display_data"
    }
   ],
   "source": [
    "results[15].consumption[:10000].plot()"
   ]
  },
  {
   "cell_type": "code",
   "execution_count": 67,
   "metadata": {
    "ExecuteTime": {
     "end_time": "2020-07-30T19:27:58.498578Z",
     "start_time": "2020-07-30T19:27:58.246341Z"
    }
   },
   "outputs": [
    {
     "data": {
      "text/plain": [
       "<matplotlib.axes._subplots.AxesSubplot at 0x22c68244108>"
      ]
     },
     "execution_count": 67,
     "metadata": {},
     "output_type": "execute_result"
    },
    {
     "data": {
      "image/png": "[encoded data removed]",
      "text/plain": [
       "<Figure size 432x288 with 2 Axes>"
      ]
     },
     "metadata": {
      "needs_background": "light"
     },
     "output_type": "display_data"
    }
   ],
   "source": [
    "sns.heatmap(overview_consumption, vmin = 0, vmax = 1)"
   ]
  },
  {
   "cell_type": "markdown",
   "metadata": {},
   "source": [
    "# Creating a Model"
   ]
  },
  {
   "cell_type": "code",
   "execution_count": null,
   "metadata": {
    "ExecuteTime": {
     "end_time": "2020-07-27T13:01:21.606422Z",
     "start_time": "2020-07-27T13:01:21.597421Z"
    }
   },
   "outputs": [],
   "source": []
  },
  {
   "cell_type": "code",
   "execution_count": null,
   "metadata": {},
   "outputs": [],
   "source": []
  }
 ],
 "metadata": {
  "kernelspec": {
   "display_name": "Python 3",
   "language": "python",
   "name": "python3"
  },
  "language_info": {
   "codemirror_mode": {
    "name": "ipython",
    "version": 3
   },
   "file_extension": ".py",
   "mimetype": "text/x-python",
   "name": "python",
   "nbconvert_exporter": "python",
   "pygments_lexer": "ipython3",
   "version": "3.7.6"
  },
  "latex_envs": {
   "LaTeX_envs_menu_present": true,
   "autoclose": false,
   "autocomplete": true,
   "bibliofile": "biblio.bib",
   "cite_by": "apalike",
   "current_citInitial": 1,
   "eqLabelWithNumbers": true,
   "eqNumInitial": 1,
   "hotkeys": {
    "equation": "Ctrl-E",
    "itemize": "Ctrl-I"
   },
   "labels_anchors": false,
   "latex_user_defs": false,
   "report_style_numbering": false,
   "user_envs_cfg": false
  },
  "toc": {
   "base_numbering": 1,
   "nav_menu": {},
   "number_sections": true,
   "sideBar": true,
   "skip_h1_title": false,
   "title_cell": "Table of Contents",
   "title_sidebar": "Contents",
   "toc_cell": false,
   "toc_position": {
    "height": "calc(100% - 180px)",
    "left": "10px",
    "top": "150px",
    "width": "258.977px"
   },
   "toc_section_display": true,
   "toc_window_display": true
  },
  "varInspector": {
   "cols": {
    "lenName": 16,
    "lenType": 16,
    "lenVar": 40
   },
   "kernels_config": {
    "python": {
     "delete_cmd_postfix": "",
     "delete_cmd_prefix": "del ",
     "library": "var_list.py",
     "varRefreshCmd": "print(var_dic_list())"
    },
    "r": {
     "delete_cmd_postfix": ") ",
     "delete_cmd_prefix": "rm(",
     "library": "var_list.r",
     "varRefreshCmd": "cat(var_dic_list()) "
    }
   },
   "types_to_exclude": [
    "module",
    "function",
    "builtin_function_or_method",
    "instance",
    "_Feature"
   ],
   "window_display": false
  }
 },
 "nbformat": 4,
 "nbformat_minor": 4
}
